{
 "cells": [
  {
   "cell_type": "code",
   "execution_count": 1,
   "metadata": {},
   "outputs": [],
   "source": [
    "import warnings\n",
    "warnings.filterwarnings('ignore')\n",
    "import pandas as pd\n",
    "import numpy as np\n",
    "np.random.seed(0)\n",
    "import matplotlib.pyplot as plt\n",
    "%matplotlib inline\n",
    "from sklearn.model_selection import train_test_split, cross_val_score\n",
    "from sklearn.preprocessing import StandardScaler\n",
    "from sklearn.ensemble import AdaBoostClassifier, GradientBoostingClassifier\n",
    "from sklearn.metrics import accuracy_score, f1_score, confusion_matrix, classification_report\n",
    "from sklearn.feature_selection import VarianceThreshold"
   ]
  },
  {
   "cell_type": "code",
   "execution_count": 3,
   "metadata": {},
   "outputs": [
    {
     "data": {
      "text/html": [
       "<div>\n",
       "<style scoped>\n",
       "    .dataframe tbody tr th:only-of-type {\n",
       "        vertical-align: middle;\n",
       "    }\n",
       "\n",
       "    .dataframe tbody tr th {\n",
       "        vertical-align: top;\n",
       "    }\n",
       "\n",
       "    .dataframe thead th {\n",
       "        text-align: right;\n",
       "    }\n",
       "</style>\n",
       "<table border=\"1\" class=\"dataframe\">\n",
       "  <thead>\n",
       "    <tr style=\"text-align: right;\">\n",
       "      <th></th>\n",
       "      <th>adsh</th>\n",
       "      <th>fraud</th>\n",
       "      <th>ddate</th>\n",
       "      <th>AccountsReceivable</th>\n",
       "      <th>Cash</th>\n",
       "      <th>CashFlowfromOps</th>\n",
       "      <th>OtherIncome</th>\n",
       "      <th>sum_of_first_digits</th>\n",
       "      <th>total_deviation</th>\n",
       "      <th>CurrentRatio</th>\n",
       "      <th>DebtToEquityRatio</th>\n",
       "      <th>ProfitMargin</th>\n",
       "      <th>ReceivableTurnover</th>\n",
       "      <th>AQI</th>\n",
       "      <th>DEPI</th>\n",
       "      <th>TATA</th>\n",
       "    </tr>\n",
       "  </thead>\n",
       "  <tbody>\n",
       "    <tr>\n",
       "      <th>0</th>\n",
       "      <td>0000002178-18-000009</td>\n",
       "      <td>0.0</td>\n",
       "      <td>20161231.0</td>\n",
       "      <td>106756000.0</td>\n",
       "      <td>7.875000e+07</td>\n",
       "      <td>6504000.0</td>\n",
       "      <td>4.700000e+06</td>\n",
       "      <td>944</td>\n",
       "      <td>0.002008</td>\n",
       "      <td>5.928878</td>\n",
       "      <td>0.539227</td>\n",
       "      <td>0.229387</td>\n",
       "      <td>26.298456</td>\n",
       "      <td>0.000000</td>\n",
       "      <td>0.316076</td>\n",
       "      <td>0.559690</td>\n",
       "    </tr>\n",
       "    <tr>\n",
       "      <th>1</th>\n",
       "      <td>0000002488-18-000042</td>\n",
       "      <td>0.0</td>\n",
       "      <td>20161231.0</td>\n",
       "      <td>126000000.0</td>\n",
       "      <td>2.010000e+09</td>\n",
       "      <td>90000000.0</td>\n",
       "      <td>1.559000e+09</td>\n",
       "      <td>1162</td>\n",
       "      <td>0.003766</td>\n",
       "      <td>5.913464</td>\n",
       "      <td>1.464384</td>\n",
       "      <td>0.332087</td>\n",
       "      <td>78.555556</td>\n",
       "      <td>0.036223</td>\n",
       "      <td>0.261277</td>\n",
       "      <td>0.122158</td>\n",
       "    </tr>\n",
       "    <tr>\n",
       "      <th>2</th>\n",
       "      <td>0000002969-18-000014</td>\n",
       "      <td>0.0</td>\n",
       "      <td>20161231.0</td>\n",
       "      <td>-57400000.0</td>\n",
       "      <td>5.735000e+08</td>\n",
       "      <td>525400000.0</td>\n",
       "      <td>-7.588000e+08</td>\n",
       "      <td>596</td>\n",
       "      <td>0.008125</td>\n",
       "      <td>60.201923</td>\n",
       "      <td>0.003057</td>\n",
       "      <td>0.156600</td>\n",
       "      <td>-32.796167</td>\n",
       "      <td>0.000000</td>\n",
       "      <td>0.320778</td>\n",
       "      <td>-0.217035</td>\n",
       "    </tr>\n",
       "    <tr>\n",
       "      <th>3</th>\n",
       "      <td>0000003499-18-000006</td>\n",
       "      <td>0.0</td>\n",
       "      <td>20161231.0</td>\n",
       "      <td>182581000.0</td>\n",
       "      <td>8.456940e+08</td>\n",
       "      <td>130820000.0</td>\n",
       "      <td>0.000000e+00</td>\n",
       "      <td>660</td>\n",
       "      <td>0.023214</td>\n",
       "      <td>2.267681</td>\n",
       "      <td>0.822055</td>\n",
       "      <td>0.270854</td>\n",
       "      <td>2.385971</td>\n",
       "      <td>0.000000</td>\n",
       "      <td>0.367267</td>\n",
       "      <td>-0.002388</td>\n",
       "    </tr>\n",
       "    <tr>\n",
       "      <th>4</th>\n",
       "      <td>0000003545-18-000021</td>\n",
       "      <td>0.0</td>\n",
       "      <td>20161231.0</td>\n",
       "      <td>7177000.0</td>\n",
       "      <td>-6.183000e+06</td>\n",
       "      <td>-16890000.0</td>\n",
       "      <td>2.194500e+07</td>\n",
       "      <td>400</td>\n",
       "      <td>0.034988</td>\n",
       "      <td>-0.191167</td>\n",
       "      <td>2.353128</td>\n",
       "      <td>0.903325</td>\n",
       "      <td>4.538526</td>\n",
       "      <td>0.000000</td>\n",
       "      <td>0.370623</td>\n",
       "      <td>6.116482</td>\n",
       "    </tr>\n",
       "  </tbody>\n",
       "</table>\n",
       "</div>"
      ],
      "text/plain": [
       "                   adsh  fraud       ddate  AccountsReceivable          Cash  \\\n",
       "0  0000002178-18-000009    0.0  20161231.0         106756000.0  7.875000e+07   \n",
       "1  0000002488-18-000042    0.0  20161231.0         126000000.0  2.010000e+09   \n",
       "2  0000002969-18-000014    0.0  20161231.0         -57400000.0  5.735000e+08   \n",
       "3  0000003499-18-000006    0.0  20161231.0         182581000.0  8.456940e+08   \n",
       "4  0000003545-18-000021    0.0  20161231.0           7177000.0 -6.183000e+06   \n",
       "\n",
       "   CashFlowfromOps   OtherIncome  sum_of_first_digits  total_deviation  \\\n",
       "0        6504000.0  4.700000e+06                  944         0.002008   \n",
       "1       90000000.0  1.559000e+09                 1162         0.003766   \n",
       "2      525400000.0 -7.588000e+08                  596         0.008125   \n",
       "3      130820000.0  0.000000e+00                  660         0.023214   \n",
       "4      -16890000.0  2.194500e+07                  400         0.034988   \n",
       "\n",
       "   CurrentRatio  DebtToEquityRatio  ProfitMargin  ReceivableTurnover  \\\n",
       "0      5.928878           0.539227      0.229387           26.298456   \n",
       "1      5.913464           1.464384      0.332087           78.555556   \n",
       "2     60.201923           0.003057      0.156600          -32.796167   \n",
       "3      2.267681           0.822055      0.270854            2.385971   \n",
       "4     -0.191167           2.353128      0.903325            4.538526   \n",
       "\n",
       "        AQI      DEPI      TATA  \n",
       "0  0.000000  0.316076  0.559690  \n",
       "1  0.036223  0.261277  0.122158  \n",
       "2  0.000000  0.320778 -0.217035  \n",
       "3  0.000000  0.367267 -0.002388  \n",
       "4  0.000000  0.370623  6.116482  "
      ]
     },
     "execution_count": 3,
     "metadata": {},
     "output_type": "execute_result"
    }
   ],
   "source": [
    "df = pd.read_csv('739to4000_with_tags,KL_divergence,FinRatios,features_lessthan50%_selected.csv')\n",
    "df.head()"
   ]
  },
  {
   "cell_type": "code",
   "execution_count": 4,
   "metadata": {},
   "outputs": [],
   "source": [
    "target = df.fraud"
   ]
  },
  {
   "cell_type": "code",
   "execution_count": 5,
   "metadata": {},
   "outputs": [
    {
     "data": {
      "text/html": [
       "<div>\n",
       "<style scoped>\n",
       "    .dataframe tbody tr th:only-of-type {\n",
       "        vertical-align: middle;\n",
       "    }\n",
       "\n",
       "    .dataframe tbody tr th {\n",
       "        vertical-align: top;\n",
       "    }\n",
       "\n",
       "    .dataframe thead th {\n",
       "        text-align: right;\n",
       "    }\n",
       "</style>\n",
       "<table border=\"1\" class=\"dataframe\">\n",
       "  <thead>\n",
       "    <tr style=\"text-align: right;\">\n",
       "      <th></th>\n",
       "      <th>AccountsReceivable</th>\n",
       "      <th>Cash</th>\n",
       "      <th>CashFlowfromOps</th>\n",
       "      <th>OtherIncome</th>\n",
       "      <th>sum_of_first_digits</th>\n",
       "      <th>total_deviation</th>\n",
       "      <th>CurrentRatio</th>\n",
       "      <th>DebtToEquityRatio</th>\n",
       "      <th>ProfitMargin</th>\n",
       "      <th>ReceivableTurnover</th>\n",
       "      <th>AQI</th>\n",
       "      <th>DEPI</th>\n",
       "      <th>TATA</th>\n",
       "    </tr>\n",
       "  </thead>\n",
       "  <tbody>\n",
       "    <tr>\n",
       "      <th>0</th>\n",
       "      <td>106756000.0</td>\n",
       "      <td>7.875000e+07</td>\n",
       "      <td>6504000.0</td>\n",
       "      <td>4.700000e+06</td>\n",
       "      <td>944</td>\n",
       "      <td>0.002008</td>\n",
       "      <td>5.928878</td>\n",
       "      <td>0.539227</td>\n",
       "      <td>0.229387</td>\n",
       "      <td>26.298456</td>\n",
       "      <td>0.000000</td>\n",
       "      <td>0.316076</td>\n",
       "      <td>0.559690</td>\n",
       "    </tr>\n",
       "    <tr>\n",
       "      <th>1</th>\n",
       "      <td>126000000.0</td>\n",
       "      <td>2.010000e+09</td>\n",
       "      <td>90000000.0</td>\n",
       "      <td>1.559000e+09</td>\n",
       "      <td>1162</td>\n",
       "      <td>0.003766</td>\n",
       "      <td>5.913464</td>\n",
       "      <td>1.464384</td>\n",
       "      <td>0.332087</td>\n",
       "      <td>78.555556</td>\n",
       "      <td>0.036223</td>\n",
       "      <td>0.261277</td>\n",
       "      <td>0.122158</td>\n",
       "    </tr>\n",
       "    <tr>\n",
       "      <th>2</th>\n",
       "      <td>-57400000.0</td>\n",
       "      <td>5.735000e+08</td>\n",
       "      <td>525400000.0</td>\n",
       "      <td>-7.588000e+08</td>\n",
       "      <td>596</td>\n",
       "      <td>0.008125</td>\n",
       "      <td>60.201923</td>\n",
       "      <td>0.003057</td>\n",
       "      <td>0.156600</td>\n",
       "      <td>-32.796167</td>\n",
       "      <td>0.000000</td>\n",
       "      <td>0.320778</td>\n",
       "      <td>-0.217035</td>\n",
       "    </tr>\n",
       "    <tr>\n",
       "      <th>3</th>\n",
       "      <td>182581000.0</td>\n",
       "      <td>8.456940e+08</td>\n",
       "      <td>130820000.0</td>\n",
       "      <td>0.000000e+00</td>\n",
       "      <td>660</td>\n",
       "      <td>0.023214</td>\n",
       "      <td>2.267681</td>\n",
       "      <td>0.822055</td>\n",
       "      <td>0.270854</td>\n",
       "      <td>2.385971</td>\n",
       "      <td>0.000000</td>\n",
       "      <td>0.367267</td>\n",
       "      <td>-0.002388</td>\n",
       "    </tr>\n",
       "    <tr>\n",
       "      <th>4</th>\n",
       "      <td>7177000.0</td>\n",
       "      <td>-6.183000e+06</td>\n",
       "      <td>-16890000.0</td>\n",
       "      <td>2.194500e+07</td>\n",
       "      <td>400</td>\n",
       "      <td>0.034988</td>\n",
       "      <td>-0.191167</td>\n",
       "      <td>2.353128</td>\n",
       "      <td>0.903325</td>\n",
       "      <td>4.538526</td>\n",
       "      <td>0.000000</td>\n",
       "      <td>0.370623</td>\n",
       "      <td>6.116482</td>\n",
       "    </tr>\n",
       "  </tbody>\n",
       "</table>\n",
       "</div>"
      ],
      "text/plain": [
       "   AccountsReceivable          Cash  CashFlowfromOps   OtherIncome  \\\n",
       "0         106756000.0  7.875000e+07        6504000.0  4.700000e+06   \n",
       "1         126000000.0  2.010000e+09       90000000.0  1.559000e+09   \n",
       "2         -57400000.0  5.735000e+08      525400000.0 -7.588000e+08   \n",
       "3         182581000.0  8.456940e+08      130820000.0  0.000000e+00   \n",
       "4           7177000.0 -6.183000e+06      -16890000.0  2.194500e+07   \n",
       "\n",
       "   sum_of_first_digits  total_deviation  CurrentRatio  DebtToEquityRatio  \\\n",
       "0                  944         0.002008      5.928878           0.539227   \n",
       "1                 1162         0.003766      5.913464           1.464384   \n",
       "2                  596         0.008125     60.201923           0.003057   \n",
       "3                  660         0.023214      2.267681           0.822055   \n",
       "4                  400         0.034988     -0.191167           2.353128   \n",
       "\n",
       "   ProfitMargin  ReceivableTurnover       AQI      DEPI      TATA  \n",
       "0      0.229387           26.298456  0.000000  0.316076  0.559690  \n",
       "1      0.332087           78.555556  0.036223  0.261277  0.122158  \n",
       "2      0.156600          -32.796167  0.000000  0.320778 -0.217035  \n",
       "3      0.270854            2.385971  0.000000  0.367267 -0.002388  \n",
       "4      0.903325            4.538526  0.000000  0.370623  6.116482  "
      ]
     },
     "execution_count": 5,
     "metadata": {},
     "output_type": "execute_result"
    }
   ],
   "source": [
    "df = df.drop(['adsh','ddate','fraud'], axis=1)\n",
    "df.head()"
   ]
  },
  {
   "cell_type": "code",
   "execution_count": 6,
   "metadata": {},
   "outputs": [
    {
     "data": {
      "text/html": [
       "<div>\n",
       "<style scoped>\n",
       "    .dataframe tbody tr th:only-of-type {\n",
       "        vertical-align: middle;\n",
       "    }\n",
       "\n",
       "    .dataframe tbody tr th {\n",
       "        vertical-align: top;\n",
       "    }\n",
       "\n",
       "    .dataframe thead th {\n",
       "        text-align: right;\n",
       "    }\n",
       "</style>\n",
       "<table border=\"1\" class=\"dataframe\">\n",
       "  <thead>\n",
       "    <tr style=\"text-align: right;\">\n",
       "      <th></th>\n",
       "      <th>AccountsReceivable</th>\n",
       "      <th>Cash</th>\n",
       "      <th>CashFlowfromOps</th>\n",
       "      <th>OtherIncome</th>\n",
       "      <th>sum_of_first_digits</th>\n",
       "      <th>total_deviation</th>\n",
       "      <th>CurrentRatio</th>\n",
       "      <th>DebtToEquityRatio</th>\n",
       "      <th>ProfitMargin</th>\n",
       "      <th>ReceivableTurnover</th>\n",
       "      <th>AQI</th>\n",
       "      <th>DEPI</th>\n",
       "      <th>TATA</th>\n",
       "    </tr>\n",
       "  </thead>\n",
       "  <tbody>\n",
       "    <tr>\n",
       "      <th>0</th>\n",
       "      <td>-0.049149</td>\n",
       "      <td>-0.047866</td>\n",
       "      <td>-0.188882</td>\n",
       "      <td>-0.066630</td>\n",
       "      <td>-0.002642</td>\n",
       "      <td>-0.433615</td>\n",
       "      <td>-0.013285</td>\n",
       "      <td>-0.013332</td>\n",
       "      <td>0.027361</td>\n",
       "      <td>-0.015921</td>\n",
       "      <td>-0.225344</td>\n",
       "      <td>0.271118</td>\n",
       "      <td>0.043936</td>\n",
       "    </tr>\n",
       "    <tr>\n",
       "      <th>1</th>\n",
       "      <td>-0.049063</td>\n",
       "      <td>0.039445</td>\n",
       "      <td>-0.155622</td>\n",
       "      <td>-0.040274</td>\n",
       "      <td>0.351155</td>\n",
       "      <td>-0.370117</td>\n",
       "      <td>-0.013285</td>\n",
       "      <td>-0.013332</td>\n",
       "      <td>0.027402</td>\n",
       "      <td>0.026730</td>\n",
       "      <td>-0.124785</td>\n",
       "      <td>0.171077</td>\n",
       "      <td>-0.007698</td>\n",
       "    </tr>\n",
       "    <tr>\n",
       "      <th>2</th>\n",
       "      <td>-0.049886</td>\n",
       "      <td>-0.025498</td>\n",
       "      <td>0.017818</td>\n",
       "      <td>-0.079576</td>\n",
       "      <td>-0.567419</td>\n",
       "      <td>-0.212703</td>\n",
       "      <td>-0.013285</td>\n",
       "      <td>-0.013332</td>\n",
       "      <td>0.027331</td>\n",
       "      <td>-0.064152</td>\n",
       "      <td>-0.225344</td>\n",
       "      <td>0.279702</td>\n",
       "      <td>-0.047727</td>\n",
       "    </tr>\n",
       "    <tr>\n",
       "      <th>3</th>\n",
       "      <td>-0.048809</td>\n",
       "      <td>-0.013192</td>\n",
       "      <td>-0.139362</td>\n",
       "      <td>-0.066710</td>\n",
       "      <td>-0.463552</td>\n",
       "      <td>0.332228</td>\n",
       "      <td>-0.013285</td>\n",
       "      <td>-0.013332</td>\n",
       "      <td>0.027377</td>\n",
       "      <td>-0.035438</td>\n",
       "      <td>-0.225344</td>\n",
       "      <td>0.364571</td>\n",
       "      <td>-0.022396</td>\n",
       "    </tr>\n",
       "    <tr>\n",
       "      <th>4</th>\n",
       "      <td>-0.049596</td>\n",
       "      <td>-0.051705</td>\n",
       "      <td>-0.198201</td>\n",
       "      <td>-0.066337</td>\n",
       "      <td>-0.885512</td>\n",
       "      <td>0.757414</td>\n",
       "      <td>-0.013285</td>\n",
       "      <td>-0.013332</td>\n",
       "      <td>0.027631</td>\n",
       "      <td>-0.033681</td>\n",
       "      <td>-0.225344</td>\n",
       "      <td>0.370698</td>\n",
       "      <td>0.699700</td>\n",
       "    </tr>\n",
       "  </tbody>\n",
       "</table>\n",
       "</div>"
      ],
      "text/plain": [
       "   AccountsReceivable      Cash  CashFlowfromOps  OtherIncome  \\\n",
       "0           -0.049149 -0.047866        -0.188882    -0.066630   \n",
       "1           -0.049063  0.039445        -0.155622    -0.040274   \n",
       "2           -0.049886 -0.025498         0.017818    -0.079576   \n",
       "3           -0.048809 -0.013192        -0.139362    -0.066710   \n",
       "4           -0.049596 -0.051705        -0.198201    -0.066337   \n",
       "\n",
       "   sum_of_first_digits  total_deviation  CurrentRatio  DebtToEquityRatio  \\\n",
       "0            -0.002642        -0.433615     -0.013285          -0.013332   \n",
       "1             0.351155        -0.370117     -0.013285          -0.013332   \n",
       "2            -0.567419        -0.212703     -0.013285          -0.013332   \n",
       "3            -0.463552         0.332228     -0.013285          -0.013332   \n",
       "4            -0.885512         0.757414     -0.013285          -0.013332   \n",
       "\n",
       "   ProfitMargin  ReceivableTurnover       AQI      DEPI      TATA  \n",
       "0      0.027361           -0.015921 -0.225344  0.271118  0.043936  \n",
       "1      0.027402            0.026730 -0.124785  0.171077 -0.007698  \n",
       "2      0.027331           -0.064152 -0.225344  0.279702 -0.047727  \n",
       "3      0.027377           -0.035438 -0.225344  0.364571 -0.022396  \n",
       "4      0.027631           -0.033681 -0.225344  0.370698  0.699700  "
      ]
     },
     "execution_count": 6,
     "metadata": {},
     "output_type": "execute_result"
    }
   ],
   "source": [
    "scaler = StandardScaler()\n",
    "scaled_df = pd.DataFrame(scaler.fit_transform(df), columns=df.columns)\n",
    "scaled_df.head()"
   ]
  },
  {
   "cell_type": "code",
   "execution_count": 7,
   "metadata": {},
   "outputs": [],
   "source": [
    "X_train, X_test, y_train, y_test = train_test_split(scaled_df, target, test_size=0.25)"
   ]
  },
  {
   "cell_type": "code",
   "execution_count": 8,
   "metadata": {},
   "outputs": [],
   "source": [
    "adaboost_clf = AdaBoostClassifier()\n",
    "gbt_clf = GradientBoostingClassifier(learning_rate=0.1, max_depth=10,\n",
    "                                    max_features=0.35000000000000003, min_samples_leaf=10, min_samples_split=5, \n",
    "                                     n_estimators=100, subsample=0.7500000000000001)"
   ]
  },
  {
   "cell_type": "code",
   "execution_count": 9,
   "metadata": {},
   "outputs": [
    {
     "data": {
      "text/plain": [
       "AdaBoostClassifier(algorithm='SAMME.R', base_estimator=None,\n",
       "          learning_rate=1.0, n_estimators=50, random_state=None)"
      ]
     },
     "execution_count": 9,
     "metadata": {},
     "output_type": "execute_result"
    }
   ],
   "source": [
    "adaboost_clf.fit(X_train, y_train)"
   ]
  },
  {
   "cell_type": "code",
   "execution_count": 10,
   "metadata": {},
   "outputs": [
    {
     "data": {
      "text/plain": [
       "GradientBoostingClassifier(criterion='friedman_mse', init=None,\n",
       "              learning_rate=0.1, loss='deviance', max_depth=10,\n",
       "              max_features=0.35000000000000003, max_leaf_nodes=None,\n",
       "              min_impurity_decrease=0.0, min_impurity_split=None,\n",
       "              min_samples_leaf=10, min_samples_split=5,\n",
       "              min_weight_fraction_leaf=0.0, n_estimators=100,\n",
       "              n_iter_no_change=None, presort='auto', random_state=None,\n",
       "              subsample=0.7500000000000001, tol=0.0001,\n",
       "              validation_fraction=0.1, verbose=0, warm_start=False)"
      ]
     },
     "execution_count": 10,
     "metadata": {},
     "output_type": "execute_result"
    }
   ],
   "source": [
    "gbt_clf.fit(X_train.as_matrix(), y_train.as_matrix())"
   ]
  },
  {
   "cell_type": "code",
   "execution_count": 11,
   "metadata": {},
   "outputs": [],
   "source": [
    "adaboost_train_preds = adaboost_clf.predict(X_train)\n",
    "adaboost_test_preds = adaboost_clf.predict(X_test)\n",
    "gbt_clf_train_preds = gbt_clf.predict(X_train)\n",
    "gbt_clf_test_preds = gbt_clf.predict(X_test)"
   ]
  },
  {
   "cell_type": "code",
   "execution_count": 12,
   "metadata": {},
   "outputs": [
    {
     "name": "stdout",
     "output_type": "stream",
     "text": [
      "Training Metrics\n",
      "Model: AdaBoost\n",
      "Accuracy: 0.9336547291092746\n",
      "F1-Score: 0.7005181347150259\n",
      "\n",
      "Model: Gradient Boosted Trees\n",
      "Accuracy: 0.9979338842975206\n",
      "F1-Score: 0.9917657822506861\n",
      "\n",
      "Testing Metrics\n",
      "Model: AdaBoost\n",
      "Accuracy: 0.9166666666666666\n",
      "F1-Score: 0.6430678466076696\n",
      "\n",
      "Model: Gradient Boosted Trees\n",
      "Accuracy: 0.9614325068870524\n",
      "F1-Score: 0.8444444444444443\n"
     ]
    }
   ],
   "source": [
    "def display_acc_and_f1_score(true, preds, model_name):\n",
    "    acc = accuracy_score(true, preds)\n",
    "    f1 = f1_score(true, preds)\n",
    "    print(\"Model: {}\".format(model_name))\n",
    "    print(\"Accuracy: {}\".format(acc))\n",
    "    print(\"F1-Score: {}\".format(f1))\n",
    "    \n",
    "print(\"Training Metrics\")\n",
    "display_acc_and_f1_score(y_train, adaboost_train_preds, model_name='AdaBoost')\n",
    "print(\"\")\n",
    "display_acc_and_f1_score(y_train, gbt_clf_train_preds, model_name='Gradient Boosted Trees')\n",
    "print(\"\")\n",
    "print(\"Testing Metrics\")\n",
    "display_acc_and_f1_score(y_test, adaboost_test_preds, model_name='AdaBoost')\n",
    "print(\"\")\n",
    "display_acc_and_f1_score(y_test, gbt_clf_test_preds, model_name='Gradient Boosted Trees')\n"
   ]
  },
  {
   "cell_type": "code",
   "execution_count": 13,
   "metadata": {},
   "outputs": [
    {
     "data": {
      "text/plain": [
       "array([[1222,   36],\n",
       "       [  85,  109]])"
      ]
     },
     "execution_count": 13,
     "metadata": {},
     "output_type": "execute_result"
    }
   ],
   "source": [
    "adaboost_confusion_matrix = confusion_matrix(y_test, adaboost_test_preds)\n",
    "adaboost_confusion_matrix"
   ]
  },
  {
   "cell_type": "code",
   "execution_count": 14,
   "metadata": {},
   "outputs": [
    {
     "data": {
      "text/plain": [
       "array([[1244,   14],\n",
       "       [  42,  152]])"
      ]
     },
     "execution_count": 14,
     "metadata": {},
     "output_type": "execute_result"
    }
   ],
   "source": [
    "gbt_confusion_matrix = confusion_matrix(y_test, gbt_clf_test_preds)\n",
    "gbt_confusion_matrix"
   ]
  },
  {
   "cell_type": "code",
   "execution_count": 15,
   "metadata": {},
   "outputs": [
    {
     "name": "stdout",
     "output_type": "stream",
     "text": [
      "              precision    recall  f1-score   support\n",
      "\n",
      "         0.0       0.93      0.97      0.95      1258\n",
      "         1.0       0.75      0.56      0.64       194\n",
      "\n",
      "   micro avg       0.92      0.92      0.92      1452\n",
      "   macro avg       0.84      0.77      0.80      1452\n",
      "weighted avg       0.91      0.92      0.91      1452\n",
      "\n"
     ]
    }
   ],
   "source": [
    "adaboost_classification_report = classification_report(y_test, adaboost_test_preds)\n",
    "print(adaboost_classification_report)"
   ]
  },
  {
   "cell_type": "code",
   "execution_count": 16,
   "metadata": {},
   "outputs": [
    {
     "name": "stdout",
     "output_type": "stream",
     "text": [
      "              precision    recall  f1-score   support\n",
      "\n",
      "         0.0       0.97      0.99      0.98      1258\n",
      "         1.0       0.92      0.78      0.84       194\n",
      "\n",
      "   micro avg       0.96      0.96      0.96      1452\n",
      "   macro avg       0.94      0.89      0.91      1452\n",
      "weighted avg       0.96      0.96      0.96      1452\n",
      "\n"
     ]
    }
   ],
   "source": [
    "gbt_classification_report = classification_report(y_test, gbt_clf_test_preds)\n",
    "print(gbt_classification_report)"
   ]
  },
  {
   "cell_type": "code",
   "execution_count": 17,
   "metadata": {},
   "outputs": [
    {
     "name": "stdout",
     "output_type": "stream",
     "text": [
      "Mean Adaboost Cross-Val Score (k=5):\n",
      "0.896181078995786\n"
     ]
    }
   ],
   "source": [
    "print('Mean Adaboost Cross-Val Score (k=5):')\n",
    "print(cross_val_score(adaboost_clf, scaled_df, target, cv=5).mean())"
   ]
  },
  {
   "cell_type": "code",
   "execution_count": 18,
   "metadata": {},
   "outputs": [
    {
     "name": "stdout",
     "output_type": "stream",
     "text": [
      "Mean GBT Cross-Val Score (k=5):\n",
      "0.9065128494272656\n"
     ]
    }
   ],
   "source": [
    "print('Mean GBT Cross-Val Score (k=5):')\n",
    "print(cross_val_score(gbt_clf, scaled_df, target, cv=5).mean())"
   ]
  },
  {
   "cell_type": "markdown",
   "metadata": {},
   "source": [
    "# With Variance Threshold"
   ]
  },
  {
   "cell_type": "code",
   "execution_count": 19,
   "metadata": {},
   "outputs": [],
   "source": [
    "selector = VarianceThreshold(threshold=.005)\n",
    "VT = selector.fit_transform(scaled_df)\n",
    "features = df.columns\n",
    "X = pd.DataFrame(data = VT, columns = features)"
   ]
  },
  {
   "cell_type": "code",
   "execution_count": 20,
   "metadata": {},
   "outputs": [],
   "source": [
    "X_train, X_test, y_train, y_test = train_test_split(X, target, test_size=0.25)"
   ]
  },
  {
   "cell_type": "code",
   "execution_count": 21,
   "metadata": {},
   "outputs": [],
   "source": [
    "gbt_clf = GradientBoostingClassifier(learning_rate=0.1, max_depth=10,\n",
    "                                    max_features=0.35000000000000003, min_samples_leaf=10, min_samples_split=5, \n",
    "                                     n_estimators=100, subsample=0.7500000000000001)"
   ]
  },
  {
   "cell_type": "code",
   "execution_count": 22,
   "metadata": {},
   "outputs": [
    {
     "data": {
      "text/plain": [
       "GradientBoostingClassifier(criterion='friedman_mse', init=None,\n",
       "              learning_rate=0.1, loss='deviance', max_depth=10,\n",
       "              max_features=0.35000000000000003, max_leaf_nodes=None,\n",
       "              min_impurity_decrease=0.0, min_impurity_split=None,\n",
       "              min_samples_leaf=10, min_samples_split=5,\n",
       "              min_weight_fraction_leaf=0.0, n_estimators=100,\n",
       "              n_iter_no_change=None, presort='auto', random_state=None,\n",
       "              subsample=0.7500000000000001, tol=0.0001,\n",
       "              validation_fraction=0.1, verbose=0, warm_start=False)"
      ]
     },
     "execution_count": 22,
     "metadata": {},
     "output_type": "execute_result"
    }
   ],
   "source": [
    "gbt_clf.fit(X_train, y_train)"
   ]
  },
  {
   "cell_type": "code",
   "execution_count": 23,
   "metadata": {},
   "outputs": [],
   "source": [
    "gbt_clf_train_preds = gbt_clf.predict(X_train)\n",
    "gbt_clf_test_preds = gbt_clf.predict(X_test)"
   ]
  },
  {
   "cell_type": "code",
   "execution_count": 24,
   "metadata": {},
   "outputs": [
    {
     "name": "stdout",
     "output_type": "stream",
     "text": [
      "Training Metrics\n",
      "Model: Gradient Boosted Trees\n",
      "Accuracy: 0.9983930211202938\n",
      "F1-Score: 0.9935602575896963\n",
      "Testing Metrics\n",
      "Model: Gradient Boosted Trees\n",
      "Accuracy: 0.9655647382920111\n",
      "F1-Score: 0.8648648648648648\n"
     ]
    }
   ],
   "source": [
    "print(\"Training Metrics\")\n",
    "display_acc_and_f1_score(y_train, gbt_clf_train_preds, model_name='Gradient Boosted Trees')\n",
    "print(\"Testing Metrics\")\n",
    "display_acc_and_f1_score(y_test, gbt_clf_test_preds, model_name='Gradient Boosted Trees')\n"
   ]
  },
  {
   "cell_type": "code",
   "execution_count": 25,
   "metadata": {},
   "outputs": [
    {
     "data": {
      "text/plain": [
       "array([[1242,   14],\n",
       "       [  36,  160]])"
      ]
     },
     "execution_count": 25,
     "metadata": {},
     "output_type": "execute_result"
    }
   ],
   "source": [
    "gbt_confusion_matrix = confusion_matrix(y_test, gbt_clf_test_preds)\n",
    "gbt_confusion_matrix"
   ]
  },
  {
   "cell_type": "code",
   "execution_count": 26,
   "metadata": {},
   "outputs": [
    {
     "name": "stdout",
     "output_type": "stream",
     "text": [
      "              precision    recall  f1-score   support\n",
      "\n",
      "         0.0       0.97      0.99      0.98      1256\n",
      "         1.0       0.92      0.82      0.86       196\n",
      "\n",
      "   micro avg       0.97      0.97      0.97      1452\n",
      "   macro avg       0.95      0.90      0.92      1452\n",
      "weighted avg       0.96      0.97      0.96      1452\n",
      "\n"
     ]
    }
   ],
   "source": [
    "gbt_classification_report = classification_report(y_test, gbt_clf_test_preds)\n",
    "print(gbt_classification_report)"
   ]
  },
  {
   "cell_type": "code",
   "execution_count": 27,
   "metadata": {},
   "outputs": [
    {
     "name": "stdout",
     "output_type": "stream",
     "text": [
      "Mean GBT Cross-Val Score (k=5):\n",
      "0.9103017983263101\n"
     ]
    }
   ],
   "source": [
    "print('Mean GBT Cross-Val Score (k=5):')\n",
    "print(cross_val_score(gbt_clf, scaled_df, target, cv=5).mean())"
   ]
  },
  {
   "cell_type": "code",
   "execution_count": 28,
   "metadata": {},
   "outputs": [
    {
     "data": {
      "text/plain": [
       "array([7.92608892e-02, 5.43487667e-02, 1.48976600e-01, 6.15812285e-02,\n",
       "       1.76499156e-01, 9.79943168e-02, 2.27384760e-03, 1.40282408e-04,\n",
       "       4.66246365e-02, 4.38533504e-02, 7.05661527e-02, 1.14752845e-01,\n",
       "       1.03127927e-01])"
      ]
     },
     "execution_count": 28,
     "metadata": {},
     "output_type": "execute_result"
    }
   ],
   "source": [
    "gbt_clf.feature_importances_"
   ]
  },
  {
   "cell_type": "code",
   "execution_count": 29,
   "metadata": {},
   "outputs": [
    {
     "data": {
      "image/png": "[encoded data removed]",
      "text/plain": [
       "<Figure size 576x576 with 1 Axes>"
      ]
     },
     "metadata": {
      "needs_background": "light"
     },
     "output_type": "display_data"
    }
   ],
   "source": [
    "import matplotlib.pyplot as plt\n",
    "\n",
    "def plot_feature_importances(model):\n",
    "    n_features = X_train.shape[1]\n",
    "    plt.figure(figsize=(8,8))\n",
    "    plt.barh(range(n_features), gbt_clf.feature_importances_, align='center') \n",
    "    plt.yticks(np.arange(n_features), X_train.columns.values) \n",
    "    plt.xlabel(\"Feature importance\")\n",
    "    plt.ylabel(\"Feature\")\n",
    "\n",
    "plot_feature_importances(gbt_clf)"
   ]
  },
  {
   "cell_type": "code",
   "execution_count": 30,
   "metadata": {},
   "outputs": [
    {
     "name": "stdout",
     "output_type": "stream",
     "text": [
      "AUC: 0.9849782269595737\n"
     ]
    },
    {
     "data": {
      "image/png": "[encoded data removed]",
      "text/plain": [
       "<Figure size 720x576 with 1 Axes>"
      ]
     },
     "metadata": {},
     "output_type": "display_data"
    }
   ],
   "source": [
    "from sklearn.metrics import roc_curve, auc\n",
    "import seaborn as sns\n",
    "#Probability scores for test set\n",
    "y_score = gbt_clf.fit(X_train, y_train).decision_function(X_test)\n",
    "#False positive Rate and true positive rate\n",
    "fpr, tpr, thresholds = roc_curve(y_test, y_score)\n",
    "\n",
    "sns.set_style(\"darkgrid\", {\"axes.facecolor\": \".9\"})\n",
    "\n",
    "print('AUC: {}'.format(auc(fpr, tpr)))\n",
    "plt.figure(figsize=(10,8))\n",
    "lw = 2\n",
    "plt.plot(fpr, tpr, color='darkorange',\n",
    "         lw=lw, label='ROC curve')\n",
    "plt.plot([0, 1], [0, 1], color='navy', lw=lw, linestyle='--')\n",
    "plt.xlim([0.0, 1.0])\n",
    "plt.ylim([0.0, 1.05])\n",
    "plt.yticks([i/20.0 for i in range(21)])\n",
    "plt.xticks([i/20.0 for i in range(21)])\n",
    "plt.xlabel('False Positive Rate')\n",
    "plt.ylabel('True Positive Rate')\n",
    "plt.title('Receiver operating characteristic (ROC) Curve')\n",
    "plt.legend(loc=\"lower right\")\n",
    "plt.show()"
   ]
  },
  {
   "cell_type": "code",
   "execution_count": 31,
   "metadata": {},
   "outputs": [
    {
     "data": {
      "text/plain": [
       "array([0.00000000e+00, 0.00000000e+00, 0.00000000e+00, 0.00000000e+00,\n",
       "       0.00000000e+00, 0.00000000e+00, 0.00000000e+00, 0.00000000e+00,\n",
       "       0.00000000e+00, 0.00000000e+00, 0.00000000e+00, 7.96178344e-04,\n",
       "       7.96178344e-04, 1.59235669e-03, 1.59235669e-03, 1.59235669e-03,\n",
       "       1.59235669e-03, 2.38853503e-03, 2.38853503e-03, 2.38853503e-03,\n",
       "       3.18471338e-03, 3.18471338e-03, 3.98089172e-03, 3.98089172e-03,\n",
       "       4.77707006e-03, 4.77707006e-03, 4.77707006e-03, 4.77707006e-03,\n",
       "       5.57324841e-03, 5.57324841e-03, 6.36942675e-03, 6.36942675e-03,\n",
       "       7.16560510e-03, 7.16560510e-03, 7.96178344e-03, 7.96178344e-03,\n",
       "       9.55414013e-03, 9.55414013e-03, 1.03503185e-02, 1.03503185e-02,\n",
       "       1.19426752e-02, 1.19426752e-02, 1.27388535e-02, 1.27388535e-02,\n",
       "       1.35350318e-02, 1.35350318e-02, 1.51273885e-02, 1.51273885e-02,\n",
       "       1.59235669e-02, 1.59235669e-02, 1.83121019e-02, 1.83121019e-02,\n",
       "       1.99044586e-02, 1.99044586e-02, 2.07006369e-02, 2.07006369e-02,\n",
       "       2.22929936e-02, 2.22929936e-02, 2.30891720e-02, 2.30891720e-02,\n",
       "       3.26433121e-02, 3.26433121e-02, 3.74203822e-02, 3.74203822e-02,\n",
       "       3.82165605e-02, 3.82165605e-02, 4.53821656e-02, 4.53821656e-02,\n",
       "       4.69745223e-02, 4.69745223e-02, 4.77707006e-02, 4.77707006e-02,\n",
       "       6.13057325e-02, 6.13057325e-02, 6.68789809e-02, 6.68789809e-02,\n",
       "       7.08598726e-02, 7.08598726e-02, 9.47452229e-02, 9.47452229e-02,\n",
       "       1.09076433e-01, 1.09076433e-01, 1.20222930e-01, 1.20222930e-01,\n",
       "       1.32165605e-01, 1.32165605e-01, 1.49681529e-01, 1.49681529e-01,\n",
       "       2.55573248e-01, 2.55573248e-01, 3.06528662e-01, 3.06528662e-01,\n",
       "       3.73407643e-01, 3.75000000e-01, 3.88535032e-01, 3.90127389e-01,\n",
       "       4.17993631e-01, 4.19585987e-01, 4.61783439e-01, 4.61783439e-01,\n",
       "       6.05095541e-01, 6.06687898e-01, 6.47292994e-01, 6.48885350e-01,\n",
       "       7.22133758e-01, 7.23726115e-01, 7.25318471e-01, 7.26910828e-01,\n",
       "       9.13216561e-01, 9.15605096e-01, 1.00000000e+00])"
      ]
     },
     "execution_count": 31,
     "metadata": {},
     "output_type": "execute_result"
    }
   ],
   "source": [
    "fpr"
   ]
  },
  {
   "cell_type": "code",
   "execution_count": null,
   "metadata": {},
   "outputs": [],
   "source": []
  }
 ],
 "metadata": {
  "kernelspec": {
   "display_name": "Python 3",
   "language": "python",
   "name": "python3"
  },
  "language_info": {
   "codemirror_mode": {
    "name": "ipython",
    "version": 3
   },
   "file_extension": ".py",
   "mimetype": "text/x-python",
   "name": "python",
   "nbconvert_exporter": "python",
   "pygments_lexer": "ipython3",
   "version": "3.6.7"
  }
 },
 "nbformat": 4,
 "nbformat_minor": 2
}
