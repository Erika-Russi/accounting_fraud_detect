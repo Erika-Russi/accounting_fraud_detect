{
 "cells": [
  {
   "cell_type": "code",
   "execution_count": 22,
   "metadata": {},
   "outputs": [],
   "source": [
    "import warnings\n",
    "warnings.filterwarnings('ignore')\n",
    "import pandas as pd\n",
    "import numpy as np\n",
    "np.random.seed(0)\n",
    "import matplotlib.pyplot as plt\n",
    "%matplotlib inline\n",
    "from sklearn.model_selection import train_test_split, cross_val_score\n",
    "from sklearn.preprocessing import StandardScaler\n",
    "from sklearn.ensemble import AdaBoostClassifier, GradientBoostingClassifier\n",
    "from sklearn.metrics import accuracy_score, f1_score, confusion_matrix, classification_report\n",
    "from sklearn.feature_selection import VarianceThreshold"
   ]
  },
  {
   "cell_type": "code",
   "execution_count": 5,
   "metadata": {},
   "outputs": [
    {
     "data": {
      "text/html": [
       "<div>\n",
       "<style scoped>\n",
       "    .dataframe tbody tr th:only-of-type {\n",
       "        vertical-align: middle;\n",
       "    }\n",
       "\n",
       "    .dataframe tbody tr th {\n",
       "        vertical-align: top;\n",
       "    }\n",
       "\n",
       "    .dataframe thead th {\n",
       "        text-align: right;\n",
       "    }\n",
       "</style>\n",
       "<table border=\"1\" class=\"dataframe\">\n",
       "  <thead>\n",
       "    <tr style=\"text-align: right;\">\n",
       "      <th></th>\n",
       "      <th>adsh</th>\n",
       "      <th>fraud</th>\n",
       "      <th>ddate</th>\n",
       "      <th>AccountsReceivable</th>\n",
       "      <th>Cash</th>\n",
       "      <th>CashFlowfromOps</th>\n",
       "      <th>CurrentLiabilities</th>\n",
       "      <th>Depreciation</th>\n",
       "      <th>Expenses</th>\n",
       "      <th>IntangibleAssets</th>\n",
       "      <th>...</th>\n",
       "      <th>DebtToEquityRatio</th>\n",
       "      <th>NetIncome</th>\n",
       "      <th>ProfitMargin</th>\n",
       "      <th>ReceivableTurnover</th>\n",
       "      <th>CollectionRatio</th>\n",
       "      <th>DSRI</th>\n",
       "      <th>TotalAssets</th>\n",
       "      <th>AQI</th>\n",
       "      <th>DEPI</th>\n",
       "      <th>TATA</th>\n",
       "    </tr>\n",
       "  </thead>\n",
       "  <tbody>\n",
       "    <tr>\n",
       "      <th>0</th>\n",
       "      <td>0000002178-18-000009</td>\n",
       "      <td>0.0</td>\n",
       "      <td>20161231.0</td>\n",
       "      <td>106756000.0</td>\n",
       "      <td>7.875000e+07</td>\n",
       "      <td>6504000.0</td>\n",
       "      <td>1.114280e+08</td>\n",
       "      <td>2.210870e+08</td>\n",
       "      <td>2.163510e+09</td>\n",
       "      <td>0.0</td>\n",
       "      <td>...</td>\n",
       "      <td>0.539227</td>\n",
       "      <td>6.440080e+08</td>\n",
       "      <td>0.229387</td>\n",
       "      <td>26.298456</td>\n",
       "      <td>13.879142</td>\n",
       "      <td>0.038025</td>\n",
       "      <td>1.139030e+09</td>\n",
       "      <td>0.000000</td>\n",
       "      <td>0.316076</td>\n",
       "      <td>0.559690</td>\n",
       "    </tr>\n",
       "    <tr>\n",
       "      <th>1</th>\n",
       "      <td>0000002488-18-000042</td>\n",
       "      <td>0.0</td>\n",
       "      <td>20161231.0</td>\n",
       "      <td>126000000.0</td>\n",
       "      <td>2.010000e+09</td>\n",
       "      <td>90000000.0</td>\n",
       "      <td>3.825000e+09</td>\n",
       "      <td>9.210000e+08</td>\n",
       "      <td>6.611000e+09</td>\n",
       "      <td>948000000.0</td>\n",
       "      <td>...</td>\n",
       "      <td>1.464384</td>\n",
       "      <td>3.287000e+09</td>\n",
       "      <td>0.332087</td>\n",
       "      <td>78.555556</td>\n",
       "      <td>4.646393</td>\n",
       "      <td>0.012730</td>\n",
       "      <td>2.617100e+10</td>\n",
       "      <td>0.036223</td>\n",
       "      <td>0.261277</td>\n",
       "      <td>0.122158</td>\n",
       "    </tr>\n",
       "    <tr>\n",
       "      <th>2</th>\n",
       "      <td>0000002969-18-000014</td>\n",
       "      <td>0.0</td>\n",
       "      <td>20161231.0</td>\n",
       "      <td>-57400000.0</td>\n",
       "      <td>5.735000e+08</td>\n",
       "      <td>525400000.0</td>\n",
       "      <td>1.040000e+07</td>\n",
       "      <td>2.061000e+08</td>\n",
       "      <td>1.587700e+09</td>\n",
       "      <td>0.0</td>\n",
       "      <td>...</td>\n",
       "      <td>0.003057</td>\n",
       "      <td>2.948000e+08</td>\n",
       "      <td>0.156600</td>\n",
       "      <td>-32.796167</td>\n",
       "      <td>-11.129349</td>\n",
       "      <td>-0.030491</td>\n",
       "      <td>1.062500e+09</td>\n",
       "      <td>0.000000</td>\n",
       "      <td>0.320778</td>\n",
       "      <td>-0.217035</td>\n",
       "    </tr>\n",
       "    <tr>\n",
       "      <th>3</th>\n",
       "      <td>0000003499-18-000006</td>\n",
       "      <td>0.0</td>\n",
       "      <td>20161231.0</td>\n",
       "      <td>182581000.0</td>\n",
       "      <td>8.456940e+08</td>\n",
       "      <td>130820000.0</td>\n",
       "      <td>1.110608e+09</td>\n",
       "      <td>1.655981e+09</td>\n",
       "      <td>3.176400e+08</td>\n",
       "      <td>0.0</td>\n",
       "      <td>...</td>\n",
       "      <td>0.822055</td>\n",
       "      <td>1.179930e+08</td>\n",
       "      <td>0.270854</td>\n",
       "      <td>2.385971</td>\n",
       "      <td>152.977541</td>\n",
       "      <td>0.419117</td>\n",
       "      <td>5.371457e+09</td>\n",
       "      <td>0.000000</td>\n",
       "      <td>0.367267</td>\n",
       "      <td>-0.002388</td>\n",
       "    </tr>\n",
       "    <tr>\n",
       "      <th>4</th>\n",
       "      <td>0000003545-18-000021</td>\n",
       "      <td>0.0</td>\n",
       "      <td>20161231.0</td>\n",
       "      <td>7177000.0</td>\n",
       "      <td>-6.183000e+06</td>\n",
       "      <td>-16890000.0</td>\n",
       "      <td>-4.823000e+06</td>\n",
       "      <td>3.916000e+06</td>\n",
       "      <td>3.149000e+06</td>\n",
       "      <td>0.0</td>\n",
       "      <td>...</td>\n",
       "      <td>2.353128</td>\n",
       "      <td>2.942400e+07</td>\n",
       "      <td>0.903325</td>\n",
       "      <td>4.538526</td>\n",
       "      <td>80.422589</td>\n",
       "      <td>0.220336</td>\n",
       "      <td>7.572000e+06</td>\n",
       "      <td>0.000000</td>\n",
       "      <td>0.370623</td>\n",
       "      <td>6.116482</td>\n",
       "    </tr>\n",
       "  </tbody>\n",
       "</table>\n",
       "<p>5 rows × 31 columns</p>\n",
       "</div>"
      ],
      "text/plain": [
       "                   adsh  fraud       ddate  AccountsReceivable          Cash  \\\n",
       "0  0000002178-18-000009    0.0  20161231.0         106756000.0  7.875000e+07   \n",
       "1  0000002488-18-000042    0.0  20161231.0         126000000.0  2.010000e+09   \n",
       "2  0000002969-18-000014    0.0  20161231.0         -57400000.0  5.735000e+08   \n",
       "3  0000003499-18-000006    0.0  20161231.0         182581000.0  8.456940e+08   \n",
       "4  0000003545-18-000021    0.0  20161231.0           7177000.0 -6.183000e+06   \n",
       "\n",
       "   CashFlowfromOps  CurrentLiabilities  Depreciation      Expenses  \\\n",
       "0        6504000.0        1.114280e+08  2.210870e+08  2.163510e+09   \n",
       "1       90000000.0        3.825000e+09  9.210000e+08  6.611000e+09   \n",
       "2      525400000.0        1.040000e+07  2.061000e+08  1.587700e+09   \n",
       "3      130820000.0        1.110608e+09  1.655981e+09  3.176400e+08   \n",
       "4      -16890000.0       -4.823000e+06  3.916000e+06  3.149000e+06   \n",
       "\n",
       "   IntangibleAssets    ...     DebtToEquityRatio     NetIncome  ProfitMargin  \\\n",
       "0               0.0    ...              0.539227  6.440080e+08      0.229387   \n",
       "1       948000000.0    ...              1.464384  3.287000e+09      0.332087   \n",
       "2               0.0    ...              0.003057  2.948000e+08      0.156600   \n",
       "3               0.0    ...              0.822055  1.179930e+08      0.270854   \n",
       "4               0.0    ...              2.353128  2.942400e+07      0.903325   \n",
       "\n",
       "   ReceivableTurnover  CollectionRatio      DSRI   TotalAssets       AQI  \\\n",
       "0           26.298456        13.879142  0.038025  1.139030e+09  0.000000   \n",
       "1           78.555556         4.646393  0.012730  2.617100e+10  0.036223   \n",
       "2          -32.796167       -11.129349 -0.030491  1.062500e+09  0.000000   \n",
       "3            2.385971       152.977541  0.419117  5.371457e+09  0.000000   \n",
       "4            4.538526        80.422589  0.220336  7.572000e+06  0.000000   \n",
       "\n",
       "       DEPI      TATA  \n",
       "0  0.316076  0.559690  \n",
       "1  0.261277  0.122158  \n",
       "2  0.320778 -0.217035  \n",
       "3  0.367267 -0.002388  \n",
       "4  0.370623  6.116482  \n",
       "\n",
       "[5 rows x 31 columns]"
      ]
     },
     "execution_count": 5,
     "metadata": {},
     "output_type": "execute_result"
    }
   ],
   "source": [
    "df = pd.read_csv('739to4000_with_tags,KL_divergence,FinRatios.csv')\n",
    "df.head()"
   ]
  },
  {
   "cell_type": "code",
   "execution_count": 6,
   "metadata": {},
   "outputs": [],
   "source": [
    "target = df.fraud"
   ]
  },
  {
   "cell_type": "code",
   "execution_count": 7,
   "metadata": {},
   "outputs": [
    {
     "data": {
      "text/html": [
       "<div>\n",
       "<style scoped>\n",
       "    .dataframe tbody tr th:only-of-type {\n",
       "        vertical-align: middle;\n",
       "    }\n",
       "\n",
       "    .dataframe tbody tr th {\n",
       "        vertical-align: top;\n",
       "    }\n",
       "\n",
       "    .dataframe thead th {\n",
       "        text-align: right;\n",
       "    }\n",
       "</style>\n",
       "<table border=\"1\" class=\"dataframe\">\n",
       "  <thead>\n",
       "    <tr style=\"text-align: right;\">\n",
       "      <th></th>\n",
       "      <th>AccountsReceivable</th>\n",
       "      <th>Cash</th>\n",
       "      <th>CashFlowfromOps</th>\n",
       "      <th>CurrentLiabilities</th>\n",
       "      <th>Depreciation</th>\n",
       "      <th>Expenses</th>\n",
       "      <th>IntangibleAssets</th>\n",
       "      <th>OtherCurrentAssets</th>\n",
       "      <th>OtherIncome</th>\n",
       "      <th>OtherLiabilities</th>\n",
       "      <th>...</th>\n",
       "      <th>DebtToEquityRatio</th>\n",
       "      <th>NetIncome</th>\n",
       "      <th>ProfitMargin</th>\n",
       "      <th>ReceivableTurnover</th>\n",
       "      <th>CollectionRatio</th>\n",
       "      <th>DSRI</th>\n",
       "      <th>TotalAssets</th>\n",
       "      <th>AQI</th>\n",
       "      <th>DEPI</th>\n",
       "      <th>TATA</th>\n",
       "    </tr>\n",
       "  </thead>\n",
       "  <tbody>\n",
       "    <tr>\n",
       "      <th>0</th>\n",
       "      <td>106756000.0</td>\n",
       "      <td>7.875000e+07</td>\n",
       "      <td>6504000.0</td>\n",
       "      <td>1.114280e+08</td>\n",
       "      <td>2.210870e+08</td>\n",
       "      <td>2.163510e+09</td>\n",
       "      <td>0.0</td>\n",
       "      <td>4.751370e+08</td>\n",
       "      <td>4.700000e+06</td>\n",
       "      <td>1.910170e+08</td>\n",
       "      <td>...</td>\n",
       "      <td>0.539227</td>\n",
       "      <td>6.440080e+08</td>\n",
       "      <td>0.229387</td>\n",
       "      <td>26.298456</td>\n",
       "      <td>13.879142</td>\n",
       "      <td>0.038025</td>\n",
       "      <td>1.139030e+09</td>\n",
       "      <td>0.000000</td>\n",
       "      <td>0.316076</td>\n",
       "      <td>0.559690</td>\n",
       "    </tr>\n",
       "    <tr>\n",
       "      <th>1</th>\n",
       "      <td>126000000.0</td>\n",
       "      <td>2.010000e+09</td>\n",
       "      <td>90000000.0</td>\n",
       "      <td>3.825000e+09</td>\n",
       "      <td>9.210000e+08</td>\n",
       "      <td>6.611000e+09</td>\n",
       "      <td>948000000.0</td>\n",
       "      <td>2.048300e+10</td>\n",
       "      <td>1.559000e+09</td>\n",
       "      <td>4.727000e+09</td>\n",
       "      <td>...</td>\n",
       "      <td>1.464384</td>\n",
       "      <td>3.287000e+09</td>\n",
       "      <td>0.332087</td>\n",
       "      <td>78.555556</td>\n",
       "      <td>4.646393</td>\n",
       "      <td>0.012730</td>\n",
       "      <td>2.617100e+10</td>\n",
       "      <td>0.036223</td>\n",
       "      <td>0.261277</td>\n",
       "      <td>0.122158</td>\n",
       "    </tr>\n",
       "    <tr>\n",
       "      <th>2</th>\n",
       "      <td>-57400000.0</td>\n",
       "      <td>5.735000e+08</td>\n",
       "      <td>525400000.0</td>\n",
       "      <td>1.040000e+07</td>\n",
       "      <td>2.061000e+08</td>\n",
       "      <td>1.587700e+09</td>\n",
       "      <td>0.0</td>\n",
       "      <td>1.100000e+08</td>\n",
       "      <td>-7.588000e+08</td>\n",
       "      <td>1.440000e+07</td>\n",
       "      <td>...</td>\n",
       "      <td>0.003057</td>\n",
       "      <td>2.948000e+08</td>\n",
       "      <td>0.156600</td>\n",
       "      <td>-32.796167</td>\n",
       "      <td>-11.129349</td>\n",
       "      <td>-0.030491</td>\n",
       "      <td>1.062500e+09</td>\n",
       "      <td>0.000000</td>\n",
       "      <td>0.320778</td>\n",
       "      <td>-0.217035</td>\n",
       "    </tr>\n",
       "    <tr>\n",
       "      <th>3</th>\n",
       "      <td>182581000.0</td>\n",
       "      <td>8.456940e+08</td>\n",
       "      <td>130820000.0</td>\n",
       "      <td>1.110608e+09</td>\n",
       "      <td>1.655981e+09</td>\n",
       "      <td>3.176400e+08</td>\n",
       "      <td>0.0</td>\n",
       "      <td>1.490230e+09</td>\n",
       "      <td>0.000000e+00</td>\n",
       "      <td>1.104726e+09</td>\n",
       "      <td>...</td>\n",
       "      <td>0.822055</td>\n",
       "      <td>1.179930e+08</td>\n",
       "      <td>0.270854</td>\n",
       "      <td>2.385971</td>\n",
       "      <td>152.977541</td>\n",
       "      <td>0.419117</td>\n",
       "      <td>5.371457e+09</td>\n",
       "      <td>0.000000</td>\n",
       "      <td>0.367267</td>\n",
       "      <td>-0.002388</td>\n",
       "    </tr>\n",
       "    <tr>\n",
       "      <th>4</th>\n",
       "      <td>7177000.0</td>\n",
       "      <td>-6.183000e+06</td>\n",
       "      <td>-16890000.0</td>\n",
       "      <td>-4.823000e+06</td>\n",
       "      <td>3.916000e+06</td>\n",
       "      <td>3.149000e+06</td>\n",
       "      <td>0.0</td>\n",
       "      <td>-7.200000e+04</td>\n",
       "      <td>2.194500e+07</td>\n",
       "      <td>-1.121000e+06</td>\n",
       "      <td>...</td>\n",
       "      <td>2.353128</td>\n",
       "      <td>2.942400e+07</td>\n",
       "      <td>0.903325</td>\n",
       "      <td>4.538526</td>\n",
       "      <td>80.422589</td>\n",
       "      <td>0.220336</td>\n",
       "      <td>7.572000e+06</td>\n",
       "      <td>0.000000</td>\n",
       "      <td>0.370623</td>\n",
       "      <td>6.116482</td>\n",
       "    </tr>\n",
       "  </tbody>\n",
       "</table>\n",
       "<p>5 rows × 28 columns</p>\n",
       "</div>"
      ],
      "text/plain": [
       "   AccountsReceivable          Cash  CashFlowfromOps  CurrentLiabilities  \\\n",
       "0         106756000.0  7.875000e+07        6504000.0        1.114280e+08   \n",
       "1         126000000.0  2.010000e+09       90000000.0        3.825000e+09   \n",
       "2         -57400000.0  5.735000e+08      525400000.0        1.040000e+07   \n",
       "3         182581000.0  8.456940e+08      130820000.0        1.110608e+09   \n",
       "4           7177000.0 -6.183000e+06      -16890000.0       -4.823000e+06   \n",
       "\n",
       "   Depreciation      Expenses  IntangibleAssets  OtherCurrentAssets  \\\n",
       "0  2.210870e+08  2.163510e+09               0.0        4.751370e+08   \n",
       "1  9.210000e+08  6.611000e+09       948000000.0        2.048300e+10   \n",
       "2  2.061000e+08  1.587700e+09               0.0        1.100000e+08   \n",
       "3  1.655981e+09  3.176400e+08               0.0        1.490230e+09   \n",
       "4  3.916000e+06  3.149000e+06               0.0       -7.200000e+04   \n",
       "\n",
       "    OtherIncome  OtherLiabilities    ...     DebtToEquityRatio     NetIncome  \\\n",
       "0  4.700000e+06      1.910170e+08    ...              0.539227  6.440080e+08   \n",
       "1  1.559000e+09      4.727000e+09    ...              1.464384  3.287000e+09   \n",
       "2 -7.588000e+08      1.440000e+07    ...              0.003057  2.948000e+08   \n",
       "3  0.000000e+00      1.104726e+09    ...              0.822055  1.179930e+08   \n",
       "4  2.194500e+07     -1.121000e+06    ...              2.353128  2.942400e+07   \n",
       "\n",
       "   ProfitMargin  ReceivableTurnover  CollectionRatio      DSRI   TotalAssets  \\\n",
       "0      0.229387           26.298456        13.879142  0.038025  1.139030e+09   \n",
       "1      0.332087           78.555556         4.646393  0.012730  2.617100e+10   \n",
       "2      0.156600          -32.796167       -11.129349 -0.030491  1.062500e+09   \n",
       "3      0.270854            2.385971       152.977541  0.419117  5.371457e+09   \n",
       "4      0.903325            4.538526        80.422589  0.220336  7.572000e+06   \n",
       "\n",
       "        AQI      DEPI      TATA  \n",
       "0  0.000000  0.316076  0.559690  \n",
       "1  0.036223  0.261277  0.122158  \n",
       "2  0.000000  0.320778 -0.217035  \n",
       "3  0.000000  0.367267 -0.002388  \n",
       "4  0.000000  0.370623  6.116482  \n",
       "\n",
       "[5 rows x 28 columns]"
      ]
     },
     "execution_count": 7,
     "metadata": {},
     "output_type": "execute_result"
    }
   ],
   "source": [
    "df = df.drop(['adsh','ddate','fraud'], axis=1)\n",
    "df.head()"
   ]
  },
  {
   "cell_type": "code",
   "execution_count": 8,
   "metadata": {},
   "outputs": [
    {
     "data": {
      "text/html": [
       "<div>\n",
       "<style scoped>\n",
       "    .dataframe tbody tr th:only-of-type {\n",
       "        vertical-align: middle;\n",
       "    }\n",
       "\n",
       "    .dataframe tbody tr th {\n",
       "        vertical-align: top;\n",
       "    }\n",
       "\n",
       "    .dataframe thead th {\n",
       "        text-align: right;\n",
       "    }\n",
       "</style>\n",
       "<table border=\"1\" class=\"dataframe\">\n",
       "  <thead>\n",
       "    <tr style=\"text-align: right;\">\n",
       "      <th></th>\n",
       "      <th>AccountsReceivable</th>\n",
       "      <th>Cash</th>\n",
       "      <th>CashFlowfromOps</th>\n",
       "      <th>CurrentLiabilities</th>\n",
       "      <th>Depreciation</th>\n",
       "      <th>Expenses</th>\n",
       "      <th>IntangibleAssets</th>\n",
       "      <th>OtherCurrentAssets</th>\n",
       "      <th>OtherIncome</th>\n",
       "      <th>OtherLiabilities</th>\n",
       "      <th>...</th>\n",
       "      <th>DebtToEquityRatio</th>\n",
       "      <th>NetIncome</th>\n",
       "      <th>ProfitMargin</th>\n",
       "      <th>ReceivableTurnover</th>\n",
       "      <th>CollectionRatio</th>\n",
       "      <th>DSRI</th>\n",
       "      <th>TotalAssets</th>\n",
       "      <th>AQI</th>\n",
       "      <th>DEPI</th>\n",
       "      <th>TATA</th>\n",
       "    </tr>\n",
       "  </thead>\n",
       "  <tbody>\n",
       "    <tr>\n",
       "      <th>0</th>\n",
       "      <td>-0.049149</td>\n",
       "      <td>-0.047866</td>\n",
       "      <td>-0.188882</td>\n",
       "      <td>-0.115455</td>\n",
       "      <td>-0.133843</td>\n",
       "      <td>-0.093800</td>\n",
       "      <td>-0.15116</td>\n",
       "      <td>-0.077214</td>\n",
       "      <td>-0.066630</td>\n",
       "      <td>-0.073339</td>\n",
       "      <td>...</td>\n",
       "      <td>-0.013332</td>\n",
       "      <td>0.043272</td>\n",
       "      <td>0.027361</td>\n",
       "      <td>-0.015921</td>\n",
       "      <td>-0.020880</td>\n",
       "      <td>-0.020880</td>\n",
       "      <td>-0.091132</td>\n",
       "      <td>-0.225344</td>\n",
       "      <td>0.271118</td>\n",
       "      <td>0.043936</td>\n",
       "    </tr>\n",
       "    <tr>\n",
       "      <th>1</th>\n",
       "      <td>-0.049063</td>\n",
       "      <td>0.039445</td>\n",
       "      <td>-0.155622</td>\n",
       "      <td>0.110438</td>\n",
       "      <td>-0.053649</td>\n",
       "      <td>0.001734</td>\n",
       "      <td>-0.09378</td>\n",
       "      <td>-0.030408</td>\n",
       "      <td>-0.040274</td>\n",
       "      <td>-0.060752</td>\n",
       "      <td>...</td>\n",
       "      <td>-0.013332</td>\n",
       "      <td>0.109684</td>\n",
       "      <td>0.027402</td>\n",
       "      <td>0.026730</td>\n",
       "      <td>-0.020881</td>\n",
       "      <td>-0.020881</td>\n",
       "      <td>-0.049329</td>\n",
       "      <td>-0.124785</td>\n",
       "      <td>0.171077</td>\n",
       "      <td>-0.007698</td>\n",
       "    </tr>\n",
       "    <tr>\n",
       "      <th>2</th>\n",
       "      <td>-0.049886</td>\n",
       "      <td>-0.025498</td>\n",
       "      <td>0.017818</td>\n",
       "      <td>-0.121601</td>\n",
       "      <td>-0.135561</td>\n",
       "      <td>-0.106169</td>\n",
       "      <td>-0.15116</td>\n",
       "      <td>-0.078068</td>\n",
       "      <td>-0.079576</td>\n",
       "      <td>-0.073830</td>\n",
       "      <td>...</td>\n",
       "      <td>-0.013332</td>\n",
       "      <td>0.034498</td>\n",
       "      <td>0.027331</td>\n",
       "      <td>-0.064152</td>\n",
       "      <td>-0.020882</td>\n",
       "      <td>-0.020882</td>\n",
       "      <td>-0.091260</td>\n",
       "      <td>-0.225344</td>\n",
       "      <td>0.279702</td>\n",
       "      <td>-0.047727</td>\n",
       "    </tr>\n",
       "    <tr>\n",
       "      <th>3</th>\n",
       "      <td>-0.048809</td>\n",
       "      <td>-0.013192</td>\n",
       "      <td>-0.139362</td>\n",
       "      <td>-0.054676</td>\n",
       "      <td>0.030564</td>\n",
       "      <td>-0.133451</td>\n",
       "      <td>-0.15116</td>\n",
       "      <td>-0.074839</td>\n",
       "      <td>-0.066710</td>\n",
       "      <td>-0.070804</td>\n",
       "      <td>...</td>\n",
       "      <td>-0.013332</td>\n",
       "      <td>0.030055</td>\n",
       "      <td>0.027377</td>\n",
       "      <td>-0.035438</td>\n",
       "      <td>-0.020870</td>\n",
       "      <td>-0.020870</td>\n",
       "      <td>-0.084064</td>\n",
       "      <td>-0.225344</td>\n",
       "      <td>0.364571</td>\n",
       "      <td>-0.022396</td>\n",
       "    </tr>\n",
       "    <tr>\n",
       "      <th>4</th>\n",
       "      <td>-0.049596</td>\n",
       "      <td>-0.051705</td>\n",
       "      <td>-0.198201</td>\n",
       "      <td>-0.122527</td>\n",
       "      <td>-0.158726</td>\n",
       "      <td>-0.140206</td>\n",
       "      <td>-0.15116</td>\n",
       "      <td>-0.078325</td>\n",
       "      <td>-0.066337</td>\n",
       "      <td>-0.073873</td>\n",
       "      <td>...</td>\n",
       "      <td>-0.013332</td>\n",
       "      <td>0.027830</td>\n",
       "      <td>0.027631</td>\n",
       "      <td>-0.033681</td>\n",
       "      <td>-0.020875</td>\n",
       "      <td>-0.020875</td>\n",
       "      <td>-0.093022</td>\n",
       "      <td>-0.225344</td>\n",
       "      <td>0.370698</td>\n",
       "      <td>0.699700</td>\n",
       "    </tr>\n",
       "  </tbody>\n",
       "</table>\n",
       "<p>5 rows × 28 columns</p>\n",
       "</div>"
      ],
      "text/plain": [
       "   AccountsReceivable      Cash  CashFlowfromOps  CurrentLiabilities  \\\n",
       "0           -0.049149 -0.047866        -0.188882           -0.115455   \n",
       "1           -0.049063  0.039445        -0.155622            0.110438   \n",
       "2           -0.049886 -0.025498         0.017818           -0.121601   \n",
       "3           -0.048809 -0.013192        -0.139362           -0.054676   \n",
       "4           -0.049596 -0.051705        -0.198201           -0.122527   \n",
       "\n",
       "   Depreciation  Expenses  IntangibleAssets  OtherCurrentAssets  OtherIncome  \\\n",
       "0     -0.133843 -0.093800          -0.15116           -0.077214    -0.066630   \n",
       "1     -0.053649  0.001734          -0.09378           -0.030408    -0.040274   \n",
       "2     -0.135561 -0.106169          -0.15116           -0.078068    -0.079576   \n",
       "3      0.030564 -0.133451          -0.15116           -0.074839    -0.066710   \n",
       "4     -0.158726 -0.140206          -0.15116           -0.078325    -0.066337   \n",
       "\n",
       "   OtherLiabilities    ...     DebtToEquityRatio  NetIncome  ProfitMargin  \\\n",
       "0         -0.073339    ...             -0.013332   0.043272      0.027361   \n",
       "1         -0.060752    ...             -0.013332   0.109684      0.027402   \n",
       "2         -0.073830    ...             -0.013332   0.034498      0.027331   \n",
       "3         -0.070804    ...             -0.013332   0.030055      0.027377   \n",
       "4         -0.073873    ...             -0.013332   0.027830      0.027631   \n",
       "\n",
       "   ReceivableTurnover  CollectionRatio      DSRI  TotalAssets       AQI  \\\n",
       "0           -0.015921        -0.020880 -0.020880    -0.091132 -0.225344   \n",
       "1            0.026730        -0.020881 -0.020881    -0.049329 -0.124785   \n",
       "2           -0.064152        -0.020882 -0.020882    -0.091260 -0.225344   \n",
       "3           -0.035438        -0.020870 -0.020870    -0.084064 -0.225344   \n",
       "4           -0.033681        -0.020875 -0.020875    -0.093022 -0.225344   \n",
       "\n",
       "       DEPI      TATA  \n",
       "0  0.271118  0.043936  \n",
       "1  0.171077 -0.007698  \n",
       "2  0.279702 -0.047727  \n",
       "3  0.364571 -0.022396  \n",
       "4  0.370698  0.699700  \n",
       "\n",
       "[5 rows x 28 columns]"
      ]
     },
     "execution_count": 8,
     "metadata": {},
     "output_type": "execute_result"
    }
   ],
   "source": [
    "scaler = StandardScaler()\n",
    "scaled_df = pd.DataFrame(scaler.fit_transform(df), columns=df.columns)\n",
    "scaled_df.head()"
   ]
  },
  {
   "cell_type": "code",
   "execution_count": 9,
   "metadata": {},
   "outputs": [],
   "source": [
    "X_train, X_test, y_train, y_test = train_test_split(scaled_df, target, test_size=0.25)"
   ]
  },
  {
   "cell_type": "code",
   "execution_count": 44,
   "metadata": {},
   "outputs": [],
   "source": [
    "adaboost_clf = AdaBoostClassifier()\n",
    "gbt_clf = GradientBoostingClassifier(learning_rate=0.1, max_depth=10,\n",
    "                                    max_features=0.35000000000000003, min_samples_leaf=10, min_samples_split=5, \n",
    "                                     n_estimators=100, subsample=0.7500000000000001)"
   ]
  },
  {
   "cell_type": "code",
   "execution_count": 47,
   "metadata": {},
   "outputs": [
    {
     "data": {
      "text/plain": [
       "AdaBoostClassifier(algorithm='SAMME.R', base_estimator=None,\n",
       "          learning_rate=1.0, n_estimators=50, random_state=None)"
      ]
     },
     "execution_count": 47,
     "metadata": {},
     "output_type": "execute_result"
    }
   ],
   "source": [
    "adaboost_clf.fit(X_train, y_train)"
   ]
  },
  {
   "cell_type": "code",
   "execution_count": 45,
   "metadata": {},
   "outputs": [
    {
     "data": {
      "text/plain": [
       "GradientBoostingClassifier(criterion='friedman_mse', init=None,\n",
       "              learning_rate=0.1, loss='deviance', max_depth=10,\n",
       "              max_features=0.35000000000000003, max_leaf_nodes=None,\n",
       "              min_impurity_decrease=0.0, min_impurity_split=None,\n",
       "              min_samples_leaf=10, min_samples_split=5,\n",
       "              min_weight_fraction_leaf=0.0, n_estimators=100,\n",
       "              n_iter_no_change=None, presort='auto', random_state=None,\n",
       "              subsample=0.7500000000000001, tol=0.0001,\n",
       "              validation_fraction=0.1, verbose=0, warm_start=False)"
      ]
     },
     "execution_count": 45,
     "metadata": {},
     "output_type": "execute_result"
    }
   ],
   "source": [
    "gbt_clf.fit(X_train.as_matrix(), y_train.as_matrix())"
   ]
  },
  {
   "cell_type": "code",
   "execution_count": 48,
   "metadata": {},
   "outputs": [],
   "source": [
    "adaboost_train_preds = adaboost_clf.predict(X_train)\n",
    "adaboost_test_preds = adaboost_clf.predict(X_test)\n",
    "gbt_clf_train_preds = gbt_clf.predict(X_train)\n",
    "gbt_clf_test_preds = gbt_clf.predict(X_test)"
   ]
  },
  {
   "cell_type": "code",
   "execution_count": 49,
   "metadata": {},
   "outputs": [
    {
     "name": "stdout",
     "output_type": "stream",
     "text": [
      "Training Metrics\n",
      "Model: AdaBoost\n",
      "Accuracy: 0.9320477502295684\n",
      "F1-Score: 0.690376569037657\n",
      "\n",
      "Model: Gradient Boosted Trees\n",
      "Accuracy: 1.0\n",
      "F1-Score: 1.0\n",
      "\n",
      "Testing Metrics\n",
      "Model: AdaBoost\n",
      "Accuracy: 0.9146005509641874\n",
      "F1-Score: 0.6196319018404909\n",
      "\n",
      "Model: Gradient Boosted Trees\n",
      "Accuracy: 0.9634986225895317\n",
      "F1-Score: 0.8539944903581267\n"
     ]
    }
   ],
   "source": [
    "def display_acc_and_f1_score(true, preds, model_name):\n",
    "    acc = accuracy_score(true, preds)\n",
    "    f1 = f1_score(true, preds)\n",
    "    print(\"Model: {}\".format(model_name))\n",
    "    print(\"Accuracy: {}\".format(acc))\n",
    "    print(\"F1-Score: {}\".format(f1))\n",
    "    \n",
    "print(\"Training Metrics\")\n",
    "display_acc_and_f1_score(y_train, adaboost_train_preds, model_name='AdaBoost')\n",
    "print(\"\")\n",
    "display_acc_and_f1_score(y_train, gbt_clf_train_preds, model_name='Gradient Boosted Trees')\n",
    "print(\"\")\n",
    "print(\"Testing Metrics\")\n",
    "display_acc_and_f1_score(y_test, adaboost_test_preds, model_name='AdaBoost')\n",
    "print(\"\")\n",
    "display_acc_and_f1_score(y_test, gbt_clf_test_preds, model_name='Gradient Boosted Trees')\n"
   ]
  },
  {
   "cell_type": "code",
   "execution_count": 50,
   "metadata": {},
   "outputs": [
    {
     "data": {
      "text/plain": [
       "array([[1227,   31],\n",
       "       [  93,  101]])"
      ]
     },
     "execution_count": 50,
     "metadata": {},
     "output_type": "execute_result"
    }
   ],
   "source": [
    "adaboost_confusion_matrix = confusion_matrix(y_test, adaboost_test_preds)\n",
    "adaboost_confusion_matrix"
   ]
  },
  {
   "cell_type": "code",
   "execution_count": 51,
   "metadata": {},
   "outputs": [
    {
     "data": {
      "text/plain": [
       "array([[1244,   14],\n",
       "       [  39,  155]])"
      ]
     },
     "execution_count": 51,
     "metadata": {},
     "output_type": "execute_result"
    }
   ],
   "source": [
    "gbt_confusion_matrix = confusion_matrix(y_test, gbt_clf_test_preds)\n",
    "gbt_confusion_matrix"
   ]
  },
  {
   "cell_type": "code",
   "execution_count": 52,
   "metadata": {},
   "outputs": [
    {
     "name": "stdout",
     "output_type": "stream",
     "text": [
      "              precision    recall  f1-score   support\n",
      "\n",
      "         0.0       0.93      0.98      0.95      1258\n",
      "         1.0       0.77      0.52      0.62       194\n",
      "\n",
      "   micro avg       0.91      0.91      0.91      1452\n",
      "   macro avg       0.85      0.75      0.79      1452\n",
      "weighted avg       0.91      0.91      0.91      1452\n",
      "\n"
     ]
    }
   ],
   "source": [
    "adaboost_classification_report = classification_report(y_test, adaboost_test_preds)\n",
    "print(adaboost_classification_report)"
   ]
  },
  {
   "cell_type": "code",
   "execution_count": 53,
   "metadata": {},
   "outputs": [
    {
     "name": "stdout",
     "output_type": "stream",
     "text": [
      "              precision    recall  f1-score   support\n",
      "\n",
      "         0.0       0.97      0.99      0.98      1258\n",
      "         1.0       0.92      0.80      0.85       194\n",
      "\n",
      "   micro avg       0.96      0.96      0.96      1452\n",
      "   macro avg       0.94      0.89      0.92      1452\n",
      "weighted avg       0.96      0.96      0.96      1452\n",
      "\n"
     ]
    }
   ],
   "source": [
    "gbt_classification_report = classification_report(y_test, gbt_clf_test_preds)\n",
    "print(gbt_classification_report)"
   ]
  },
  {
   "cell_type": "code",
   "execution_count": 54,
   "metadata": {},
   "outputs": [
    {
     "name": "stdout",
     "output_type": "stream",
     "text": [
      "Mean Adaboost Cross-Val Score (k=5):\n",
      "0.903926642530714\n"
     ]
    }
   ],
   "source": [
    "print('Mean Adaboost Cross-Val Score (k=5):')\n",
    "print(cross_val_score(adaboost_clf, scaled_df, target, cv=5).mean())"
   ]
  },
  {
   "cell_type": "code",
   "execution_count": 55,
   "metadata": {},
   "outputs": [
    {
     "name": "stdout",
     "output_type": "stream",
     "text": [
      "Mean GBT Cross-Val Score (k=5):\n",
      "0.9196014600273014\n"
     ]
    }
   ],
   "source": [
    "print('Mean GBT Cross-Val Score (k=5):')\n",
    "print(cross_val_score(gbt_clf, scaled_df, target, cv=5).mean())"
   ]
  },
  {
   "cell_type": "markdown",
   "metadata": {},
   "source": [
    "# With Variance Threshold"
   ]
  },
  {
   "cell_type": "code",
   "execution_count": 79,
   "metadata": {},
   "outputs": [],
   "source": [
    "selector = VarianceThreshold(threshold=.005)\n",
    "VT = selector.fit_transform(scaled_df)\n",
    "features = df.columns\n",
    "X = pd.DataFrame(data = VT, columns = features)"
   ]
  },
  {
   "cell_type": "code",
   "execution_count": 81,
   "metadata": {},
   "outputs": [],
   "source": [
    "X_train, X_test, y_train, y_test = train_test_split(X, target, test_size=0.25)"
   ]
  },
  {
   "cell_type": "code",
   "execution_count": 82,
   "metadata": {},
   "outputs": [],
   "source": [
    "gbt_clf = GradientBoostingClassifier(learning_rate=0.1, max_depth=10,\n",
    "                                    max_features=0.35000000000000003, min_samples_leaf=10, min_samples_split=5, \n",
    "                                     n_estimators=100, subsample=0.7500000000000001)"
   ]
  },
  {
   "cell_type": "code",
   "execution_count": 83,
   "metadata": {},
   "outputs": [
    {
     "data": {
      "text/plain": [
       "GradientBoostingClassifier(criterion='friedman_mse', init=None,\n",
       "              learning_rate=0.1, loss='deviance', max_depth=10,\n",
       "              max_features=0.35000000000000003, max_leaf_nodes=None,\n",
       "              min_impurity_decrease=0.0, min_impurity_split=None,\n",
       "              min_samples_leaf=10, min_samples_split=5,\n",
       "              min_weight_fraction_leaf=0.0, n_estimators=100,\n",
       "              n_iter_no_change=None, presort='auto', random_state=None,\n",
       "              subsample=0.7500000000000001, tol=0.0001,\n",
       "              validation_fraction=0.1, verbose=0, warm_start=False)"
      ]
     },
     "execution_count": 83,
     "metadata": {},
     "output_type": "execute_result"
    }
   ],
   "source": [
    "gbt_clf.fit(X_train, y_train)"
   ]
  },
  {
   "cell_type": "code",
   "execution_count": 84,
   "metadata": {},
   "outputs": [],
   "source": [
    "gbt_clf_train_preds = gbt_clf.predict(X_train)\n",
    "gbt_clf_test_preds = gbt_clf.predict(X_test)"
   ]
  },
  {
   "cell_type": "code",
   "execution_count": 85,
   "metadata": {},
   "outputs": [
    {
     "name": "stdout",
     "output_type": "stream",
     "text": [
      "Training Metrics\n",
      "Model: Gradient Boosted Trees\n",
      "Accuracy: 0.9997704315886135\n",
      "F1-Score: 0.9991158267020336\n",
      "Testing Metrics\n",
      "Model: Gradient Boosted Trees\n",
      "Accuracy: 0.9573002754820936\n",
      "F1-Score: 0.8121212121212121\n"
     ]
    }
   ],
   "source": [
    "print(\"Training Metrics\")\n",
    "display_acc_and_f1_score(y_train, gbt_clf_train_preds, model_name='Gradient Boosted Trees')\n",
    "print(\"Testing Metrics\")\n",
    "display_acc_and_f1_score(y_test, gbt_clf_test_preds, model_name='Gradient Boosted Trees')\n"
   ]
  },
  {
   "cell_type": "code",
   "execution_count": 86,
   "metadata": {},
   "outputs": [
    {
     "data": {
      "text/plain": [
       "array([[1256,   22],\n",
       "       [  40,  134]])"
      ]
     },
     "execution_count": 86,
     "metadata": {},
     "output_type": "execute_result"
    }
   ],
   "source": [
    "gbt_confusion_matrix = confusion_matrix(y_test, gbt_clf_test_preds)\n",
    "gbt_confusion_matrix"
   ]
  },
  {
   "cell_type": "code",
   "execution_count": 87,
   "metadata": {},
   "outputs": [
    {
     "name": "stdout",
     "output_type": "stream",
     "text": [
      "              precision    recall  f1-score   support\n",
      "\n",
      "         0.0       0.97      0.98      0.98      1278\n",
      "         1.0       0.86      0.77      0.81       174\n",
      "\n",
      "   micro avg       0.96      0.96      0.96      1452\n",
      "   macro avg       0.91      0.88      0.89      1452\n",
      "weighted avg       0.96      0.96      0.96      1452\n",
      "\n"
     ]
    }
   ],
   "source": [
    "gbt_classification_report = classification_report(y_test, gbt_clf_test_preds)\n",
    "print(gbt_classification_report)"
   ]
  },
  {
   "cell_type": "code",
   "execution_count": 88,
   "metadata": {},
   "outputs": [
    {
     "name": "stdout",
     "output_type": "stream",
     "text": [
      "Mean GBT Cross-Val Score (k=5):\n",
      "0.9223556294142086\n"
     ]
    }
   ],
   "source": [
    "print('Mean GBT Cross-Val Score (k=5):')\n",
    "print(cross_val_score(gbt_clf, scaled_df, target, cv=5).mean())"
   ]
  },
  {
   "cell_type": "code",
   "execution_count": 89,
   "metadata": {},
   "outputs": [
    {
     "data": {
      "text/plain": [
       "array([3.06067220e-02, 1.70830128e-02, 3.80745017e-02, 4.09621591e-02,\n",
       "       4.87516457e-02, 1.02567131e-01, 2.31726007e-02, 4.29100041e-02,\n",
       "       2.65361244e-02, 1.76752841e-02, 5.25838007e-02, 1.91916722e-02,\n",
       "       3.98711470e-02, 1.68520163e-01, 7.63869153e-02, 3.73747237e-02,\n",
       "       7.91978658e-05, 2.01333853e-02, 0.00000000e+00, 1.81775758e-02,\n",
       "       2.04517444e-02, 6.14399320e-03, 8.32607444e-03, 8.35916475e-03,\n",
       "       2.66735538e-02, 3.27440794e-02, 3.53161276e-02, 4.13274954e-02])"
      ]
     },
     "execution_count": 89,
     "metadata": {},
     "output_type": "execute_result"
    }
   ],
   "source": [
    "gbt_clf.feature_importances_"
   ]
  },
  {
   "cell_type": "code",
   "execution_count": 90,
   "metadata": {},
   "outputs": [
    {
     "data": {
      "image/png": "[encoded data removed]",
      "text/plain": [
       "<Figure size 576x576 with 1 Axes>"
      ]
     },
     "metadata": {
      "needs_background": "light"
     },
     "output_type": "display_data"
    }
   ],
   "source": [
    "import matplotlib.pyplot as plt\n",
    "\n",
    "def plot_feature_importances(model):\n",
    "    n_features = X_train.shape[1]\n",
    "    plt.figure(figsize=(8,8))\n",
    "    plt.barh(range(n_features), gbt_clf.feature_importances_, align='center') \n",
    "    plt.yticks(np.arange(n_features), X_train.columns.values) \n",
    "    plt.xlabel(\"Feature importance\")\n",
    "    plt.ylabel(\"Feature\")\n",
    "\n",
    "plot_feature_importances(gbt_clf)"
   ]
  },
  {
   "cell_type": "code",
   "execution_count": 97,
   "metadata": {},
   "outputs": [
    {
     "name": "stdout",
     "output_type": "stream",
     "text": [
      "AUC: 0.9833702084794849\n"
     ]
    },
    {
     "data": {
      "image/png": "[encoded data removed]",
      "text/plain": [
       "<Figure size 720x576 with 1 Axes>"
      ]
     },
     "metadata": {},
     "output_type": "display_data"
    }
   ],
   "source": [
    "from sklearn.metrics import roc_curve, auc\n",
    "import seaborn as sns\n",
    "#Probability scores for test set\n",
    "y_score = gbt_clf.fit(X_train, y_train).decision_function(X_test)\n",
    "#False positive Rate and true positive rate\n",
    "fpr, tpr, thresholds = roc_curve(y_test, y_score)\n",
    "\n",
    "sns.set_style(\"darkgrid\", {\"axes.facecolor\": \".9\"})\n",
    "\n",
    "print('AUC: {}'.format(auc(fpr, tpr)))\n",
    "plt.figure(figsize=(10,8))\n",
    "lw = 2\n",
    "plt.plot(fpr, tpr, color='darkorange',\n",
    "         lw=lw, label='ROC curve')\n",
    "plt.plot([0, 1], [0, 1], color='navy', lw=lw, linestyle='--')\n",
    "plt.xlim([0.0, 1.0])\n",
    "plt.ylim([0.0, 1.05])\n",
    "plt.yticks([i/20.0 for i in range(21)])\n",
    "plt.xticks([i/20.0 for i in range(21)])\n",
    "plt.xlabel('False Positive Rate')\n",
    "plt.ylabel('True Positive Rate')\n",
    "plt.title('Receiver operating characteristic (ROC) Curve')\n",
    "plt.legend(loc=\"lower right\")\n",
    "plt.show()"
   ]
  },
  {
   "cell_type": "code",
   "execution_count": 98,
   "metadata": {},
   "outputs": [
    {
     "data": {
      "text/plain": [
       "array([0.00000000e+00, 0.00000000e+00, 0.00000000e+00, 7.82472613e-04,\n",
       "       7.82472613e-04, 7.82472613e-04, 7.82472613e-04, 1.56494523e-03,\n",
       "       1.56494523e-03, 2.34741784e-03, 2.34741784e-03, 3.12989045e-03,\n",
       "       3.12989045e-03, 3.91236307e-03, 3.91236307e-03, 3.91236307e-03,\n",
       "       3.91236307e-03, 6.25978091e-03, 6.25978091e-03, 7.82472613e-03,\n",
       "       7.82472613e-03, 8.60719875e-03, 8.60719875e-03, 9.38967136e-03,\n",
       "       9.38967136e-03, 1.01721440e-02, 1.01721440e-02, 1.09546166e-02,\n",
       "       1.09546166e-02, 1.17370892e-02, 1.17370892e-02, 1.25195618e-02,\n",
       "       1.25195618e-02, 1.33020344e-02, 1.33020344e-02, 1.40845070e-02,\n",
       "       1.40845070e-02, 1.56494523e-02, 1.56494523e-02, 1.64319249e-02,\n",
       "       1.64319249e-02, 1.72143975e-02, 1.72143975e-02, 1.95618153e-02,\n",
       "       1.95618153e-02, 2.11267606e-02, 2.11267606e-02, 2.26917058e-02,\n",
       "       2.26917058e-02, 2.34741784e-02, 2.34741784e-02, 2.42566510e-02,\n",
       "       2.42566510e-02, 2.58215962e-02, 2.58215962e-02, 2.73865415e-02,\n",
       "       2.73865415e-02, 2.81690141e-02, 2.81690141e-02, 2.97339593e-02,\n",
       "       2.97339593e-02, 3.05164319e-02, 3.05164319e-02, 3.12989045e-02,\n",
       "       3.12989045e-02, 3.44287950e-02, 3.44287950e-02, 3.52112676e-02,\n",
       "       3.52112676e-02, 3.83411581e-02, 3.83411581e-02, 4.14710485e-02,\n",
       "       4.14710485e-02, 4.69483568e-02, 4.69483568e-02, 7.58998435e-02,\n",
       "       7.58998435e-02, 8.21596244e-02, 8.21596244e-02, 8.68544601e-02,\n",
       "       8.68544601e-02, 9.31142410e-02, 9.31142410e-02, 1.32237872e-01,\n",
       "       1.32237872e-01, 1.56494523e-01, 1.56494523e-01, 1.58059468e-01,\n",
       "       1.58059468e-01, 1.72926448e-01, 1.72926448e-01, 2.15179969e-01,\n",
       "       2.15179969e-01, 2.52738654e-01, 2.52738654e-01, 2.67605634e-01,\n",
       "       2.69170579e-01, 2.69953052e-01, 2.71517997e-01, 3.30985915e-01,\n",
       "       3.30985915e-01, 3.88106416e-01, 3.89671362e-01, 6.72926448e-01,\n",
       "       6.74491393e-01, 7.52738654e-01, 7.54303599e-01, 8.35680751e-01,\n",
       "       8.38028169e-01, 9.50704225e-01, 9.52269171e-01, 1.00000000e+00])"
      ]
     },
     "execution_count": 98,
     "metadata": {},
     "output_type": "execute_result"
    }
   ],
   "source": [
    "fpr"
   ]
  },
  {
   "cell_type": "code",
   "execution_count": null,
   "metadata": {},
   "outputs": [],
   "source": []
  }
 ],
 "metadata": {
  "kernelspec": {
   "display_name": "Python 3",
   "language": "python",
   "name": "python3"
  },
  "language_info": {
   "codemirror_mode": {
    "name": "ipython",
    "version": 3
   },
   "file_extension": ".py",
   "mimetype": "text/x-python",
   "name": "python",
   "nbconvert_exporter": "python",
   "pygments_lexer": "ipython3",
   "version": "3.6.7"
  }
 },
 "nbformat": 4,
 "nbformat_minor": 2
}
