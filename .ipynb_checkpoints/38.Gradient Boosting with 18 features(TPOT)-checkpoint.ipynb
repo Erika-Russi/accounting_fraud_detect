{
 "cells": [
  {
   "cell_type": "code",
   "execution_count": 1,
   "metadata": {},
   "outputs": [],
   "source": [
    "import warnings\n",
    "warnings.filterwarnings('ignore')\n",
    "import pandas as pd\n",
    "import numpy as np\n",
    "np.random.seed(0)\n",
    "import matplotlib.pyplot as plt\n",
    "%matplotlib inline\n",
    "from sklearn.model_selection import train_test_split, cross_val_score\n",
    "from sklearn.preprocessing import StandardScaler\n",
    "from sklearn.ensemble import AdaBoostClassifier, GradientBoostingClassifier, ExtraTreesClassifier\n",
    "from sklearn.metrics import accuracy_score, f1_score, confusion_matrix, classification_report\n",
    "from sklearn.pipeline import make_pipeline, make_union"
   ]
  },
  {
   "cell_type": "code",
   "execution_count": 4,
   "metadata": {},
   "outputs": [
    {
     "data": {
      "text/html": [
       "<div>\n",
       "<style scoped>\n",
       "    .dataframe tbody tr th:only-of-type {\n",
       "        vertical-align: middle;\n",
       "    }\n",
       "\n",
       "    .dataframe tbody tr th {\n",
       "        vertical-align: top;\n",
       "    }\n",
       "\n",
       "    .dataframe thead th {\n",
       "        text-align: right;\n",
       "    }\n",
       "</style>\n",
       "<table border=\"1\" class=\"dataframe\">\n",
       "  <thead>\n",
       "    <tr style=\"text-align: right;\">\n",
       "      <th></th>\n",
       "      <th>adsh</th>\n",
       "      <th>AccountsReceivable</th>\n",
       "      <th>Cash</th>\n",
       "      <th>CashFlowfromOps</th>\n",
       "      <th>CurrentLiabilities</th>\n",
       "      <th>Depreciation</th>\n",
       "      <th>Expenses</th>\n",
       "      <th>IntangibleAssets</th>\n",
       "      <th>OtherCurrentAssets</th>\n",
       "      <th>OtherIncome</th>\n",
       "      <th>...</th>\n",
       "      <th>total_deviation</th>\n",
       "      <th>CurrentRatio</th>\n",
       "      <th>DebtToEquityRatio</th>\n",
       "      <th>ProfitMargin</th>\n",
       "      <th>ReceivableTurnover</th>\n",
       "      <th>CollectionRatio</th>\n",
       "      <th>AQI</th>\n",
       "      <th>DEPI</th>\n",
       "      <th>TATA</th>\n",
       "      <th>fraud</th>\n",
       "    </tr>\n",
       "  </thead>\n",
       "  <tbody>\n",
       "    <tr>\n",
       "      <th>0</th>\n",
       "      <td>0000002178-18-000009</td>\n",
       "      <td>-0.049149</td>\n",
       "      <td>-0.047866</td>\n",
       "      <td>-0.188882</td>\n",
       "      <td>-0.115455</td>\n",
       "      <td>-0.133843</td>\n",
       "      <td>-0.093800</td>\n",
       "      <td>-0.15116</td>\n",
       "      <td>-0.077214</td>\n",
       "      <td>-0.066630</td>\n",
       "      <td>...</td>\n",
       "      <td>-0.433615</td>\n",
       "      <td>-0.013285</td>\n",
       "      <td>-0.013332</td>\n",
       "      <td>0.027361</td>\n",
       "      <td>-0.015921</td>\n",
       "      <td>-0.020880</td>\n",
       "      <td>-0.225344</td>\n",
       "      <td>0.271118</td>\n",
       "      <td>0.043936</td>\n",
       "      <td>0.0</td>\n",
       "    </tr>\n",
       "    <tr>\n",
       "      <th>1</th>\n",
       "      <td>0000002488-18-000042</td>\n",
       "      <td>-0.049063</td>\n",
       "      <td>0.039445</td>\n",
       "      <td>-0.155622</td>\n",
       "      <td>0.110438</td>\n",
       "      <td>-0.053649</td>\n",
       "      <td>0.001734</td>\n",
       "      <td>-0.09378</td>\n",
       "      <td>-0.030408</td>\n",
       "      <td>-0.040274</td>\n",
       "      <td>...</td>\n",
       "      <td>-0.370117</td>\n",
       "      <td>-0.013285</td>\n",
       "      <td>-0.013332</td>\n",
       "      <td>0.027402</td>\n",
       "      <td>0.026730</td>\n",
       "      <td>-0.020881</td>\n",
       "      <td>-0.124785</td>\n",
       "      <td>0.171077</td>\n",
       "      <td>-0.007698</td>\n",
       "      <td>0.0</td>\n",
       "    </tr>\n",
       "    <tr>\n",
       "      <th>2</th>\n",
       "      <td>0000002969-18-000014</td>\n",
       "      <td>-0.049886</td>\n",
       "      <td>-0.025498</td>\n",
       "      <td>0.017818</td>\n",
       "      <td>-0.121601</td>\n",
       "      <td>-0.135561</td>\n",
       "      <td>-0.106169</td>\n",
       "      <td>-0.15116</td>\n",
       "      <td>-0.078068</td>\n",
       "      <td>-0.079576</td>\n",
       "      <td>...</td>\n",
       "      <td>-0.212703</td>\n",
       "      <td>-0.013285</td>\n",
       "      <td>-0.013332</td>\n",
       "      <td>0.027331</td>\n",
       "      <td>-0.064152</td>\n",
       "      <td>-0.020882</td>\n",
       "      <td>-0.225344</td>\n",
       "      <td>0.279702</td>\n",
       "      <td>-0.047727</td>\n",
       "      <td>0.0</td>\n",
       "    </tr>\n",
       "    <tr>\n",
       "      <th>3</th>\n",
       "      <td>0000003499-18-000006</td>\n",
       "      <td>-0.048809</td>\n",
       "      <td>-0.013192</td>\n",
       "      <td>-0.139362</td>\n",
       "      <td>-0.054676</td>\n",
       "      <td>0.030564</td>\n",
       "      <td>-0.133451</td>\n",
       "      <td>-0.15116</td>\n",
       "      <td>-0.074839</td>\n",
       "      <td>-0.066710</td>\n",
       "      <td>...</td>\n",
       "      <td>0.332228</td>\n",
       "      <td>-0.013285</td>\n",
       "      <td>-0.013332</td>\n",
       "      <td>0.027377</td>\n",
       "      <td>-0.035438</td>\n",
       "      <td>-0.020870</td>\n",
       "      <td>-0.225344</td>\n",
       "      <td>0.364571</td>\n",
       "      <td>-0.022396</td>\n",
       "      <td>0.0</td>\n",
       "    </tr>\n",
       "    <tr>\n",
       "      <th>4</th>\n",
       "      <td>0000003545-18-000021</td>\n",
       "      <td>-0.049596</td>\n",
       "      <td>-0.051705</td>\n",
       "      <td>-0.198201</td>\n",
       "      <td>-0.122527</td>\n",
       "      <td>-0.158726</td>\n",
       "      <td>-0.140206</td>\n",
       "      <td>-0.15116</td>\n",
       "      <td>-0.078325</td>\n",
       "      <td>-0.066337</td>\n",
       "      <td>...</td>\n",
       "      <td>0.757414</td>\n",
       "      <td>-0.013285</td>\n",
       "      <td>-0.013332</td>\n",
       "      <td>0.027631</td>\n",
       "      <td>-0.033681</td>\n",
       "      <td>-0.020875</td>\n",
       "      <td>-0.225344</td>\n",
       "      <td>0.370698</td>\n",
       "      <td>0.699700</td>\n",
       "      <td>0.0</td>\n",
       "    </tr>\n",
       "  </tbody>\n",
       "</table>\n",
       "<p>5 rows × 23 columns</p>\n",
       "</div>"
      ],
      "text/plain": [
       "                   adsh  AccountsReceivable      Cash  CashFlowfromOps  \\\n",
       "0  0000002178-18-000009           -0.049149 -0.047866        -0.188882   \n",
       "1  0000002488-18-000042           -0.049063  0.039445        -0.155622   \n",
       "2  0000002969-18-000014           -0.049886 -0.025498         0.017818   \n",
       "3  0000003499-18-000006           -0.048809 -0.013192        -0.139362   \n",
       "4  0000003545-18-000021           -0.049596 -0.051705        -0.198201   \n",
       "\n",
       "   CurrentLiabilities  Depreciation  Expenses  IntangibleAssets  \\\n",
       "0           -0.115455     -0.133843 -0.093800          -0.15116   \n",
       "1            0.110438     -0.053649  0.001734          -0.09378   \n",
       "2           -0.121601     -0.135561 -0.106169          -0.15116   \n",
       "3           -0.054676      0.030564 -0.133451          -0.15116   \n",
       "4           -0.122527     -0.158726 -0.140206          -0.15116   \n",
       "\n",
       "   OtherCurrentAssets  OtherIncome  ...    total_deviation  CurrentRatio  \\\n",
       "0           -0.077214    -0.066630  ...          -0.433615     -0.013285   \n",
       "1           -0.030408    -0.040274  ...          -0.370117     -0.013285   \n",
       "2           -0.078068    -0.079576  ...          -0.212703     -0.013285   \n",
       "3           -0.074839    -0.066710  ...           0.332228     -0.013285   \n",
       "4           -0.078325    -0.066337  ...           0.757414     -0.013285   \n",
       "\n",
       "   DebtToEquityRatio  ProfitMargin  ReceivableTurnover  CollectionRatio  \\\n",
       "0          -0.013332      0.027361           -0.015921        -0.020880   \n",
       "1          -0.013332      0.027402            0.026730        -0.020881   \n",
       "2          -0.013332      0.027331           -0.064152        -0.020882   \n",
       "3          -0.013332      0.027377           -0.035438        -0.020870   \n",
       "4          -0.013332      0.027631           -0.033681        -0.020875   \n",
       "\n",
       "        AQI      DEPI      TATA  fraud  \n",
       "0 -0.225344  0.271118  0.043936    0.0  \n",
       "1 -0.124785  0.171077 -0.007698    0.0  \n",
       "2 -0.225344  0.279702 -0.047727    0.0  \n",
       "3 -0.225344  0.364571 -0.022396    0.0  \n",
       "4 -0.225344  0.370698  0.699700    0.0  \n",
       "\n",
       "[5 rows x 23 columns]"
      ]
     },
     "execution_count": 4,
     "metadata": {},
     "output_type": "execute_result"
    }
   ],
   "source": [
    "df = pd.read_csv('scaled_df_on_70%features.csv')\n",
    "df.head()"
   ]
  },
  {
   "cell_type": "code",
   "execution_count": 5,
   "metadata": {},
   "outputs": [],
   "source": [
    "target = df.fraud"
   ]
  },
  {
   "cell_type": "code",
   "execution_count": 6,
   "metadata": {},
   "outputs": [
    {
     "data": {
      "text/html": [
       "<div>\n",
       "<style scoped>\n",
       "    .dataframe tbody tr th:only-of-type {\n",
       "        vertical-align: middle;\n",
       "    }\n",
       "\n",
       "    .dataframe tbody tr th {\n",
       "        vertical-align: top;\n",
       "    }\n",
       "\n",
       "    .dataframe thead th {\n",
       "        text-align: right;\n",
       "    }\n",
       "</style>\n",
       "<table border=\"1\" class=\"dataframe\">\n",
       "  <thead>\n",
       "    <tr style=\"text-align: right;\">\n",
       "      <th></th>\n",
       "      <th>AccountsReceivable</th>\n",
       "      <th>Cash</th>\n",
       "      <th>CashFlowfromOps</th>\n",
       "      <th>CurrentLiabilities</th>\n",
       "      <th>Depreciation</th>\n",
       "      <th>Expenses</th>\n",
       "      <th>IntangibleAssets</th>\n",
       "      <th>OtherCurrentAssets</th>\n",
       "      <th>OtherIncome</th>\n",
       "      <th>Sales</th>\n",
       "      <th>...</th>\n",
       "      <th>sum_of_first_digits</th>\n",
       "      <th>total_deviation</th>\n",
       "      <th>CurrentRatio</th>\n",
       "      <th>DebtToEquityRatio</th>\n",
       "      <th>ProfitMargin</th>\n",
       "      <th>ReceivableTurnover</th>\n",
       "      <th>CollectionRatio</th>\n",
       "      <th>AQI</th>\n",
       "      <th>DEPI</th>\n",
       "      <th>TATA</th>\n",
       "    </tr>\n",
       "  </thead>\n",
       "  <tbody>\n",
       "    <tr>\n",
       "      <th>0</th>\n",
       "      <td>-0.049149</td>\n",
       "      <td>-0.047866</td>\n",
       "      <td>-0.188882</td>\n",
       "      <td>-0.115455</td>\n",
       "      <td>-0.133843</td>\n",
       "      <td>-0.093800</td>\n",
       "      <td>-0.15116</td>\n",
       "      <td>-0.077214</td>\n",
       "      <td>-0.066630</td>\n",
       "      <td>-0.093298</td>\n",
       "      <td>...</td>\n",
       "      <td>-0.002642</td>\n",
       "      <td>-0.433615</td>\n",
       "      <td>-0.013285</td>\n",
       "      <td>-0.013332</td>\n",
       "      <td>0.027361</td>\n",
       "      <td>-0.015921</td>\n",
       "      <td>-0.020880</td>\n",
       "      <td>-0.225344</td>\n",
       "      <td>0.271118</td>\n",
       "      <td>0.043936</td>\n",
       "    </tr>\n",
       "    <tr>\n",
       "      <th>1</th>\n",
       "      <td>-0.049063</td>\n",
       "      <td>0.039445</td>\n",
       "      <td>-0.155622</td>\n",
       "      <td>0.110438</td>\n",
       "      <td>-0.053649</td>\n",
       "      <td>0.001734</td>\n",
       "      <td>-0.09378</td>\n",
       "      <td>-0.030408</td>\n",
       "      <td>-0.040274</td>\n",
       "      <td>0.156840</td>\n",
       "      <td>...</td>\n",
       "      <td>0.351155</td>\n",
       "      <td>-0.370117</td>\n",
       "      <td>-0.013285</td>\n",
       "      <td>-0.013332</td>\n",
       "      <td>0.027402</td>\n",
       "      <td>0.026730</td>\n",
       "      <td>-0.020881</td>\n",
       "      <td>-0.124785</td>\n",
       "      <td>0.171077</td>\n",
       "      <td>-0.007698</td>\n",
       "    </tr>\n",
       "    <tr>\n",
       "      <th>2</th>\n",
       "      <td>-0.049886</td>\n",
       "      <td>-0.025498</td>\n",
       "      <td>0.017818</td>\n",
       "      <td>-0.121601</td>\n",
       "      <td>-0.135561</td>\n",
       "      <td>-0.106169</td>\n",
       "      <td>-0.15116</td>\n",
       "      <td>-0.078068</td>\n",
       "      <td>-0.079576</td>\n",
       "      <td>-0.125931</td>\n",
       "      <td>...</td>\n",
       "      <td>-0.567419</td>\n",
       "      <td>-0.212703</td>\n",
       "      <td>-0.013285</td>\n",
       "      <td>-0.013332</td>\n",
       "      <td>0.027331</td>\n",
       "      <td>-0.064152</td>\n",
       "      <td>-0.020882</td>\n",
       "      <td>-0.225344</td>\n",
       "      <td>0.279702</td>\n",
       "      <td>-0.047727</td>\n",
       "    </tr>\n",
       "    <tr>\n",
       "      <th>3</th>\n",
       "      <td>-0.048809</td>\n",
       "      <td>-0.013192</td>\n",
       "      <td>-0.139362</td>\n",
       "      <td>-0.054676</td>\n",
       "      <td>0.030564</td>\n",
       "      <td>-0.133451</td>\n",
       "      <td>-0.15116</td>\n",
       "      <td>-0.074839</td>\n",
       "      <td>-0.066710</td>\n",
       "      <td>-0.176973</td>\n",
       "      <td>...</td>\n",
       "      <td>-0.463552</td>\n",
       "      <td>0.332228</td>\n",
       "      <td>-0.013285</td>\n",
       "      <td>-0.013332</td>\n",
       "      <td>0.027377</td>\n",
       "      <td>-0.035438</td>\n",
       "      <td>-0.020870</td>\n",
       "      <td>-0.225344</td>\n",
       "      <td>0.364571</td>\n",
       "      <td>-0.022396</td>\n",
       "    </tr>\n",
       "    <tr>\n",
       "      <th>4</th>\n",
       "      <td>-0.049596</td>\n",
       "      <td>-0.051705</td>\n",
       "      <td>-0.198201</td>\n",
       "      <td>-0.122527</td>\n",
       "      <td>-0.158726</td>\n",
       "      <td>-0.140206</td>\n",
       "      <td>-0.15116</td>\n",
       "      <td>-0.078325</td>\n",
       "      <td>-0.066337</td>\n",
       "      <td>-0.191193</td>\n",
       "      <td>...</td>\n",
       "      <td>-0.885512</td>\n",
       "      <td>0.757414</td>\n",
       "      <td>-0.013285</td>\n",
       "      <td>-0.013332</td>\n",
       "      <td>0.027631</td>\n",
       "      <td>-0.033681</td>\n",
       "      <td>-0.020875</td>\n",
       "      <td>-0.225344</td>\n",
       "      <td>0.370698</td>\n",
       "      <td>0.699700</td>\n",
       "    </tr>\n",
       "  </tbody>\n",
       "</table>\n",
       "<p>5 rows × 21 columns</p>\n",
       "</div>"
      ],
      "text/plain": [
       "   AccountsReceivable      Cash  CashFlowfromOps  CurrentLiabilities  \\\n",
       "0           -0.049149 -0.047866        -0.188882           -0.115455   \n",
       "1           -0.049063  0.039445        -0.155622            0.110438   \n",
       "2           -0.049886 -0.025498         0.017818           -0.121601   \n",
       "3           -0.048809 -0.013192        -0.139362           -0.054676   \n",
       "4           -0.049596 -0.051705        -0.198201           -0.122527   \n",
       "\n",
       "   Depreciation  Expenses  IntangibleAssets  OtherCurrentAssets  OtherIncome  \\\n",
       "0     -0.133843 -0.093800          -0.15116           -0.077214    -0.066630   \n",
       "1     -0.053649  0.001734          -0.09378           -0.030408    -0.040274   \n",
       "2     -0.135561 -0.106169          -0.15116           -0.078068    -0.079576   \n",
       "3      0.030564 -0.133451          -0.15116           -0.074839    -0.066710   \n",
       "4     -0.158726 -0.140206          -0.15116           -0.078325    -0.066337   \n",
       "\n",
       "      Sales    ...     sum_of_first_digits  total_deviation  CurrentRatio  \\\n",
       "0 -0.093298    ...               -0.002642        -0.433615     -0.013285   \n",
       "1  0.156840    ...                0.351155        -0.370117     -0.013285   \n",
       "2 -0.125931    ...               -0.567419        -0.212703     -0.013285   \n",
       "3 -0.176973    ...               -0.463552         0.332228     -0.013285   \n",
       "4 -0.191193    ...               -0.885512         0.757414     -0.013285   \n",
       "\n",
       "   DebtToEquityRatio  ProfitMargin  ReceivableTurnover  CollectionRatio  \\\n",
       "0          -0.013332      0.027361           -0.015921        -0.020880   \n",
       "1          -0.013332      0.027402            0.026730        -0.020881   \n",
       "2          -0.013332      0.027331           -0.064152        -0.020882   \n",
       "3          -0.013332      0.027377           -0.035438        -0.020870   \n",
       "4          -0.013332      0.027631           -0.033681        -0.020875   \n",
       "\n",
       "        AQI      DEPI      TATA  \n",
       "0 -0.225344  0.271118  0.043936  \n",
       "1 -0.124785  0.171077 -0.007698  \n",
       "2 -0.225344  0.279702 -0.047727  \n",
       "3 -0.225344  0.364571 -0.022396  \n",
       "4 -0.225344  0.370698  0.699700  \n",
       "\n",
       "[5 rows x 21 columns]"
      ]
     },
     "execution_count": 6,
     "metadata": {},
     "output_type": "execute_result"
    }
   ],
   "source": [
    "df = df.drop(['adsh','fraud'], axis=1)\n",
    "df.head()"
   ]
  },
  {
   "cell_type": "code",
   "execution_count": 18,
   "metadata": {},
   "outputs": [],
   "source": [
    "X_train, X_test, y_train, y_test = train_test_split(df, target)"
   ]
  },
  {
   "cell_type": "code",
   "execution_count": 19,
   "metadata": {},
   "outputs": [
    {
     "data": {
      "text/plain": [
       "Pipeline(memory=None,\n",
       "     steps=[('stackingestimator', StackingEstimator(estimator=ExtraTreesClassifier(bootstrap=False, class_weight=None, criterion='gini',\n",
       "           max_depth=None, max_features=0.9000000000000001,\n",
       "           max_leaf_nodes=None, min_impurity_decrease=0.0,\n",
       "           min_impurity_split=None, min_samples_l....6000000000000001, tol=0.0001,\n",
       "              validation_fraction=0.1, verbose=0, warm_start=False))])"
      ]
     },
     "execution_count": 19,
     "metadata": {},
     "output_type": "execute_result"
    }
   ],
   "source": [
    "from tpot.builtins import StackingEstimator\n",
    "exported_pipeline = make_pipeline(\n",
    "    StackingEstimator(estimator=ExtraTreesClassifier(bootstrap=False, criterion=\"gini\", max_features=0.9000000000000001, min_samples_leaf=2, min_samples_split=5, n_estimators=100)),\n",
    "    GradientBoostingClassifier(learning_rate=0.5, max_depth=6, max_features=0.1, min_samples_leaf=1, min_samples_split=13, n_estimators=100, subsample=0.6000000000000001)\n",
    ")\n",
    "\n",
    "exported_pipeline.fit(X_train, y_train)"
   ]
  },
  {
   "cell_type": "code",
   "execution_count": 20,
   "metadata": {},
   "outputs": [],
   "source": [
    "clf = exported_pipeline.fit(X_train,y_train)\n",
    "\n",
    "# features = scaled_df.columns\n",
    "# X = pd.DataFrame(data = gbt, columns = features)\n",
    "# X"
   ]
  },
  {
   "cell_type": "code",
   "execution_count": 21,
   "metadata": {},
   "outputs": [],
   "source": [
    "\n",
    "clf_train_preds = clf.predict(X_train)\n",
    "clf_test_preds = clf.predict(X_test)"
   ]
  },
  {
   "cell_type": "code",
   "execution_count": 22,
   "metadata": {},
   "outputs": [
    {
     "name": "stdout",
     "output_type": "stream",
     "text": [
      "Training Metrics\n",
      "\n",
      "Model: Stacked Classifier\n",
      "Accuracy: 1.0\n",
      "F1-Score: 1.0\n",
      "\n",
      "Testing Metrics\n",
      "\n",
      "Model: Stacked Classifier\n",
      "Accuracy: 0.997716894977169\n",
      "F1-Score: 0.9977810650887573\n"
     ]
    }
   ],
   "source": [
    "def display_acc_and_f1_score(true, preds, model_name):\n",
    "    acc = accuracy_score(true, preds)\n",
    "    f1 = f1_score(true, preds)\n",
    "    print(\"Model: {}\".format(model_name))\n",
    "    print(\"Accuracy: {}\".format(acc))\n",
    "    print(\"F1-Score: {}\".format(f1))\n",
    "    \n",
    "print(\"Training Metrics\")\n",
    "# display_acc_and_f1_score(y_train, adaboost_train_preds, model_name='AdaBoost')\n",
    "print(\"\")\n",
    "display_acc_and_f1_score(y_train, clf_train_preds, model_name='Stacked Classifier')\n",
    "print(\"\")\n",
    "print(\"Testing Metrics\")\n",
    "# display_acc_and_f1_score(y_test, adaboost_test_preds, model_name='AdaBoost')\n",
    "print(\"\")\n",
    "display_acc_and_f1_score(y_test, clf_test_preds, model_name='Stacked Classifier')\n"
   ]
  },
  {
   "cell_type": "code",
   "execution_count": 23,
   "metadata": {},
   "outputs": [
    {
     "data": {
      "text/plain": [
       "array([[1273,    6],\n",
       "       [   0, 1349]])"
      ]
     },
     "execution_count": 23,
     "metadata": {},
     "output_type": "execute_result"
    }
   ],
   "source": [
    "clf_confusion_matrix = confusion_matrix(y_test, clf_test_preds)\n",
    "clf_confusion_matrix"
   ]
  },
  {
   "cell_type": "code",
   "execution_count": 24,
   "metadata": {},
   "outputs": [
    {
     "name": "stdout",
     "output_type": "stream",
     "text": [
      "              precision    recall  f1-score   support\n",
      "\n",
      "         0.0       1.00      1.00      1.00      1279\n",
      "         1.0       1.00      1.00      1.00      1349\n",
      "\n",
      "   micro avg       1.00      1.00      1.00      2628\n",
      "   macro avg       1.00      1.00      1.00      2628\n",
      "weighted avg       1.00      1.00      1.00      2628\n",
      "\n"
     ]
    }
   ],
   "source": [
    "clf_classification_report = classification_report(y_test, clf_test_preds)\n",
    "print(clf_classification_report)"
   ]
  },
  {
   "cell_type": "code",
   "execution_count": 25,
   "metadata": {},
   "outputs": [
    {
     "name": "stdout",
     "output_type": "stream",
     "text": [
      "Mean GBT Cross-Val Score (k=5):\n",
      "0.5806957498868369\n"
     ]
    }
   ],
   "source": [
    "print('Mean GBT Cross-Val Score (k=5):')\n",
    "print(cross_val_score(clf, df, target, cv=5).mean())"
   ]
  },
  {
   "cell_type": "markdown",
   "metadata": {},
   "source": [
    "# With Variance Threshold"
   ]
  },
  {
   "cell_type": "code",
   "execution_count": 19,
   "metadata": {},
   "outputs": [],
   "source": [
    "selector = VarianceThreshold(threshold=.005)\n",
    "VT = selector.fit_transform(scaled_df)\n",
    "features = df.columns\n",
    "X = pd.DataFrame(data = VT, columns = features)"
   ]
  },
  {
   "cell_type": "code",
   "execution_count": 20,
   "metadata": {},
   "outputs": [],
   "source": [
    "X_train, X_test, y_train, y_test = train_test_split(X, target, test_size=0.25)"
   ]
  },
  {
   "cell_type": "code",
   "execution_count": 21,
   "metadata": {},
   "outputs": [],
   "source": [
    "gbt_clf = GradientBoostingClassifier(learning_rate=0.1, max_depth=10,\n",
    "                                    max_features=0.35000000000000003, min_samples_leaf=10, min_samples_split=5, \n",
    "                                     n_estimators=100, subsample=0.7500000000000001)"
   ]
  },
  {
   "cell_type": "code",
   "execution_count": 22,
   "metadata": {},
   "outputs": [
    {
     "data": {
      "text/plain": [
       "GradientBoostingClassifier(criterion='friedman_mse', init=None,\n",
       "              learning_rate=0.1, loss='deviance', max_depth=10,\n",
       "              max_features=0.35000000000000003, max_leaf_nodes=None,\n",
       "              min_impurity_decrease=0.0, min_impurity_split=None,\n",
       "              min_samples_leaf=10, min_samples_split=5,\n",
       "              min_weight_fraction_leaf=0.0, n_estimators=100,\n",
       "              n_iter_no_change=None, presort='auto', random_state=None,\n",
       "              subsample=0.7500000000000001, tol=0.0001,\n",
       "              validation_fraction=0.1, verbose=0, warm_start=False)"
      ]
     },
     "execution_count": 22,
     "metadata": {},
     "output_type": "execute_result"
    }
   ],
   "source": [
    "gbt_clf.fit(X_train, y_train)"
   ]
  },
  {
   "cell_type": "code",
   "execution_count": 23,
   "metadata": {},
   "outputs": [],
   "source": [
    "gbt_clf_train_preds = gbt_clf.predict(X_train)\n",
    "gbt_clf_test_preds = gbt_clf.predict(X_test)"
   ]
  },
  {
   "cell_type": "code",
   "execution_count": 24,
   "metadata": {},
   "outputs": [
    {
     "name": "stdout",
     "output_type": "stream",
     "text": [
      "Training Metrics\n",
      "Model: Gradient Boosted Trees\n",
      "Accuracy: 0.9983930211202938\n",
      "F1-Score: 0.9935602575896963\n",
      "Testing Metrics\n",
      "Model: Gradient Boosted Trees\n",
      "Accuracy: 0.9655647382920111\n",
      "F1-Score: 0.8648648648648648\n"
     ]
    }
   ],
   "source": [
    "print(\"Training Metrics\")\n",
    "display_acc_and_f1_score(y_train, gbt_clf_train_preds, model_name='Gradient Boosted Trees')\n",
    "print(\"Testing Metrics\")\n",
    "display_acc_and_f1_score(y_test, gbt_clf_test_preds, model_name='Gradient Boosted Trees')\n"
   ]
  },
  {
   "cell_type": "code",
   "execution_count": 25,
   "metadata": {},
   "outputs": [
    {
     "data": {
      "text/plain": [
       "array([[1242,   14],\n",
       "       [  36,  160]])"
      ]
     },
     "execution_count": 25,
     "metadata": {},
     "output_type": "execute_result"
    }
   ],
   "source": [
    "gbt_confusion_matrix = confusion_matrix(y_test, gbt_clf_test_preds)\n",
    "gbt_confusion_matrix"
   ]
  },
  {
   "cell_type": "code",
   "execution_count": 26,
   "metadata": {},
   "outputs": [
    {
     "name": "stdout",
     "output_type": "stream",
     "text": [
      "              precision    recall  f1-score   support\n",
      "\n",
      "         0.0       0.97      0.99      0.98      1256\n",
      "         1.0       0.92      0.82      0.86       196\n",
      "\n",
      "   micro avg       0.97      0.97      0.97      1452\n",
      "   macro avg       0.95      0.90      0.92      1452\n",
      "weighted avg       0.96      0.97      0.96      1452\n",
      "\n"
     ]
    }
   ],
   "source": [
    "gbt_classification_report = classification_report(y_test, gbt_clf_test_preds)\n",
    "print(gbt_classification_report)"
   ]
  },
  {
   "cell_type": "code",
   "execution_count": 27,
   "metadata": {},
   "outputs": [
    {
     "name": "stdout",
     "output_type": "stream",
     "text": [
      "Mean GBT Cross-Val Score (k=5):\n",
      "0.9103017983263101\n"
     ]
    }
   ],
   "source": [
    "print('Mean GBT Cross-Val Score (k=5):')\n",
    "print(cross_val_score(gbt_clf, scaled_df, target, cv=5).mean())"
   ]
  },
  {
   "cell_type": "code",
   "execution_count": 28,
   "metadata": {},
   "outputs": [
    {
     "data": {
      "text/plain": [
       "array([7.92608892e-02, 5.43487667e-02, 1.48976600e-01, 6.15812285e-02,\n",
       "       1.76499156e-01, 9.79943168e-02, 2.27384760e-03, 1.40282408e-04,\n",
       "       4.66246365e-02, 4.38533504e-02, 7.05661527e-02, 1.14752845e-01,\n",
       "       1.03127927e-01])"
      ]
     },
     "execution_count": 28,
     "metadata": {},
     "output_type": "execute_result"
    }
   ],
   "source": [
    "gbt_clf.feature_importances_"
   ]
  },
  {
   "cell_type": "code",
   "execution_count": 26,
   "metadata": {},
   "outputs": [
    {
     "ename": "AttributeError",
     "evalue": "'Pipeline' object has no attribute 'feature_importances_'",
     "output_type": "error",
     "traceback": [
      "\u001b[0;31m---------------------------------------------------------------------------\u001b[0m",
      "\u001b[0;31mAttributeError\u001b[0m                            Traceback (most recent call last)",
      "\u001b[0;32m<ipython-input-26-a2d2196cace7>\u001b[0m in \u001b[0;36m<module>\u001b[0;34m\u001b[0m\n\u001b[1;32m      9\u001b[0m     \u001b[0mplt\u001b[0m\u001b[0;34m.\u001b[0m\u001b[0mylabel\u001b[0m\u001b[0;34m(\u001b[0m\u001b[0;34m\"Feature\"\u001b[0m\u001b[0;34m)\u001b[0m\u001b[0;34m\u001b[0m\u001b[0;34m\u001b[0m\u001b[0m\n\u001b[1;32m     10\u001b[0m \u001b[0;34m\u001b[0m\u001b[0m\n\u001b[0;32m---> 11\u001b[0;31m \u001b[0mplot_feature_importances\u001b[0m\u001b[0;34m(\u001b[0m\u001b[0mclf\u001b[0m\u001b[0;34m)\u001b[0m\u001b[0;34m\u001b[0m\u001b[0;34m\u001b[0m\u001b[0m\n\u001b[0m",
      "\u001b[0;32m<ipython-input-26-a2d2196cace7>\u001b[0m in \u001b[0;36mplot_feature_importances\u001b[0;34m(model)\u001b[0m\n\u001b[1;32m      4\u001b[0m     \u001b[0mn_features\u001b[0m \u001b[0;34m=\u001b[0m \u001b[0mX_train\u001b[0m\u001b[0;34m.\u001b[0m\u001b[0mshape\u001b[0m\u001b[0;34m[\u001b[0m\u001b[0;36m1\u001b[0m\u001b[0;34m]\u001b[0m\u001b[0;34m\u001b[0m\u001b[0;34m\u001b[0m\u001b[0m\n\u001b[1;32m      5\u001b[0m     \u001b[0mplt\u001b[0m\u001b[0;34m.\u001b[0m\u001b[0mfigure\u001b[0m\u001b[0;34m(\u001b[0m\u001b[0mfigsize\u001b[0m\u001b[0;34m=\u001b[0m\u001b[0;34m(\u001b[0m\u001b[0;36m8\u001b[0m\u001b[0;34m,\u001b[0m\u001b[0;36m8\u001b[0m\u001b[0;34m)\u001b[0m\u001b[0;34m)\u001b[0m\u001b[0;34m\u001b[0m\u001b[0;34m\u001b[0m\u001b[0m\n\u001b[0;32m----> 6\u001b[0;31m     \u001b[0mplt\u001b[0m\u001b[0;34m.\u001b[0m\u001b[0mbarh\u001b[0m\u001b[0;34m(\u001b[0m\u001b[0mrange\u001b[0m\u001b[0;34m(\u001b[0m\u001b[0mn_features\u001b[0m\u001b[0;34m)\u001b[0m\u001b[0;34m,\u001b[0m \u001b[0mclf\u001b[0m\u001b[0;34m.\u001b[0m\u001b[0mfeature_importances_\u001b[0m\u001b[0;34m,\u001b[0m \u001b[0malign\u001b[0m\u001b[0;34m=\u001b[0m\u001b[0;34m'center'\u001b[0m\u001b[0;34m)\u001b[0m\u001b[0;34m\u001b[0m\u001b[0;34m\u001b[0m\u001b[0m\n\u001b[0m\u001b[1;32m      7\u001b[0m     \u001b[0mplt\u001b[0m\u001b[0;34m.\u001b[0m\u001b[0myticks\u001b[0m\u001b[0;34m(\u001b[0m\u001b[0mnp\u001b[0m\u001b[0;34m.\u001b[0m\u001b[0marange\u001b[0m\u001b[0;34m(\u001b[0m\u001b[0mn_features\u001b[0m\u001b[0;34m)\u001b[0m\u001b[0;34m,\u001b[0m \u001b[0mX_train\u001b[0m\u001b[0;34m.\u001b[0m\u001b[0mcolumns\u001b[0m\u001b[0;34m.\u001b[0m\u001b[0mvalues\u001b[0m\u001b[0;34m)\u001b[0m\u001b[0;34m\u001b[0m\u001b[0;34m\u001b[0m\u001b[0m\n\u001b[1;32m      8\u001b[0m     \u001b[0mplt\u001b[0m\u001b[0;34m.\u001b[0m\u001b[0mxlabel\u001b[0m\u001b[0;34m(\u001b[0m\u001b[0;34m\"Feature importance\"\u001b[0m\u001b[0;34m)\u001b[0m\u001b[0;34m\u001b[0m\u001b[0;34m\u001b[0m\u001b[0m\n",
      "\u001b[0;31mAttributeError\u001b[0m: 'Pipeline' object has no attribute 'feature_importances_'"
     ]
    },
    {
     "data": {
      "text/plain": [
       "<Figure size 576x576 with 0 Axes>"
      ]
     },
     "metadata": {},
     "output_type": "display_data"
    }
   ],
   "source": [
    "import matplotlib.pyplot as plt\n",
    "\n",
    "def plot_feature_importances(model):\n",
    "    n_features = X_train.shape[1]\n",
    "    plt.figure(figsize=(8,8))\n",
    "    plt.barh(range(n_features), clf.feature_importances_, align='center') \n",
    "    plt.yticks(np.arange(n_features), X_train.columns.values) \n",
    "    plt.xlabel(\"Feature importance\")\n",
    "    plt.ylabel(\"Feature\")\n",
    "\n",
    "plot_feature_importances(clf)"
   ]
  },
  {
   "cell_type": "code",
   "execution_count": 27,
   "metadata": {},
   "outputs": [
    {
     "name": "stdout",
     "output_type": "stream",
     "text": [
      "AUC: 0.997102072539761\n"
     ]
    },
    {
     "data": {
      "image/png": "[encoded data removed]",
      "text/plain": [
       "<Figure size 720x576 with 1 Axes>"
      ]
     },
     "metadata": {},
     "output_type": "display_data"
    }
   ],
   "source": [
    "from sklearn.metrics import roc_curve, auc\n",
    "import seaborn as sns\n",
    "#Probability scores for test set\n",
    "y_score = clf.fit(X_train, y_train).decision_function(X_test)\n",
    "#False positive Rate and true positive rate\n",
    "fpr, tpr, thresholds = roc_curve(y_test, y_score)\n",
    "\n",
    "sns.set_style(\"darkgrid\", {\"axes.facecolor\": \".9\"})\n",
    "\n",
    "print('AUC: {}'.format(auc(fpr, tpr)))\n",
    "plt.figure(figsize=(10,8))\n",
    "lw = 2\n",
    "plt.plot(fpr, tpr, color='darkorange',\n",
    "         lw=lw, label='ROC curve')\n",
    "plt.plot([0, 1], [0, 1], color='navy', lw=lw, linestyle='--')\n",
    "plt.xlim([0.0, 1.0])\n",
    "plt.ylim([0.0, 1.05])\n",
    "plt.yticks([i/20.0 for i in range(21)])\n",
    "plt.xticks([i/20.0 for i in range(21)])\n",
    "plt.xlabel('False Positive Rate')\n",
    "plt.ylabel('True Positive Rate')\n",
    "plt.title('Receiver operating characteristic (ROC) Curve')\n",
    "plt.legend(loc=\"lower right\")\n",
    "plt.show()"
   ]
  },
  {
   "cell_type": "code",
   "execution_count": null,
   "metadata": {},
   "outputs": [],
   "source": []
  }
 ],
 "metadata": {
  "kernelspec": {
   "display_name": "Python 3",
   "language": "python",
   "name": "python3"
  },
  "language_info": {
   "codemirror_mode": {
    "name": "ipython",
    "version": 3
   },
   "file_extension": ".py",
   "mimetype": "text/x-python",
   "name": "python",
   "nbconvert_exporter": "python",
   "pygments_lexer": "ipython3",
   "version": "3.6.7"
  }
 },
 "nbformat": 4,
 "nbformat_minor": 2
}
