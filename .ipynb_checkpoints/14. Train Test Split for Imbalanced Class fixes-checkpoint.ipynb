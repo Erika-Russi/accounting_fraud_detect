{
 "cells": [
  {
   "cell_type": "markdown",
   "metadata": {},
   "source": [
    "### Final Project Requirements/notes: https://docs.google.com/document/d/1mwYbYJHkB7kpx4tNflKh54jN9_oOscw3p4k5fsmn3bc/edit"
   ]
  },
  {
   "cell_type": "code",
   "execution_count": 1,
   "metadata": {},
   "outputs": [],
   "source": [
    "import warnings\n",
    "warnings.filterwarnings('ignore')\n",
    "import pandas as pd"
   ]
  },
  {
   "cell_type": "code",
   "execution_count": 2,
   "metadata": {},
   "outputs": [
    {
     "data": {
      "text/html": [
       "<div>\n",
       "<style scoped>\n",
       "    .dataframe tbody tr th:only-of-type {\n",
       "        vertical-align: middle;\n",
       "    }\n",
       "\n",
       "    .dataframe tbody tr th {\n",
       "        vertical-align: top;\n",
       "    }\n",
       "\n",
       "    .dataframe thead th {\n",
       "        text-align: right;\n",
       "    }\n",
       "</style>\n",
       "<table border=\"1\" class=\"dataframe\">\n",
       "  <thead>\n",
       "    <tr style=\"text-align: right;\">\n",
       "      <th></th>\n",
       "      <th>adsh</th>\n",
       "      <th>fraud</th>\n",
       "      <th>AccountsReceivable</th>\n",
       "      <th>Cash</th>\n",
       "      <th>CashFlowfromOps</th>\n",
       "      <th>CurrentLiabilities</th>\n",
       "      <th>Depreciation</th>\n",
       "      <th>Expenses</th>\n",
       "      <th>IntangibleAssets</th>\n",
       "      <th>OtherCurrentAssets</th>\n",
       "      <th>...</th>\n",
       "      <th>DebtToEquityRatio</th>\n",
       "      <th>NetIncome</th>\n",
       "      <th>ProfitMargin</th>\n",
       "      <th>ReceivableTurnover</th>\n",
       "      <th>CollectionRatio</th>\n",
       "      <th>DSRI</th>\n",
       "      <th>TotalAssets</th>\n",
       "      <th>AQI</th>\n",
       "      <th>DEPI</th>\n",
       "      <th>TATA</th>\n",
       "    </tr>\n",
       "  </thead>\n",
       "  <tbody>\n",
       "    <tr>\n",
       "      <th>0</th>\n",
       "      <td>0000002178-18-000009</td>\n",
       "      <td>0.0</td>\n",
       "      <td>1.939190e+08</td>\n",
       "      <td>3.910830e+08</td>\n",
       "      <td>5.484600e+07</td>\n",
       "      <td>2.057540e+08</td>\n",
       "      <td>3.608060e+08</td>\n",
       "      <td>8.634819e+09</td>\n",
       "      <td>0.000000e+00</td>\n",
       "      <td>1.024242e+09</td>\n",
       "      <td>...</td>\n",
       "      <td>0.458104</td>\n",
       "      <td>3.487102e+09</td>\n",
       "      <td>0.287669</td>\n",
       "      <td>62.510228</td>\n",
       "      <td>5.839044</td>\n",
       "      <td>0.015997</td>\n",
       "      <td>2.438422e+09</td>\n",
       "      <td>0.000000</td>\n",
       "      <td>0.303202</td>\n",
       "      <td>1.407573</td>\n",
       "    </tr>\n",
       "    <tr>\n",
       "      <th>1</th>\n",
       "      <td>0000002488-18-000042</td>\n",
       "      <td>0.0</td>\n",
       "      <td>3.670000e+08</td>\n",
       "      <td>4.719000e+09</td>\n",
       "      <td>-6.800000e+07</td>\n",
       "      <td>7.206000e+09</td>\n",
       "      <td>2.143000e+09</td>\n",
       "      <td>2.505300e+10</td>\n",
       "      <td>1.123200e+10</td>\n",
       "      <td>3.914400e+10</td>\n",
       "      <td>...</td>\n",
       "      <td>2.080050</td>\n",
       "      <td>1.209000e+10</td>\n",
       "      <td>0.325499</td>\n",
       "      <td>101.207084</td>\n",
       "      <td>3.606467</td>\n",
       "      <td>0.009881</td>\n",
       "      <td>6.242400e+10</td>\n",
       "      <td>0.179931</td>\n",
       "      <td>0.235365</td>\n",
       "      <td>0.194765</td>\n",
       "    </tr>\n",
       "    <tr>\n",
       "      <th>2</th>\n",
       "      <td>0000002969-18-000014</td>\n",
       "      <td>0.0</td>\n",
       "      <td>2.337100e+09</td>\n",
       "      <td>1.333080e+10</td>\n",
       "      <td>1.091700e+09</td>\n",
       "      <td>4.203800e+09</td>\n",
       "      <td>2.294970e+10</td>\n",
       "      <td>4.373600e+09</td>\n",
       "      <td>5.649300e+09</td>\n",
       "      <td>8.011260e+10</td>\n",
       "      <td>...</td>\n",
       "      <td>0.323475</td>\n",
       "      <td>1.983300e+09</td>\n",
       "      <td>0.311992</td>\n",
       "      <td>2.719995</td>\n",
       "      <td>134.191430</td>\n",
       "      <td>0.367648</td>\n",
       "      <td>1.589743e+11</td>\n",
       "      <td>0.035536</td>\n",
       "      <td>0.285110</td>\n",
       "      <td>0.005608</td>\n",
       "    </tr>\n",
       "    <tr>\n",
       "      <th>3</th>\n",
       "      <td>0000003499-18-000006</td>\n",
       "      <td>0.0</td>\n",
       "      <td>1.797337e+09</td>\n",
       "      <td>2.928676e+09</td>\n",
       "      <td>3.604470e+08</td>\n",
       "      <td>2.394690e+09</td>\n",
       "      <td>8.263830e+09</td>\n",
       "      <td>8.957640e+08</td>\n",
       "      <td>0.000000e+00</td>\n",
       "      <td>3.823019e+09</td>\n",
       "      <td>...</td>\n",
       "      <td>1.036936</td>\n",
       "      <td>6.701600e+08</td>\n",
       "      <td>0.427965</td>\n",
       "      <td>0.871247</td>\n",
       "      <td>418.939875</td>\n",
       "      <td>1.147780</td>\n",
       "      <td>1.454291e+10</td>\n",
       "      <td>0.000000</td>\n",
       "      <td>0.579604</td>\n",
       "      <td>0.021296</td>\n",
       "    </tr>\n",
       "    <tr>\n",
       "      <th>4</th>\n",
       "      <td>0000003545-18-000021</td>\n",
       "      <td>0.0</td>\n",
       "      <td>3.092700e+07</td>\n",
       "      <td>4.077000e+06</td>\n",
       "      <td>-2.657900e+07</td>\n",
       "      <td>2.743400e+07</td>\n",
       "      <td>7.406000e+06</td>\n",
       "      <td>3.747720e+08</td>\n",
       "      <td>4.492000e+06</td>\n",
       "      <td>1.066886e+09</td>\n",
       "      <td>...</td>\n",
       "      <td>1.083978</td>\n",
       "      <td>-3.059790e+08</td>\n",
       "      <td>-4.447822</td>\n",
       "      <td>2.224367</td>\n",
       "      <td>164.091623</td>\n",
       "      <td>0.449566</td>\n",
       "      <td>1.878445e+09</td>\n",
       "      <td>0.002391</td>\n",
       "      <td>0.009501</td>\n",
       "      <td>-0.148740</td>\n",
       "    </tr>\n",
       "  </tbody>\n",
       "</table>\n",
       "<p>5 rows × 30 columns</p>\n",
       "</div>"
      ],
      "text/plain": [
       "                   adsh  fraud  AccountsReceivable          Cash  \\\n",
       "0  0000002178-18-000009    0.0        1.939190e+08  3.910830e+08   \n",
       "1  0000002488-18-000042    0.0        3.670000e+08  4.719000e+09   \n",
       "2  0000002969-18-000014    0.0        2.337100e+09  1.333080e+10   \n",
       "3  0000003499-18-000006    0.0        1.797337e+09  2.928676e+09   \n",
       "4  0000003545-18-000021    0.0        3.092700e+07  4.077000e+06   \n",
       "\n",
       "   CashFlowfromOps  CurrentLiabilities  Depreciation      Expenses  \\\n",
       "0     5.484600e+07        2.057540e+08  3.608060e+08  8.634819e+09   \n",
       "1    -6.800000e+07        7.206000e+09  2.143000e+09  2.505300e+10   \n",
       "2     1.091700e+09        4.203800e+09  2.294970e+10  4.373600e+09   \n",
       "3     3.604470e+08        2.394690e+09  8.263830e+09  8.957640e+08   \n",
       "4    -2.657900e+07        2.743400e+07  7.406000e+06  3.747720e+08   \n",
       "\n",
       "   IntangibleAssets  OtherCurrentAssets    ...     DebtToEquityRatio  \\\n",
       "0      0.000000e+00        1.024242e+09    ...              0.458104   \n",
       "1      1.123200e+10        3.914400e+10    ...              2.080050   \n",
       "2      5.649300e+09        8.011260e+10    ...              0.323475   \n",
       "3      0.000000e+00        3.823019e+09    ...              1.036936   \n",
       "4      4.492000e+06        1.066886e+09    ...              1.083978   \n",
       "\n",
       "      NetIncome  ProfitMargin  ReceivableTurnover  CollectionRatio      DSRI  \\\n",
       "0  3.487102e+09      0.287669           62.510228         5.839044  0.015997   \n",
       "1  1.209000e+10      0.325499          101.207084         3.606467  0.009881   \n",
       "2  1.983300e+09      0.311992            2.719995       134.191430  0.367648   \n",
       "3  6.701600e+08      0.427965            0.871247       418.939875  1.147780   \n",
       "4 -3.059790e+08     -4.447822            2.224367       164.091623  0.449566   \n",
       "\n",
       "    TotalAssets       AQI      DEPI      TATA  \n",
       "0  2.438422e+09  0.000000  0.303202  1.407573  \n",
       "1  6.242400e+10  0.179931  0.235365  0.194765  \n",
       "2  1.589743e+11  0.035536  0.285110  0.005608  \n",
       "3  1.454291e+10  0.000000  0.579604  0.021296  \n",
       "4  1.878445e+09  0.002391  0.009501 -0.148740  \n",
       "\n",
       "[5 rows x 30 columns]"
      ]
     },
     "execution_count": 2,
     "metadata": {},
     "output_type": "execute_result"
    }
   ],
   "source": [
    "df = pd.read_csv('pivot_table_groupedby_adsh_with_finratios_and_no_nullvals_or_inf.csv')\n",
    "df = df.drop(columns = ['Unnamed: 0','Unnamed: 0.1'])\n",
    "df.head()"
   ]
  },
  {
   "cell_type": "code",
   "execution_count": 16,
   "metadata": {},
   "outputs": [
    {
     "data": {
      "text/html": [
       "<div>\n",
       "<style scoped>\n",
       "    .dataframe tbody tr th:only-of-type {\n",
       "        vertical-align: middle;\n",
       "    }\n",
       "\n",
       "    .dataframe tbody tr th {\n",
       "        vertical-align: top;\n",
       "    }\n",
       "\n",
       "    .dataframe thead th {\n",
       "        text-align: right;\n",
       "    }\n",
       "</style>\n",
       "<table border=\"1\" class=\"dataframe\">\n",
       "  <thead>\n",
       "    <tr style=\"text-align: right;\">\n",
       "      <th></th>\n",
       "      <th>fraud</th>\n",
       "      <th>AccountsReceivable</th>\n",
       "      <th>Cash</th>\n",
       "      <th>CashFlowfromOps</th>\n",
       "      <th>CurrentLiabilities</th>\n",
       "      <th>Depreciation</th>\n",
       "      <th>Expenses</th>\n",
       "      <th>IntangibleAssets</th>\n",
       "      <th>OtherCurrentAssets</th>\n",
       "      <th>OtherIncome</th>\n",
       "      <th>...</th>\n",
       "      <th>DebtToEquityRatio</th>\n",
       "      <th>NetIncome</th>\n",
       "      <th>ProfitMargin</th>\n",
       "      <th>ReceivableTurnover</th>\n",
       "      <th>CollectionRatio</th>\n",
       "      <th>DSRI</th>\n",
       "      <th>TotalAssets</th>\n",
       "      <th>AQI</th>\n",
       "      <th>DEPI</th>\n",
       "      <th>TATA</th>\n",
       "    </tr>\n",
       "  </thead>\n",
       "  <tbody>\n",
       "    <tr>\n",
       "      <th>0</th>\n",
       "      <td>0.0</td>\n",
       "      <td>1.939190e+08</td>\n",
       "      <td>3.910830e+08</td>\n",
       "      <td>5.484600e+07</td>\n",
       "      <td>2.057540e+08</td>\n",
       "      <td>3.608060e+08</td>\n",
       "      <td>8.634819e+09</td>\n",
       "      <td>0.000000e+00</td>\n",
       "      <td>1.024242e+09</td>\n",
       "      <td>7.475000e+06</td>\n",
       "      <td>...</td>\n",
       "      <td>0.458104</td>\n",
       "      <td>3.487102e+09</td>\n",
       "      <td>0.287669</td>\n",
       "      <td>62.510228</td>\n",
       "      <td>5.839044</td>\n",
       "      <td>0.015997</td>\n",
       "      <td>2.438422e+09</td>\n",
       "      <td>0.000000</td>\n",
       "      <td>0.303202</td>\n",
       "      <td>1.407573</td>\n",
       "    </tr>\n",
       "    <tr>\n",
       "      <th>1</th>\n",
       "      <td>0.0</td>\n",
       "      <td>3.670000e+08</td>\n",
       "      <td>4.719000e+09</td>\n",
       "      <td>-6.800000e+07</td>\n",
       "      <td>7.206000e+09</td>\n",
       "      <td>2.143000e+09</td>\n",
       "      <td>2.505300e+10</td>\n",
       "      <td>1.123200e+10</td>\n",
       "      <td>3.914400e+10</td>\n",
       "      <td>2.399000e+09</td>\n",
       "      <td>...</td>\n",
       "      <td>2.080050</td>\n",
       "      <td>1.209000e+10</td>\n",
       "      <td>0.325499</td>\n",
       "      <td>101.207084</td>\n",
       "      <td>3.606467</td>\n",
       "      <td>0.009881</td>\n",
       "      <td>6.242400e+10</td>\n",
       "      <td>0.179931</td>\n",
       "      <td>0.235365</td>\n",
       "      <td>0.194765</td>\n",
       "    </tr>\n",
       "    <tr>\n",
       "      <th>2</th>\n",
       "      <td>0.0</td>\n",
       "      <td>2.337100e+09</td>\n",
       "      <td>1.333080e+10</td>\n",
       "      <td>1.091700e+09</td>\n",
       "      <td>4.203800e+09</td>\n",
       "      <td>2.294970e+10</td>\n",
       "      <td>4.373600e+09</td>\n",
       "      <td>5.649300e+09</td>\n",
       "      <td>8.011260e+10</td>\n",
       "      <td>-5.577000e+08</td>\n",
       "      <td>...</td>\n",
       "      <td>0.323475</td>\n",
       "      <td>1.983300e+09</td>\n",
       "      <td>0.311992</td>\n",
       "      <td>2.719995</td>\n",
       "      <td>134.191430</td>\n",
       "      <td>0.367648</td>\n",
       "      <td>1.589743e+11</td>\n",
       "      <td>0.035536</td>\n",
       "      <td>0.285110</td>\n",
       "      <td>0.005608</td>\n",
       "    </tr>\n",
       "    <tr>\n",
       "      <th>3</th>\n",
       "      <td>0.0</td>\n",
       "      <td>1.797337e+09</td>\n",
       "      <td>2.928676e+09</td>\n",
       "      <td>3.604470e+08</td>\n",
       "      <td>2.394690e+09</td>\n",
       "      <td>8.263830e+09</td>\n",
       "      <td>8.957640e+08</td>\n",
       "      <td>0.000000e+00</td>\n",
       "      <td>3.823019e+09</td>\n",
       "      <td>8.264650e+08</td>\n",
       "      <td>...</td>\n",
       "      <td>1.036936</td>\n",
       "      <td>6.701600e+08</td>\n",
       "      <td>0.427965</td>\n",
       "      <td>0.871247</td>\n",
       "      <td>418.939875</td>\n",
       "      <td>1.147780</td>\n",
       "      <td>1.454291e+10</td>\n",
       "      <td>0.000000</td>\n",
       "      <td>0.579604</td>\n",
       "      <td>0.021296</td>\n",
       "    </tr>\n",
       "    <tr>\n",
       "      <th>4</th>\n",
       "      <td>0.0</td>\n",
       "      <td>3.092700e+07</td>\n",
       "      <td>4.077000e+06</td>\n",
       "      <td>-2.657900e+07</td>\n",
       "      <td>2.743400e+07</td>\n",
       "      <td>7.406000e+06</td>\n",
       "      <td>3.747720e+08</td>\n",
       "      <td>4.492000e+06</td>\n",
       "      <td>1.066886e+09</td>\n",
       "      <td>3.967600e+07</td>\n",
       "      <td>...</td>\n",
       "      <td>1.083978</td>\n",
       "      <td>-3.059790e+08</td>\n",
       "      <td>-4.447822</td>\n",
       "      <td>2.224367</td>\n",
       "      <td>164.091623</td>\n",
       "      <td>0.449566</td>\n",
       "      <td>1.878445e+09</td>\n",
       "      <td>0.002391</td>\n",
       "      <td>0.009501</td>\n",
       "      <td>-0.148740</td>\n",
       "    </tr>\n",
       "  </tbody>\n",
       "</table>\n",
       "<p>5 rows × 29 columns</p>\n",
       "</div>"
      ],
      "text/plain": [
       "   fraud  AccountsReceivable          Cash  CashFlowfromOps  \\\n",
       "0    0.0        1.939190e+08  3.910830e+08     5.484600e+07   \n",
       "1    0.0        3.670000e+08  4.719000e+09    -6.800000e+07   \n",
       "2    0.0        2.337100e+09  1.333080e+10     1.091700e+09   \n",
       "3    0.0        1.797337e+09  2.928676e+09     3.604470e+08   \n",
       "4    0.0        3.092700e+07  4.077000e+06    -2.657900e+07   \n",
       "\n",
       "   CurrentLiabilities  Depreciation      Expenses  IntangibleAssets  \\\n",
       "0        2.057540e+08  3.608060e+08  8.634819e+09      0.000000e+00   \n",
       "1        7.206000e+09  2.143000e+09  2.505300e+10      1.123200e+10   \n",
       "2        4.203800e+09  2.294970e+10  4.373600e+09      5.649300e+09   \n",
       "3        2.394690e+09  8.263830e+09  8.957640e+08      0.000000e+00   \n",
       "4        2.743400e+07  7.406000e+06  3.747720e+08      4.492000e+06   \n",
       "\n",
       "   OtherCurrentAssets   OtherIncome    ...     DebtToEquityRatio  \\\n",
       "0        1.024242e+09  7.475000e+06    ...              0.458104   \n",
       "1        3.914400e+10  2.399000e+09    ...              2.080050   \n",
       "2        8.011260e+10 -5.577000e+08    ...              0.323475   \n",
       "3        3.823019e+09  8.264650e+08    ...              1.036936   \n",
       "4        1.066886e+09  3.967600e+07    ...              1.083978   \n",
       "\n",
       "      NetIncome  ProfitMargin  ReceivableTurnover  CollectionRatio      DSRI  \\\n",
       "0  3.487102e+09      0.287669           62.510228         5.839044  0.015997   \n",
       "1  1.209000e+10      0.325499          101.207084         3.606467  0.009881   \n",
       "2  1.983300e+09      0.311992            2.719995       134.191430  0.367648   \n",
       "3  6.701600e+08      0.427965            0.871247       418.939875  1.147780   \n",
       "4 -3.059790e+08     -4.447822            2.224367       164.091623  0.449566   \n",
       "\n",
       "    TotalAssets       AQI      DEPI      TATA  \n",
       "0  2.438422e+09  0.000000  0.303202  1.407573  \n",
       "1  6.242400e+10  0.179931  0.235365  0.194765  \n",
       "2  1.589743e+11  0.035536  0.285110  0.005608  \n",
       "3  1.454291e+10  0.000000  0.579604  0.021296  \n",
       "4  1.878445e+09  0.002391  0.009501 -0.148740  \n",
       "\n",
       "[5 rows x 29 columns]"
      ]
     },
     "execution_count": 16,
     "metadata": {},
     "output_type": "execute_result"
    }
   ],
   "source": [
    "df = df.drop(['adsh'], axis=1)\n",
    "df.head()"
   ]
  },
  {
   "cell_type": "code",
   "execution_count": null,
   "metadata": {},
   "outputs": [],
   "source": [
    "# Standardize data\n",
    "\n",
    "# from sklearn.preprocessing import StandardScaler\n",
    "# features = df.columns[2:]\n",
    "# X = df.loc[:, features].values\n",
    "# y = df.loc[:,['fraud']].values\n",
    "# from sklearn.preprocessing import StandardScaler\n",
    "# X = StandardScaler().fit_transform(X)\n",
    "# pd.DataFrame(data = X, columns = features).head()"
   ]
  },
  {
   "cell_type": "code",
   "execution_count": null,
   "metadata": {},
   "outputs": [],
   "source": []
  },
  {
   "cell_type": "markdown",
   "metadata": {},
   "source": [
    "# Regular Logistic Regression"
   ]
  },
  {
   "cell_type": "code",
   "execution_count": 17,
   "metadata": {},
   "outputs": [
    {
     "name": "stdout",
     "output_type": "stream",
     "text": [
      "0.9691644562334217\n"
     ]
    }
   ],
   "source": [
    "from sklearn.linear_model import LogisticRegression\n",
    "from sklearn.metrics import accuracy_score\n",
    "\n",
    "y = df.fraud\n",
    "X = df.drop(['fraud'], axis=1)\n",
    " \n",
    "# Train model\n",
    "clf_0 = LogisticRegression().fit(X, y)\n",
    " \n",
    "# Predict on training set\n",
    "pred_y_0 = clf_0.predict(X)\n",
    "\n",
    "print( accuracy_score(pred_y_0, y) )"
   ]
  },
  {
   "cell_type": "code",
   "execution_count": 18,
   "metadata": {},
   "outputs": [],
   "source": [
    "# fpr, tpr, thresholds = metrics.roc_curve(Y_test, Yhat, pos_label=1)\n",
    "# auc = metrics.auc(fpr, tpr)\n",
    "# f1 = metrics.f1_score(Y_test, Yhat, pos_label=1)"
   ]
  },
  {
   "cell_type": "code",
   "execution_count": 19,
   "metadata": {},
   "outputs": [
    {
     "name": "stdout",
     "output_type": "stream",
     "text": [
      "[0. 1.]\n"
     ]
    }
   ],
   "source": [
    "import numpy as np\n",
    "print(np.unique( pred_y_0 ) )"
   ]
  },
  {
   "cell_type": "markdown",
   "metadata": {},
   "source": [
    "# 1. Up-sample Minority Class"
   ]
  },
  {
   "cell_type": "code",
   "execution_count": 20,
   "metadata": {},
   "outputs": [
    {
     "data": {
      "text/plain": [
       "1.0    5911\n",
       "0.0    5911\n",
       "Name: fraud, dtype: int64"
      ]
     },
     "execution_count": 20,
     "metadata": {},
     "output_type": "execute_result"
    }
   ],
   "source": [
    "from sklearn.utils import resample\n",
    "\n",
    "# Separate majority and minority classes\n",
    "df_majority = df[df.fraud==0]\n",
    "df_minority = df[df.fraud==1]\n",
    " \n",
    "# Upsample minority class\n",
    "df_minority_upsampled = resample(df_minority, \n",
    "                                 replace=True,     # sample with replacement\n",
    "                                 n_samples=5911,    # to match majority class\n",
    "                                 random_state=123) # reproducible results\n",
    " \n",
    "# Combine majority class with upsampled minority class\n",
    "df_upsampled = pd.concat([df_majority, df_minority_upsampled])\n",
    " \n",
    "# Display new class counts\n",
    "df_upsampled.fraud.value_counts()\n",
    "# 1    576\n",
    "# 0    576\n",
    "# Name: balance, dtype: int64"
   ]
  },
  {
   "cell_type": "markdown",
   "metadata": {},
   "source": [
    "## Train another model using Logistic Regression, this time on the balanced dataset:"
   ]
  },
  {
   "cell_type": "code",
   "execution_count": 21,
   "metadata": {},
   "outputs": [
    {
     "name": "stdout",
     "output_type": "stream",
     "text": [
      "[0. 1.]\n",
      "0.5692776180003384\n"
     ]
    }
   ],
   "source": [
    "# Separate input features (X) and target variable (y)\n",
    "y = df_upsampled.fraud\n",
    "X = df_upsampled.drop('fraud', axis=1)\n",
    " \n",
    "# Train model\n",
    "clf_1 = LogisticRegression().fit(X, y)\n",
    " \n",
    "# Predict on training set\n",
    "pred_y_1 = clf_1.predict(X)\n",
    " \n",
    "# Is our model still predicting just one class?\n",
    "print( np.unique( pred_y_1 ) )\n",
    "# [0 1]\n",
    " \n",
    "# How's our accuracy?\n",
    "print( accuracy_score(y, pred_y_1) )\n",
    "# 0.513888888889 #While the accuracy also took a nosedive, it's now more meaningful as a performance metric."
   ]
  },
  {
   "cell_type": "markdown",
   "metadata": {},
   "source": [
    "# 2. Down-sample Majority Class\n",
    "\n",
    "- Down-sampling involves randomly removing observations from the majority class to prevent its signal from dominating the learning algorithm."
   ]
  },
  {
   "cell_type": "code",
   "execution_count": 22,
   "metadata": {},
   "outputs": [
    {
     "data": {
      "text/plain": [
       "1.0    121\n",
       "0.0    121\n",
       "Name: fraud, dtype: int64"
      ]
     },
     "execution_count": 22,
     "metadata": {},
     "output_type": "execute_result"
    }
   ],
   "source": [
    "df_majority = df[df.fraud==0]\n",
    "df_minority = df[df.fraud==1]\n",
    " \n",
    "# Downsample majority class\n",
    "df_majority_downsampled = resample(df_majority, \n",
    "                                 replace=False,    # sample without replacement\n",
    "                                 n_samples=121,     # to match minority class\n",
    "                                 random_state=123) # reproducible results\n",
    " \n",
    "# Combine minority class with downsampled majority class\n",
    "df_downsampled = pd.concat([df_majority_downsampled, df_minority])\n",
    " \n",
    "# Display new class counts\n",
    "df_downsampled.fraud.value_counts()"
   ]
  },
  {
   "cell_type": "markdown",
   "metadata": {},
   "source": [
    "## Train another model using Logistic Regression, this time on the balanced dataset:"
   ]
  },
  {
   "cell_type": "code",
   "execution_count": 23,
   "metadata": {},
   "outputs": [
    {
     "name": "stdout",
     "output_type": "stream",
     "text": [
      "[0. 1.]\n",
      "0.6198347107438017\n"
     ]
    }
   ],
   "source": [
    "y = df_downsampled.fraud\n",
    "X = df_downsampled.drop('fraud', axis=1)\n",
    " \n",
    "# Train model\n",
    "clf_2 = LogisticRegression().fit(X, y)\n",
    " \n",
    "# Predict on training set\n",
    "pred_y_2 = clf_2.predict(X)\n",
    " \n",
    "# Is our model still predicting just one class?\n",
    "print(np.unique( pred_y_2 ) )\n",
    "# [0 1]\n",
    " \n",
    "# How's our accuracy?\n",
    "print( accuracy_score(y, pred_y_2) )\n",
    "# 0.581632653061"
   ]
  },
  {
   "cell_type": "markdown",
   "metadata": {},
   "source": [
    "# 3. Change Your Performance Metric"
   ]
  },
  {
   "cell_type": "code",
   "execution_count": 25,
   "metadata": {},
   "outputs": [
    {
     "data": {
      "text/plain": [
       "[0.4641644457803766,\n",
       " 0.5000069476105872,\n",
       " 0.5006551767642453,\n",
       " 0.44510580691836554,\n",
       " 0.33510897401460576]"
      ]
     },
     "execution_count": 25,
     "metadata": {},
     "output_type": "execute_result"
    }
   ],
   "source": [
    "from sklearn.metrics import roc_auc_score\n",
    "\n",
    "# Predict class probabilities\n",
    "prob_y_2 = clf_2.predict_proba(X)\n",
    " \n",
    "# Keep only the positive class\n",
    "prob_y_2 = [p[1] for p in prob_y_2]\n",
    " \n",
    "prob_y_2[:5] "
   ]
  },
  {
   "cell_type": "code",
   "execution_count": 26,
   "metadata": {},
   "outputs": [
    {
     "name": "stdout",
     "output_type": "stream",
     "text": [
      "0.6836281674748992\n"
     ]
    }
   ],
   "source": [
    "\n",
    "print( roc_auc_score(y, prob_y_2) )"
   ]
  },
  {
   "cell_type": "code",
   "execution_count": 28,
   "metadata": {},
   "outputs": [
    {
     "name": "stdout",
     "output_type": "stream",
     "text": [
      "0.511303872686292\n"
     ]
    }
   ],
   "source": [
    "#VS the original model trained on the imbalanced dataset\n",
    "prob_y_0 = clf_0.predict_proba(X)\n",
    "prob_y_0 = [p[1] for p in prob_y_0]\n",
    " \n",
    "print( roc_auc_score(y, prob_y_0) )"
   ]
  },
  {
   "cell_type": "markdown",
   "metadata": {},
   "source": [
    "# 4. Penalize Algorithms (Cost-Sensitive Training)"
   ]
  },
  {
   "cell_type": "code",
   "execution_count": null,
   "metadata": {},
   "outputs": [],
   "source": [
    "from sklearn.svm import SVC\n",
    "y = df.fraud\n",
    "X = df.drop('fraud', axis=1)\n",
    " \n",
    "# Train model\n",
    "clf_3 = SVC(kernel='linear', \n",
    "            class_weight='balanced', # penalize\n",
    "            probability=True)\n",
    " \n",
    "clf_3.fit(X, y)\n",
    " \n",
    "# Predict on training set\n",
    "pred_y_3 = clf_3.predict(X)\n",
    " \n",
    "# Is our model still predicting just one class?\n",
    "print( np.unique( pred_y_3 ) )\n",
    "# [0 1]\n",
    " \n",
    "# How's our accuracy?\n",
    "print( accuracy_score(y, pred_y_3) )\n",
    "# 0.688\n",
    " \n",
    "# What about AUROC?\n",
    "prob_y_3 = clf_3.predict_proba(X)\n",
    "prob_y_3 = [p[1] for p in prob_y_3]\n",
    "print( roc_auc_score(y, prob_y_3) )"
   ]
  },
  {
   "cell_type": "markdown",
   "metadata": {},
   "source": [
    "# 5. Use Tree-Based Algorithms"
   ]
  },
  {
   "cell_type": "code",
   "execution_count": null,
   "metadata": {},
   "outputs": [],
   "source": [
    "from sklearn.ensemble import RandomForestClassifier\n",
    "# Separate input features (X) and target variable (y)\n",
    "y = df.fraud\n",
    "X = df.drop('fraud', axis=1)\n",
    " \n",
    "# Train model\n",
    "clf_4 = RandomForestClassifier()\n",
    "clf_4.fit(X, y)\n",
    " \n",
    "# Predict on training set\n",
    "pred_y_4 = clf_4.predict(X)\n",
    " \n",
    "# Is our model still predicting just one class?\n",
    "print( np.unique( pred_y_4 ) )\n",
    "# [0 1]\n",
    " \n",
    "# How's our accuracy?\n",
    "print( accuracy_score(y, pred_y_4) )\n",
    "# 0.9744\n",
    " \n",
    "# What about AUROC?\n",
    "prob_y_4 = clf_4.predict_proba(X)\n",
    "prob_y_4 = [p[1] for p in prob_y_4]\n",
    "print( roc_auc_score(y, prob_y_4) )\n",
    "# 0.999078798186"
   ]
  },
  {
   "cell_type": "code",
   "execution_count": null,
   "metadata": {},
   "outputs": [],
   "source": []
  },
  {
   "cell_type": "code",
   "execution_count": null,
   "metadata": {},
   "outputs": [],
   "source": []
  },
  {
   "cell_type": "markdown",
   "metadata": {},
   "source": [
    "# Standardize"
   ]
  }
 ],
 "metadata": {
  "kernelspec": {
   "display_name": "Python 3",
   "language": "python",
   "name": "python3"
  },
  "language_info": {
   "codemirror_mode": {
    "name": "ipython",
    "version": 3
   },
   "file_extension": ".py",
   "mimetype": "text/x-python",
   "name": "python",
   "nbconvert_exporter": "python",
   "pygments_lexer": "ipython3",
   "version": "3.6.7"
  }
 },
 "nbformat": 4,
 "nbformat_minor": 2
}
