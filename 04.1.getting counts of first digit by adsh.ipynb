{
 "cells": [
  {
   "cell_type": "markdown",
   "metadata": {},
   "source": [
    "### Final Project Requirements/notes: https://docs.google.com/document/d/1mwYbYJHkB7kpx4tNflKh54jN9_oOscw3p4k5fsmn3bc/edit"
   ]
  },
  {
   "cell_type": "code",
   "execution_count": 2,
   "metadata": {},
   "outputs": [],
   "source": [
    "import warnings\n",
    "warnings.filterwarnings('ignore')\n",
    "import pandas as pd"
   ]
  },
  {
   "cell_type": "code",
   "execution_count": 3,
   "metadata": {},
   "outputs": [],
   "source": [
    "frauds = pd.read_csv('fraudsJoinedwithmaster.csv')\n",
    "frauds = frauds.dropna()"
   ]
  },
  {
   "cell_type": "code",
   "execution_count": 15,
   "metadata": {},
   "outputs": [
    {
     "data": {
      "text/html": [
       "<div>\n",
       "<style scoped>\n",
       "    .dataframe tbody tr th:only-of-type {\n",
       "        vertical-align: middle;\n",
       "    }\n",
       "\n",
       "    .dataframe tbody tr th {\n",
       "        vertical-align: top;\n",
       "    }\n",
       "\n",
       "    .dataframe thead th {\n",
       "        text-align: right;\n",
       "    }\n",
       "</style>\n",
       "<table border=\"1\" class=\"dataframe\">\n",
       "  <thead>\n",
       "    <tr style=\"text-align: right;\">\n",
       "      <th></th>\n",
       "      <th>adsh</th>\n",
       "      <th>tag</th>\n",
       "      <th>version</th>\n",
       "      <th>coreg</th>\n",
       "      <th>ddate</th>\n",
       "      <th>qtrs</th>\n",
       "      <th>uom</th>\n",
       "      <th>value</th>\n",
       "      <th>footnote</th>\n",
       "    </tr>\n",
       "  </thead>\n",
       "  <tbody>\n",
       "    <tr>\n",
       "      <th>0</th>\n",
       "      <td>0001683168-18-000002</td>\n",
       "      <td>EntityPublicFloat</td>\n",
       "      <td>dei/2014</td>\n",
       "      <td>NaN</td>\n",
       "      <td>20160630</td>\n",
       "      <td>0</td>\n",
       "      <td>USD</td>\n",
       "      <td>3200000.0</td>\n",
       "      <td>NaN</td>\n",
       "    </tr>\n",
       "    <tr>\n",
       "      <th>1</th>\n",
       "      <td>0001562762-17-000231</td>\n",
       "      <td>EntityPublicFloat</td>\n",
       "      <td>dei/2014</td>\n",
       "      <td>NaN</td>\n",
       "      <td>20170331</td>\n",
       "      <td>0</td>\n",
       "      <td>USD</td>\n",
       "      <td>28500000.0</td>\n",
       "      <td>NaN</td>\n",
       "    </tr>\n",
       "    <tr>\n",
       "      <th>2</th>\n",
       "      <td>0001599916-18-000002</td>\n",
       "      <td>EntityPublicFloat</td>\n",
       "      <td>dei/2014</td>\n",
       "      <td>NaN</td>\n",
       "      <td>20171231</td>\n",
       "      <td>0</td>\n",
       "      <td>USD</td>\n",
       "      <td>253660.0</td>\n",
       "      <td>NaN</td>\n",
       "    </tr>\n",
       "    <tr>\n",
       "      <th>3</th>\n",
       "      <td>0001614106-18-000003</td>\n",
       "      <td>EntityPublicFloat</td>\n",
       "      <td>dei/2014</td>\n",
       "      <td>NaN</td>\n",
       "      <td>20161231</td>\n",
       "      <td>0</td>\n",
       "      <td>USD</td>\n",
       "      <td>18247.0</td>\n",
       "      <td>NaN</td>\n",
       "    </tr>\n",
       "    <tr>\n",
       "      <th>4</th>\n",
       "      <td>0001144204-18-000327</td>\n",
       "      <td>EntityPublicFloat</td>\n",
       "      <td>dei/2014</td>\n",
       "      <td>NaN</td>\n",
       "      <td>20170331</td>\n",
       "      <td>0</td>\n",
       "      <td>USD</td>\n",
       "      <td>23466799.0</td>\n",
       "      <td>NaN</td>\n",
       "    </tr>\n",
       "  </tbody>\n",
       "</table>\n",
       "</div>"
      ],
      "text/plain": [
       "                   adsh                tag   version coreg     ddate  qtrs  \\\n",
       "0  0001683168-18-000002  EntityPublicFloat  dei/2014   NaN  20160630     0   \n",
       "1  0001562762-17-000231  EntityPublicFloat  dei/2014   NaN  20170331     0   \n",
       "2  0001599916-18-000002  EntityPublicFloat  dei/2014   NaN  20171231     0   \n",
       "3  0001614106-18-000003  EntityPublicFloat  dei/2014   NaN  20161231     0   \n",
       "4  0001144204-18-000327  EntityPublicFloat  dei/2014   NaN  20170331     0   \n",
       "\n",
       "   uom       value footnote  \n",
       "0  USD   3200000.0      NaN  \n",
       "1  USD  28500000.0      NaN  \n",
       "2  USD    253660.0      NaN  \n",
       "3  USD     18247.0      NaN  \n",
       "4  USD  23466799.0      NaN  "
      ]
     },
     "execution_count": 15,
     "metadata": {},
     "output_type": "execute_result"
    }
   ],
   "source": [
    "df = pd.read_csv('numsbyquarter/2018q1/num.txt', sep='\\t',encoding ='latin1')\n",
    "df.head()"
   ]
  },
  {
   "cell_type": "code",
   "execution_count": 16,
   "metadata": {},
   "outputs": [],
   "source": [
    "df = df.drop(columns=['footnote','coreg'])\n",
    "df = df.dropna()"
   ]
  },
  {
   "cell_type": "code",
   "execution_count": 17,
   "metadata": {},
   "outputs": [],
   "source": [
    "testfrauds = frauds['adsh']\n",
    "dftest = df['adsh']"
   ]
  },
  {
   "cell_type": "code",
   "execution_count": 18,
   "metadata": {},
   "outputs": [
    {
     "data": {
      "text/plain": [
       "0    0001683168-18-000002\n",
       "1    0001562762-17-000231\n",
       "2    0001599916-18-000002\n",
       "3    0001614106-18-000003\n",
       "4    0001144204-18-000327\n",
       "Name: adsh, dtype: object"
      ]
     },
     "execution_count": 18,
     "metadata": {},
     "output_type": "execute_result"
    }
   ],
   "source": [
    "dftest.head()"
   ]
  },
  {
   "cell_type": "code",
   "execution_count": 19,
   "metadata": {},
   "outputs": [
    {
     "data": {
      "text/plain": [
       "0    0000023082-10-000036\n",
       "1    0000023082-10-000036\n",
       "2    0000023082-10-000036\n",
       "3    0000023082-10-000036\n",
       "4    0000023082-10-000036\n",
       "Name: adsh, dtype: object"
      ]
     },
     "execution_count": 19,
     "metadata": {},
     "output_type": "execute_result"
    }
   ],
   "source": [
    "testfrauds.head()"
   ]
  },
  {
   "cell_type": "code",
   "execution_count": 20,
   "metadata": {},
   "outputs": [
    {
     "data": {
      "text/plain": [
       "Series([], Name: adsh, dtype: object)"
      ]
     },
     "execution_count": 20,
     "metadata": {},
     "output_type": "execute_result"
    }
   ],
   "source": [
    "result = dftest[dftest.isin(testfrauds)]\n",
    "result"
   ]
  },
  {
   "cell_type": "code",
   "execution_count": 21,
   "metadata": {},
   "outputs": [],
   "source": [
    "combined = frauds.append(df)"
   ]
  },
  {
   "cell_type": "code",
   "execution_count": 22,
   "metadata": {},
   "outputs": [
    {
     "data": {
      "text/plain": [
       "(3040863, 11)"
      ]
     },
     "execution_count": 22,
     "metadata": {},
     "output_type": "execute_result"
    }
   ],
   "source": [
    "combined.shape"
   ]
  },
  {
   "cell_type": "code",
   "execution_count": 23,
   "metadata": {},
   "outputs": [],
   "source": [
    "# combined = combined.drop(columns=['comp_name','filing_type','related_qtr'])"
   ]
  },
  {
   "cell_type": "code",
   "execution_count": 24,
   "metadata": {},
   "outputs": [],
   "source": [
    "combined.fraud = combined.fraud.fillna(0)"
   ]
  },
  {
   "cell_type": "code",
   "execution_count": 25,
   "metadata": {},
   "outputs": [
    {
     "data": {
      "text/plain": [
       "adsh                 0\n",
       "comp_name      2979958\n",
       "ddate                0\n",
       "filing_type    2979958\n",
       "fraud                0\n",
       "qtrs                 0\n",
       "related_qtr    2979958\n",
       "tag                  0\n",
       "uom                  0\n",
       "value                0\n",
       "version              0\n",
       "dtype: int64"
      ]
     },
     "execution_count": 25,
     "metadata": {},
     "output_type": "execute_result"
    }
   ],
   "source": [
    "combined.isnull().sum()"
   ]
  },
  {
   "cell_type": "code",
   "execution_count": 27,
   "metadata": {},
   "outputs": [],
   "source": [
    "combined.to_csv('raw_testing_data.csv')"
   ]
  },
  {
   "cell_type": "code",
   "execution_count": 28,
   "metadata": {},
   "outputs": [],
   "source": [
    "df = pd.read_csv('raw_testing_data.csv')"
   ]
  },
  {
   "cell_type": "code",
   "execution_count": 30,
   "metadata": {},
   "outputs": [
    {
     "data": {
      "text/plain": [
       "Index(['Unnamed: 0', 'adsh', 'comp_name', 'ddate', 'filing_type', 'fraud',\n",
       "       'qtrs', 'related_qtr', 'tag', 'uom', 'value', 'version'],\n",
       "      dtype='object')"
      ]
     },
     "execution_count": 30,
     "metadata": {},
     "output_type": "execute_result"
    }
   ],
   "source": [
    "df.columns"
   ]
  },
  {
   "cell_type": "code",
   "execution_count": 126,
   "metadata": {},
   "outputs": [],
   "source": [
    "benford_df = df[['adsh','value']]\n",
    "# benford_df"
   ]
  },
  {
   "cell_type": "code",
   "execution_count": 127,
   "metadata": {},
   "outputs": [],
   "source": [
    "benford_df['abs_value'] = benford_df.value.abs()"
   ]
  },
  {
   "cell_type": "code",
   "execution_count": 128,
   "metadata": {},
   "outputs": [],
   "source": [
    "benford_df['string'] = benford_df.abs_value.astype(str)\n",
    "# int(str(number)[0]"
   ]
  },
  {
   "cell_type": "code",
   "execution_count": 129,
   "metadata": {},
   "outputs": [],
   "source": [
    "# benford_df = benford_df.set_index('adsh')"
   ]
  },
  {
   "cell_type": "code",
   "execution_count": 130,
   "metadata": {},
   "outputs": [],
   "source": [
    "benford_df['first_digit'] = benford_df.string.str[0].astype(int)"
   ]
  },
  {
   "cell_type": "code",
   "execution_count": 131,
   "metadata": {},
   "outputs": [
    {
     "data": {
      "text/html": [
       "<div>\n",
       "<style scoped>\n",
       "    .dataframe tbody tr th:only-of-type {\n",
       "        vertical-align: middle;\n",
       "    }\n",
       "\n",
       "    .dataframe tbody tr th {\n",
       "        vertical-align: top;\n",
       "    }\n",
       "\n",
       "    .dataframe thead th {\n",
       "        text-align: right;\n",
       "    }\n",
       "</style>\n",
       "<table border=\"1\" class=\"dataframe\">\n",
       "  <thead>\n",
       "    <tr style=\"text-align: right;\">\n",
       "      <th></th>\n",
       "      <th>adsh</th>\n",
       "      <th>value</th>\n",
       "      <th>abs_value</th>\n",
       "      <th>string</th>\n",
       "      <th>first_digit</th>\n",
       "    </tr>\n",
       "  </thead>\n",
       "  <tbody>\n",
       "    <tr>\n",
       "      <th>0</th>\n",
       "      <td>0000023082-10-000036</td>\n",
       "      <td>6.360000e+08</td>\n",
       "      <td>6.360000e+08</td>\n",
       "      <td>636000000.0</td>\n",
       "      <td>6</td>\n",
       "    </tr>\n",
       "    <tr>\n",
       "      <th>1</th>\n",
       "      <td>0000023082-10-000036</td>\n",
       "      <td>4.090000e+08</td>\n",
       "      <td>4.090000e+08</td>\n",
       "      <td>409000000.0</td>\n",
       "      <td>4</td>\n",
       "    </tr>\n",
       "    <tr>\n",
       "      <th>2</th>\n",
       "      <td>0000023082-10-000036</td>\n",
       "      <td>1.264000e+09</td>\n",
       "      <td>1.264000e+09</td>\n",
       "      <td>1264000000.0</td>\n",
       "      <td>1</td>\n",
       "    </tr>\n",
       "    <tr>\n",
       "      <th>3</th>\n",
       "      <td>0000023082-10-000036</td>\n",
       "      <td>1.344000e+09</td>\n",
       "      <td>1.344000e+09</td>\n",
       "      <td>1344000000.0</td>\n",
       "      <td>1</td>\n",
       "    </tr>\n",
       "    <tr>\n",
       "      <th>4</th>\n",
       "      <td>0000023082-10-000036</td>\n",
       "      <td>-3.417000e+09</td>\n",
       "      <td>3.417000e+09</td>\n",
       "      <td>3417000000.0</td>\n",
       "      <td>3</td>\n",
       "    </tr>\n",
       "  </tbody>\n",
       "</table>\n",
       "</div>"
      ],
      "text/plain": [
       "                   adsh         value     abs_value        string  first_digit\n",
       "0  0000023082-10-000036  6.360000e+08  6.360000e+08   636000000.0            6\n",
       "1  0000023082-10-000036  4.090000e+08  4.090000e+08   409000000.0            4\n",
       "2  0000023082-10-000036  1.264000e+09  1.264000e+09  1264000000.0            1\n",
       "3  0000023082-10-000036  1.344000e+09  1.344000e+09  1344000000.0            1\n",
       "4  0000023082-10-000036 -3.417000e+09  3.417000e+09  3417000000.0            3"
      ]
     },
     "execution_count": 131,
     "metadata": {},
     "output_type": "execute_result"
    }
   ],
   "source": [
    "benford_df.head()"
   ]
  },
  {
   "cell_type": "code",
   "execution_count": 180,
   "metadata": {},
   "outputs": [],
   "source": [
    "benford_df = benford_df[['adsh','first_digit']]"
   ]
  },
  {
   "cell_type": "code",
   "execution_count": 181,
   "metadata": {},
   "outputs": [
    {
     "data": {
      "text/plain": [
       "numpy.int64"
      ]
     },
     "execution_count": 181,
     "metadata": {},
     "output_type": "execute_result"
    }
   ],
   "source": [
    "type(benford_df['first_digit'][0])"
   ]
  },
  {
   "cell_type": "code",
   "execution_count": 182,
   "metadata": {},
   "outputs": [],
   "source": [
    "import numpy as np"
   ]
  },
  {
   "cell_type": "code",
   "execution_count": 197,
   "metadata": {},
   "outputs": [],
   "source": [
    "benford_pivot = benford_df.pivot_table(index='adsh', columns='first_digit', values='first_digit', aggfunc=np.count_nonzero)"
   ]
  },
  {
   "cell_type": "code",
   "execution_count": 198,
   "metadata": {},
   "outputs": [
    {
     "data": {
      "text/html": [
       "<div>\n",
       "<style scoped>\n",
       "    .dataframe tbody tr th:only-of-type {\n",
       "        vertical-align: middle;\n",
       "    }\n",
       "\n",
       "    .dataframe tbody tr th {\n",
       "        vertical-align: top;\n",
       "    }\n",
       "\n",
       "    .dataframe thead th {\n",
       "        text-align: right;\n",
       "    }\n",
       "</style>\n",
       "<table border=\"1\" class=\"dataframe\">\n",
       "  <thead>\n",
       "    <tr style=\"text-align: right;\">\n",
       "      <th>first_digit</th>\n",
       "      <th>0</th>\n",
       "      <th>1</th>\n",
       "      <th>2</th>\n",
       "      <th>3</th>\n",
       "      <th>4</th>\n",
       "      <th>5</th>\n",
       "      <th>6</th>\n",
       "      <th>7</th>\n",
       "      <th>8</th>\n",
       "      <th>9</th>\n",
       "    </tr>\n",
       "    <tr>\n",
       "      <th>adsh</th>\n",
       "      <th></th>\n",
       "      <th></th>\n",
       "      <th></th>\n",
       "      <th></th>\n",
       "      <th></th>\n",
       "      <th></th>\n",
       "      <th></th>\n",
       "      <th></th>\n",
       "      <th></th>\n",
       "      <th></th>\n",
       "    </tr>\n",
       "  </thead>\n",
       "  <tbody>\n",
       "    <tr>\n",
       "      <th>0000002178-18-000009</th>\n",
       "      <td>111.0</td>\n",
       "      <td>284.0</td>\n",
       "      <td>162.0</td>\n",
       "      <td>142.0</td>\n",
       "      <td>88.0</td>\n",
       "      <td>66.0</td>\n",
       "      <td>56.0</td>\n",
       "      <td>52.0</td>\n",
       "      <td>56.0</td>\n",
       "      <td>38.0</td>\n",
       "    </tr>\n",
       "    <tr>\n",
       "      <th>0000002488-18-000042</th>\n",
       "      <td>109.0</td>\n",
       "      <td>372.0</td>\n",
       "      <td>212.0</td>\n",
       "      <td>150.0</td>\n",
       "      <td>86.0</td>\n",
       "      <td>70.0</td>\n",
       "      <td>68.0</td>\n",
       "      <td>78.0</td>\n",
       "      <td>60.0</td>\n",
       "      <td>66.0</td>\n",
       "    </tr>\n",
       "    <tr>\n",
       "      <th>0000002969-18-000014</th>\n",
       "      <td>29.0</td>\n",
       "      <td>220.0</td>\n",
       "      <td>112.0</td>\n",
       "      <td>76.0</td>\n",
       "      <td>40.0</td>\n",
       "      <td>36.0</td>\n",
       "      <td>34.0</td>\n",
       "      <td>30.0</td>\n",
       "      <td>22.0</td>\n",
       "      <td>26.0</td>\n",
       "    </tr>\n",
       "    <tr>\n",
       "      <th>0000003499-18-000006</th>\n",
       "      <td>21.0</td>\n",
       "      <td>158.0</td>\n",
       "      <td>116.0</td>\n",
       "      <td>126.0</td>\n",
       "      <td>66.0</td>\n",
       "      <td>62.0</td>\n",
       "      <td>16.0</td>\n",
       "      <td>40.0</td>\n",
       "      <td>56.0</td>\n",
       "      <td>20.0</td>\n",
       "    </tr>\n",
       "    <tr>\n",
       "      <th>0000003545-18-000021</th>\n",
       "      <td>22.0</td>\n",
       "      <td>166.0</td>\n",
       "      <td>54.0</td>\n",
       "      <td>50.0</td>\n",
       "      <td>48.0</td>\n",
       "      <td>16.0</td>\n",
       "      <td>16.0</td>\n",
       "      <td>10.0</td>\n",
       "      <td>34.0</td>\n",
       "      <td>6.0</td>\n",
       "    </tr>\n",
       "  </tbody>\n",
       "</table>\n",
       "</div>"
      ],
      "text/plain": [
       "first_digit               0      1      2      3     4     5     6     7  \\\n",
       "adsh                                                                       \n",
       "0000002178-18-000009  111.0  284.0  162.0  142.0  88.0  66.0  56.0  52.0   \n",
       "0000002488-18-000042  109.0  372.0  212.0  150.0  86.0  70.0  68.0  78.0   \n",
       "0000002969-18-000014   29.0  220.0  112.0   76.0  40.0  36.0  34.0  30.0   \n",
       "0000003499-18-000006   21.0  158.0  116.0  126.0  66.0  62.0  16.0  40.0   \n",
       "0000003545-18-000021   22.0  166.0   54.0   50.0  48.0  16.0  16.0  10.0   \n",
       "\n",
       "first_digit              8     9  \n",
       "adsh                              \n",
       "0000002178-18-000009  56.0  38.0  \n",
       "0000002488-18-000042  60.0  66.0  \n",
       "0000002969-18-000014  22.0  26.0  \n",
       "0000003499-18-000006  56.0  20.0  \n",
       "0000003545-18-000021  34.0   6.0  "
      ]
     },
     "execution_count": 198,
     "metadata": {},
     "output_type": "execute_result"
    }
   ],
   "source": [
    "benford_pivot = benford_pivot.fillna(0)\n",
    "benford_pivot.head()"
   ]
  },
  {
   "cell_type": "code",
   "execution_count": 199,
   "metadata": {},
   "outputs": [
    {
     "data": {
      "text/html": [
       "<div>\n",
       "<style scoped>\n",
       "    .dataframe tbody tr th:only-of-type {\n",
       "        vertical-align: middle;\n",
       "    }\n",
       "\n",
       "    .dataframe tbody tr th {\n",
       "        vertical-align: top;\n",
       "    }\n",
       "\n",
       "    .dataframe thead th {\n",
       "        text-align: right;\n",
       "    }\n",
       "</style>\n",
       "<table border=\"1\" class=\"dataframe\">\n",
       "  <thead>\n",
       "    <tr style=\"text-align: right;\">\n",
       "      <th>first_digit</th>\n",
       "      <th>1</th>\n",
       "      <th>2</th>\n",
       "      <th>3</th>\n",
       "      <th>4</th>\n",
       "      <th>5</th>\n",
       "      <th>6</th>\n",
       "      <th>7</th>\n",
       "      <th>8</th>\n",
       "      <th>9</th>\n",
       "      <th>sum_of_first_digits</th>\n",
       "    </tr>\n",
       "    <tr>\n",
       "      <th>adsh</th>\n",
       "      <th></th>\n",
       "      <th></th>\n",
       "      <th></th>\n",
       "      <th></th>\n",
       "      <th></th>\n",
       "      <th></th>\n",
       "      <th></th>\n",
       "      <th></th>\n",
       "      <th></th>\n",
       "      <th></th>\n",
       "    </tr>\n",
       "  </thead>\n",
       "  <tbody>\n",
       "    <tr>\n",
       "      <th>0000002178-18-000009</th>\n",
       "      <td>284.0</td>\n",
       "      <td>162.0</td>\n",
       "      <td>142.0</td>\n",
       "      <td>88.0</td>\n",
       "      <td>66.0</td>\n",
       "      <td>56.0</td>\n",
       "      <td>52.0</td>\n",
       "      <td>56.0</td>\n",
       "      <td>38.0</td>\n",
       "      <td>944.0</td>\n",
       "    </tr>\n",
       "    <tr>\n",
       "      <th>0000002488-18-000042</th>\n",
       "      <td>372.0</td>\n",
       "      <td>212.0</td>\n",
       "      <td>150.0</td>\n",
       "      <td>86.0</td>\n",
       "      <td>70.0</td>\n",
       "      <td>68.0</td>\n",
       "      <td>78.0</td>\n",
       "      <td>60.0</td>\n",
       "      <td>66.0</td>\n",
       "      <td>1162.0</td>\n",
       "    </tr>\n",
       "    <tr>\n",
       "      <th>0000002969-18-000014</th>\n",
       "      <td>220.0</td>\n",
       "      <td>112.0</td>\n",
       "      <td>76.0</td>\n",
       "      <td>40.0</td>\n",
       "      <td>36.0</td>\n",
       "      <td>34.0</td>\n",
       "      <td>30.0</td>\n",
       "      <td>22.0</td>\n",
       "      <td>26.0</td>\n",
       "      <td>596.0</td>\n",
       "    </tr>\n",
       "    <tr>\n",
       "      <th>0000003499-18-000006</th>\n",
       "      <td>158.0</td>\n",
       "      <td>116.0</td>\n",
       "      <td>126.0</td>\n",
       "      <td>66.0</td>\n",
       "      <td>62.0</td>\n",
       "      <td>16.0</td>\n",
       "      <td>40.0</td>\n",
       "      <td>56.0</td>\n",
       "      <td>20.0</td>\n",
       "      <td>660.0</td>\n",
       "    </tr>\n",
       "    <tr>\n",
       "      <th>0000003545-18-000021</th>\n",
       "      <td>166.0</td>\n",
       "      <td>54.0</td>\n",
       "      <td>50.0</td>\n",
       "      <td>48.0</td>\n",
       "      <td>16.0</td>\n",
       "      <td>16.0</td>\n",
       "      <td>10.0</td>\n",
       "      <td>34.0</td>\n",
       "      <td>6.0</td>\n",
       "      <td>400.0</td>\n",
       "    </tr>\n",
       "  </tbody>\n",
       "</table>\n",
       "</div>"
      ],
      "text/plain": [
       "first_digit               1      2      3     4     5     6     7     8     9  \\\n",
       "adsh                                                                            \n",
       "0000002178-18-000009  284.0  162.0  142.0  88.0  66.0  56.0  52.0  56.0  38.0   \n",
       "0000002488-18-000042  372.0  212.0  150.0  86.0  70.0  68.0  78.0  60.0  66.0   \n",
       "0000002969-18-000014  220.0  112.0   76.0  40.0  36.0  34.0  30.0  22.0  26.0   \n",
       "0000003499-18-000006  158.0  116.0  126.0  66.0  62.0  16.0  40.0  56.0  20.0   \n",
       "0000003545-18-000021  166.0   54.0   50.0  48.0  16.0  16.0  10.0  34.0   6.0   \n",
       "\n",
       "first_digit           sum_of_first_digits  \n",
       "adsh                                       \n",
       "0000002178-18-000009                944.0  \n",
       "0000002488-18-000042               1162.0  \n",
       "0000002969-18-000014                596.0  \n",
       "0000003499-18-000006                660.0  \n",
       "0000003545-18-000021                400.0  "
      ]
     },
     "execution_count": 199,
     "metadata": {},
     "output_type": "execute_result"
    }
   ],
   "source": [
    "benford_pivot = benford_pivot.drop(benford_pivot.columns[0], axis=1)\n",
    "benford_pivot['sum_of_first_digits'] = benford_pivot.sum(axis=1)\n",
    "benford_pivot.head()"
   ]
  },
  {
   "cell_type": "code",
   "execution_count": 200,
   "metadata": {},
   "outputs": [],
   "source": [
    "benford_pivot.to_excel('first_digit_counts.xls')"
   ]
  },
  {
   "cell_type": "code",
   "execution_count": 191,
   "metadata": {},
   "outputs": [
    {
     "data": {
      "text/plain": [
       "[1, 2, 3, 4, 5, 6, 7, 8, 9, 'sum_of_first_digits']"
      ]
     },
     "execution_count": 191,
     "metadata": {},
     "output_type": "execute_result"
    }
   ],
   "source": [
    "# cols = benford_pivot.columns.tolist()\n",
    "# cols"
   ]
  },
  {
   "cell_type": "code",
   "execution_count": 192,
   "metadata": {},
   "outputs": [],
   "source": [
    "# benford_pivot = benford_pivot.reindex(columns= ['sum_of_first_digits', 1, 2, 3, 4, 5, 6, 7, 8, 9])"
   ]
  }
 ],
 "metadata": {
  "kernelspec": {
   "display_name": "Python 3",
   "language": "python",
   "name": "python3"
  },
  "language_info": {
   "codemirror_mode": {
    "name": "ipython",
    "version": 3
   },
   "file_extension": ".py",
   "mimetype": "text/x-python",
   "name": "python",
   "nbconvert_exporter": "python",
   "pygments_lexer": "ipython3",
   "version": "3.6.7"
  }
 },
 "nbformat": 4,
 "nbformat_minor": 2
}
