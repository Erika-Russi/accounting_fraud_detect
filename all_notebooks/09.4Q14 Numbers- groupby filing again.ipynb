{
 "cells": [
  {
   "cell_type": "markdown",
   "metadata": {},
   "source": [
    "### Final Project Requirements/notes: https://docs.google.com/document/d/1mwYbYJHkB7kpx4tNflKh54jN9_oOscw3p4k5fsmn3bc/edit"
   ]
  },
  {
   "cell_type": "markdown",
   "metadata": {},
   "source": [
    "### Link with all Data: https://www.sec.gov/dera/data/financial-statement-and-notes-data-set.html\n",
    "- using NUM file only for now (data set of all numeric XBRL facts presented on the primary financial statements)"
   ]
  },
  {
   "cell_type": "markdown",
   "metadata": {},
   "source": [
    "# 1. Import and clean DF"
   ]
  },
  {
   "cell_type": "code",
   "execution_count": 1,
   "metadata": {},
   "outputs": [
    {
     "name": "stderr",
     "output_type": "stream",
     "text": [
      "/anaconda3/lib/python3.6/site-packages/IPython/core/interactiveshell.py:3020: DtypeWarning: Columns (12) have mixed types. Specify dtype option on import or set low_memory=False.\n",
      "  interactivity=interactivity, compiler=compiler, result=result)\n"
     ]
    }
   ],
   "source": [
    "import pandas as pd\n",
    "q414numbers = pd.read_table('2014q4_notes/num.tsv', encoding ='latin1')"
   ]
  },
  {
   "cell_type": "markdown",
   "metadata": {},
   "source": [
    "### From \"Financial Statement and Notes Data Sets\" Readme:\n",
    "\n",
    "**adsh - EDGAR accession number**: a unique identifier assigned automatically to an accepted submission by the EDGAR Filer System; The first set of numbers (0001193125) is the CIK of the entity submitting the filing. The next 2 numbers (18) represent the year. The last series of numbers represent a sequential count of submitted filings from that CIK. The count is usually, but not always, reset to 0 at the start of each calendar year.\n",
    "- **TODO**: separate these numbers to identify a company or a financial filing, there were 6,492 individual filings"
   ]
  },
  {
   "cell_type": "markdown",
   "metadata": {},
   "source": [
    "#### A lot of null values for footnotes and coregistrants (majority of rows); will remove these columns for now"
   ]
  },
  {
   "cell_type": "code",
   "execution_count": 2,
   "metadata": {},
   "outputs": [],
   "source": [
    "q414numbers = q414numbers.drop(columns=['footnote','coreg'])\n",
    "q414numbers = q414numbers.dropna()"
   ]
  },
  {
   "cell_type": "code",
   "execution_count": 3,
   "metadata": {},
   "outputs": [],
   "source": [
    "# q414numbers.isnull().sum()"
   ]
  },
  {
   "cell_type": "code",
   "execution_count": 4,
   "metadata": {},
   "outputs": [],
   "source": [
    "# q414numbers.describe(include='all') #still have 5million+ data points"
   ]
  },
  {
   "cell_type": "code",
   "execution_count": 5,
   "metadata": {},
   "outputs": [],
   "source": [
    "# len(set(q414numbers.entity_CIK))"
   ]
  },
  {
   "cell_type": "markdown",
   "metadata": {},
   "source": [
    "# 2. Group by filing # (adsh) and filter just for values"
   ]
  },
  {
   "cell_type": "code",
   "execution_count": 40,
   "metadata": {},
   "outputs": [],
   "source": [
    "adsh_grouped = q414numbers[['adsh','value']].groupby('adsh')\n",
    "# adsh_grouped.groups\n"
   ]
  },
  {
   "cell_type": "code",
   "execution_count": 41,
   "metadata": {},
   "outputs": [
    {
     "data": {
      "text/plain": [
       "7655"
      ]
     },
     "execution_count": 41,
     "metadata": {},
     "output_type": "execute_result"
    }
   ],
   "source": [
    "len(adsh_grouped.groups) #check for the total number of filings in this quarter"
   ]
  },
  {
   "cell_type": "markdown",
   "metadata": {},
   "source": [
    "# 3. Get rid of negative values\n",
    "## QUESTION: HOW SHOULD I DEAL WITH DECIMALS WITH BENFORD? POTENTIALLY MULTIPLY by 100?"
   ]
  },
  {
   "cell_type": "code",
   "execution_count": 45,
   "metadata": {},
   "outputs": [],
   "source": [
    "#get rid of any negative values and any duplicates within the list of numbers\n",
    "def no_negs(number):\n",
    "    return list(set(number.abs()))\n"
   ]
  },
  {
   "cell_type": "code",
   "execution_count": 46,
   "metadata": {},
   "outputs": [],
   "source": [
    "grouped_abs_val = adsh_grouped.agg(no_negs)"
   ]
  },
  {
   "cell_type": "code",
   "execution_count": 47,
   "metadata": {},
   "outputs": [
    {
     "data": {
      "text/html": [
       "<div>\n",
       "<style scoped>\n",
       "    .dataframe tbody tr th:only-of-type {\n",
       "        vertical-align: middle;\n",
       "    }\n",
       "\n",
       "    .dataframe tbody tr th {\n",
       "        vertical-align: top;\n",
       "    }\n",
       "\n",
       "    .dataframe thead th {\n",
       "        text-align: right;\n",
       "    }\n",
       "</style>\n",
       "<table border=\"1\" class=\"dataframe\">\n",
       "  <thead>\n",
       "    <tr style=\"text-align: right;\">\n",
       "      <th></th>\n",
       "      <th>value</th>\n",
       "    </tr>\n",
       "    <tr>\n",
       "      <th>adsh</th>\n",
       "      <th></th>\n",
       "    </tr>\n",
       "  </thead>\n",
       "  <tbody>\n",
       "    <tr>\n",
       "      <th>0000002178-14-000064</th>\n",
       "      <td>[0.0, 960000.0, 1.7, 3.13, 1.72, 5.1, 5.2, 1.0...</td>\n",
       "    </tr>\n",
       "    <tr>\n",
       "      <th>0000003146-14-000006</th>\n",
       "      <td>[0.0, 1.0, 51200000.0, 2.0, 4.0, 5.0, 6400000....</td>\n",
       "    </tr>\n",
       "    <tr>\n",
       "      <th>0000003146-14-000009</th>\n",
       "      <td>[0.0, 51200000.0, 1.0, 2.0, 4.0, 5.0, 6400000....</td>\n",
       "    </tr>\n",
       "    <tr>\n",
       "      <th>0000003499-14-000018</th>\n",
       "      <td>[0.0, 1.0, 2.71, 3.46, 2.75, 3.25, 13824000.0,...</td>\n",
       "    </tr>\n",
       "    <tr>\n",
       "      <th>0000003570-14-000268</th>\n",
       "      <td>[0.0, 151808000.0, 480000000.0, 1.71, 4.0, 0.0...</td>\n",
       "    </tr>\n",
       "  </tbody>\n",
       "</table>\n",
       "</div>"
      ],
      "text/plain": [
       "                                                                  value\n",
       "adsh                                                                   \n",
       "0000002178-14-000064  [0.0, 960000.0, 1.7, 3.13, 1.72, 5.1, 5.2, 1.0...\n",
       "0000003146-14-000006  [0.0, 1.0, 51200000.0, 2.0, 4.0, 5.0, 6400000....\n",
       "0000003146-14-000009  [0.0, 51200000.0, 1.0, 2.0, 4.0, 5.0, 6400000....\n",
       "0000003499-14-000018  [0.0, 1.0, 2.71, 3.46, 2.75, 3.25, 13824000.0,...\n",
       "0000003570-14-000268  [0.0, 151808000.0, 480000000.0, 1.71, 4.0, 0.0..."
      ]
     },
     "execution_count": 47,
     "metadata": {},
     "output_type": "execute_result"
    }
   ],
   "source": [
    "grouped_abs_val.head()#value is now a list of positive unique numbers, split up by filer and that specific filing"
   ]
  },
  {
   "cell_type": "code",
   "execution_count": 48,
   "metadata": {},
   "outputs": [
    {
     "data": {
      "text/plain": [
       "adsh\n",
       "0000002178-14-000064    [0.0, 960000.0, 1.7, 3.13, 1.72, 5.1, 5.2, 1.0...\n",
       "0000003146-14-000006    [0.0, 1.0, 51200000.0, 2.0, 4.0, 5.0, 6400000....\n",
       "0000003146-14-000009    [0.0, 51200000.0, 1.0, 2.0, 4.0, 5.0, 6400000....\n",
       "0000003499-14-000018    [0.0, 1.0, 2.71, 3.46, 2.75, 3.25, 13824000.0,...\n",
       "0000003570-14-000268    [0.0, 151808000.0, 480000000.0, 1.71, 4.0, 0.0...\n",
       "0000004127-14-000046    [6400000.0, 0.0, 2.38, 1.33, 0.25, 1.0, 256000...\n",
       "0000004187-14-000043    [0.0, 44032000.0, 0.5, 2.0, 2304000.0, 1.0, 4....\n",
       "0000004457-14-000051    [0.0, 0.25, 3.0, 7.98, 10453000.0, 5141717000....\n",
       "0000004904-14-000097    [2432000000.0, 0.0, 0.5, 1.5, 1.0, 3.5, 6.5, 4...\n",
       "0000004977-14-000138    [0.0, 1.5, 1.0, 2.0, 4.93, 5.31, 5.0, 25600000...\n",
       "Name: value, dtype: object"
      ]
     },
     "execution_count": 48,
     "metadata": {},
     "output_type": "execute_result"
    }
   ],
   "source": [
    "grouped_abs_val.value[0:10]"
   ]
  },
  {
   "cell_type": "code",
   "execution_count": 17,
   "metadata": {},
   "outputs": [
    {
     "data": {
      "text/plain": [
       "pandas.core.series.Series"
      ]
     },
     "execution_count": 17,
     "metadata": {},
     "output_type": "execute_result"
    }
   ],
   "source": [
    "# type(grouped_abs_val.value)"
   ]
  },
  {
   "cell_type": "code",
   "execution_count": 18,
   "metadata": {},
   "outputs": [],
   "source": [
    "# test = grouped_abs_val.value[0]\n",
    "# print(len(test),test)"
   ]
  },
  {
   "cell_type": "code",
   "execution_count": 18,
   "metadata": {},
   "outputs": [
    {
     "data": {
      "text/plain": [
       "list"
      ]
     },
     "execution_count": 18,
     "metadata": {},
     "output_type": "execute_result"
    }
   ],
   "source": [
    "# type(test)"
   ]
  },
  {
   "cell_type": "code",
   "execution_count": 19,
   "metadata": {
    "scrolled": false
   },
   "outputs": [],
   "source": [
    "# for number in test:\n",
    "#     benford = int(str(number)[0])\n",
    "#     print(benford)"
   ]
  },
  {
   "cell_type": "code",
   "execution_count": 19,
   "metadata": {},
   "outputs": [],
   "source": [
    "# for val in grouped_abs_val.value:\n",
    "#     print(val)"
   ]
  },
  {
   "cell_type": "code",
   "execution_count": 20,
   "metadata": {},
   "outputs": [
    {
     "data": {
      "text/plain": [
       "7655"
      ]
     },
     "execution_count": 20,
     "metadata": {},
     "output_type": "execute_result"
    }
   ],
   "source": [
    "len(grouped_abs_val.value)\n"
   ]
  },
  {
   "cell_type": "markdown",
   "metadata": {},
   "source": [
    "# 4. Get first digit from each value number"
   ]
  },
  {
   "cell_type": "code",
   "execution_count": 49,
   "metadata": {},
   "outputs": [],
   "source": [
    "def first_digit(number): \n",
    "    return int(str(number)[0]) #convert to string first and then extract first index position"
   ]
  },
  {
   "cell_type": "code",
   "execution_count": 50,
   "metadata": {},
   "outputs": [],
   "source": [
    "# all_nums = [v for v in grouped_abs_val.value[0]]\n",
    "# all_nums"
   ]
  },
  {
   "cell_type": "code",
   "execution_count": 51,
   "metadata": {},
   "outputs": [],
   "source": [
    "for v in grouped_abs_val.value:\n",
    "    first_nums = [first_digit(num) for num in v]"
   ]
  },
  {
   "cell_type": "code",
   "execution_count": 52,
   "metadata": {},
   "outputs": [
    {
     "name": "stdout",
     "output_type": "stream",
     "text": [
      "374 [64000000.0, 2464000000.0, 2.0, 0.0, 3.0, 32000000.0, 240000000000.0, 1088000000.0, 128000000.0, 4000000000.0, 4.24, 1.0, 32.07, 35.7, 36.27, 35.39, 38.42, 37.55, 40.44, 37.66, 37.94, 36.62, 45.81, 46.55, 351014974.0, 409000000.0, 25000000.0, 9177000000.0, 1913000000.0, 2169000000.0, 57000000.0, 121000000.0, 6265000000.0, 0.0164, 729000000.0, 350517337.0, 91.56, 237662.0, 95.56, 376000000.0, 50000000.0, 82000000.0, 690000000.0, 242000000.0, 114000000.0, 146000000.0, 2450000000.0, 18000000.0, 1657000.0, 334000.0, 235000000.0, 203000000.0, 75000000.0, 139000000.0, 11000000.0, 299000000.0, 2155000000.0, 107000000.0, 651000000.0, 907000000.0, 612000000.0, 644000000.0, 1668000000.0, 932000000.0, 1988000000.0, 4000000.0, 868000000.0, 100000000.0, 3076000000.0, 68000000.0, 117000.0, 442678.0, 765000000.0, 1021000000.0, 29000000.0, 93000000.0, 2653000000.0, 349000000.0, 928000000.0, 957000000.0, 189000000.0, 1533000000.0, 1740000000.0, 1531000000.0, 707000000.0, 1494000000.0, 246000000.0, 534000000.0, 310000000.0, 1728000000.0, 22000000.0, 7894000000.0, 54000000.0, 86000000.0, 886000000.0, 373152.0, 80000000.0, 2331000000.0, 235944.0, 25000.0, 0.042, 0.0138, 559000000.0, 79000000.0, 143000000.0, 207000000.0, 47000000.0, 15000000.0, 1807000000.0, 0.026, 279000.0, 0.01, 1550838.0, 1736000000.0, 1.59, 1000000000.0, 8000000.0, 40000000.0, 72000000.0, 136000000.0, 168000000.0, 117000000000.0, 5000000000.0, 10763.0, 332341.0, 353000000.0, 14945000000.0, 1000000.0, 33000000.0, 7297000000.0, 3265000000.0, 65000000.0, 97000000.0, 438000000.0, 352938584.0, 359000.0, 514668.0, 354940.0, 26000000.0, 1306000000.0, 282000000.0, 3738000000.0, 90000000.0, 58000000.0, 602000000.0, 186000000.0, 218000000.0, 211000000.0, 19000000.0, 275000000.0, 531000000.0, 51000000.0, 83000000.0, 352334546.0, 0.015, 44000000.0, 1388000000.0, 140000000.0, 652000000.0, 0.6, 108000000.0, 172000000.0, 8652000000.0, 12000000.0, 587000000.0, 1844000.0, 10000000000.0, 119595.0, 4293000000.0, 5000000.0, 7461000000.0, 353114947.0, 69000000.0, 0.1, 37000000.0, 3429000000.0, 101000000.0, 1796000000.0, 382000000.0, 1950000000.0, 158000000.0, 190000000.0, 222000000.0, 30000000.0, 542000000.0, 286000000.0, 574000000.0, 0.036, 375000000.0, 55000000.0, 2135000000.0, 87000000.0, 23000000.0, 1687000000.0, 823000000.0, 351357913.0, 1957000000.0, 8048000000.0, 464000000.0, 1712000000.0, 688000000.0, 2000000000.0, 1744000000.0, 752000000.0, 240000000.0, 496000000.0, 16000000.0, 1.6, 715000000.0, 3.6, 351222830.0, 291000000.0, 8393000000.0, 73000000.0, 617000000.0, 41000000.0, 457000000.0, 969000000.0, 201000000.0, 9000000.0, 1111128.0, 380000.0, 1250000000.0, 2000000.0, 642000000.0, 34000000.0, 66000000.0, 1378000000.0, 162000000.0, 98000000.0, 3022000.0, 0.041, 379000000.0, 507000000.0, 635000000.0, 571000000.0, 1755000000.0, 27000000.0, 283000000.0, 59000000.0, 91000000.0, 43000000.0, 0.0715, 1848566.0, 500000000.0, 20000000.0, 276000000.0, 52000000.0, 660000000.0, 1652000000.0, 27916.0, 353125665.0, 169261.0, 685000000.0, 1005000000.0, 1037000000.0, 13000000.0, 205000000.0, 45000000.0, 237000000.0, 1837000000.0, 109000000.0, 413000.0, 15703.0, 3313000.0, 3622000000.0, 8006000000.0, 582000000.0, 134000000.0, 120000000000.0, 710000000.0, 6000000.0, 38000000.0, 192000000.0, 1062000000.0, 601000000.0, 2437000000.0, 2500000.0, 484786.0, 1254842.0, 703000000.0, 223000000.0, 63000000.0, 351000000.0, 95000000.0, 575000000.0, 1951000000.0, 5375000000.0, 0.022, 22000.0, 1771000.0, 0.53, 1.74, 24000000.0, 3800000000.0, 600000000.0, 88000000.0, 888000000.0, 120000000.0, 15000000000.0, 56000000.0, 71000000000.0, 241000000.0, 49000000.0, 17000000.0, 817000000.0, 1713000000.0, 2161000000.0, 337000000.0, 465000000.0, 352327250.0, 0.075, 46000000000.0, 102000.0, 650000000.0, 170000000.0, 1706000000.0, 74000000.0, 10000000.0, 458000000.0, 1578000000.0, 2378000000.0, 200000000000.0, 24215.0, 0.0712, 350334634.0, 67000000.0, 1603000000.0, 195000000.0, 3000000.0, 35000000.0, 131000000.0, 9924.0, 227000000.0, 96000000.0, 515000000.0, 136907.0, 0.0735, 28000000.0, 220000000.0, 1532000000.0, 124000000.0, 3996000000.0, 351457043.0, 272000000.0, 373000000.0, 117000000.0, 213000000.0, 1749000000.0, 693000000.0, 309000000.0, 3573000000.0, 21000000.0, 53000000.0, 260000000.0, 48000000.0, 1774000000.0, 1806000000.0, 46000000.0, 622000000.0, 238000000.0, 13294000000.0, 14000000.0, 78000000.0, 36000000.0, 90000.0, 236000000.0, 645000000.0, 135000000.0, 1415000000.0, 71000000.0, 7000000.0, 39000000.0, 679000000.0]\n"
     ]
    }
   ],
   "source": [
    "print(len(grouped_abs_val.value[20]), grouped_abs_val.value[20])"
   ]
  },
  {
   "cell_type": "code",
   "execution_count": 53,
   "metadata": {},
   "outputs": [],
   "source": [
    "def frequencies(first_digits):\n",
    "    counts = [0]*10\n",
    "    for x in first_digits:\n",
    "        if x > 0:\n",
    "            counts[x] += 1 \n",
    "    total = sum(counts)\n",
    "    freq = [count/total for count in counts]\n",
    "    print(sum(freq)) #frequencies should sum up to 1\n",
    "    return freq[1:] #same as going from element 1 through the end (i.e. 9)"
   ]
  },
  {
   "cell_type": "code",
   "execution_count": 55,
   "metadata": {},
   "outputs": [
    {
     "name": "stdout",
     "output_type": "stream",
     "text": [
      "1.0\n"
     ]
    },
    {
     "data": {
      "text/plain": [
       "[0.26791808873720135,\n",
       " 0.22525597269624573,\n",
       " 0.12457337883959044,\n",
       " 0.1075085324232082,\n",
       " 0.08873720136518772,\n",
       " 0.052901023890784986,\n",
       " 0.042662116040955635,\n",
       " 0.042662116040955635,\n",
       " 0.04778156996587031]"
      ]
     },
     "execution_count": 55,
     "metadata": {},
     "output_type": "execute_result"
    }
   ],
   "source": [
    "frequencies(first_nums)"
   ]
  },
  {
   "cell_type": "code",
   "execution_count": null,
   "metadata": {},
   "outputs": [],
   "source": [
    "# def frequencies(first_digits):\n",
    "#     counts = [0]*10\n",
    "#     for x in first_digits:\n",
    "#         counts[x] += 1 \n",
    "#     total = sum(counts)\n",
    "#     freq = [count/total for count in counts]\n",
    "#     print(sum(freq)) #frequencies should sum up to 1\n",
    "#     return freq[1:] #same as going from element 1 through the end (i.e. 9)"
   ]
  },
  {
   "cell_type": "code",
   "execution_count": 165,
   "metadata": {},
   "outputs": [],
   "source": [
    "# freq = [0] * 10\n",
    "import math\n",
    "def kl_divergence(freq):\n",
    "    kl_div = 0.0\n",
    "    for d in range(1, 10):\n",
    "        Q = (math.log(d+1) - math.log(d)) / math.log(10) #calculates theoretical benfords (perfect benny freqs)\n",
    "        P = freq[d-1]\n",
    "        kl_div += math.log(P / Q) * P\n",
    "#         print((freq))\n",
    "\n",
    "    return int(kl_div)"
   ]
  },
  {
   "cell_type": "code",
   "execution_count": 166,
   "metadata": {},
   "outputs": [
    {
     "data": {
      "text/plain": [
       "0"
      ]
     },
     "execution_count": 166,
     "metadata": {},
     "output_type": "execute_result"
    }
   ],
   "source": [
    "kl_divergence(benfords_law)"
   ]
  },
  {
   "cell_type": "code",
   "execution_count": 127,
   "metadata": {},
   "outputs": [
    {
     "data": {
      "text/plain": [
       "[0.3010299956639812,\n",
       " 0.17609125905568124,\n",
       " 0.12493873660829993,\n",
       " 0.09691001300805642,\n",
       " 0.07918124604762482,\n",
       " 0.06694678963061322,\n",
       " 0.05799194697768673,\n",
       " 0.05115252244738129,\n",
       " 0.04575749056067514]"
      ]
     },
     "execution_count": 127,
     "metadata": {},
     "output_type": "execute_result"
    }
   ],
   "source": [
    "\n",
    "r = range(10)\n",
    "benfords_law = [math.log10(1 + 1/digit) for digit in r if digit != 0]\n",
    "benfords_law"
   ]
  },
  {
   "cell_type": "code",
   "execution_count": 128,
   "metadata": {},
   "outputs": [
    {
     "data": {
      "text/plain": [
       "1.0"
      ]
     },
     "execution_count": 128,
     "metadata": {},
     "output_type": "execute_result"
    }
   ],
   "source": [
    "sum(benfords_law) "
   ]
  },
  {
   "cell_type": "code",
   "execution_count": 171,
   "metadata": {},
   "outputs": [
    {
     "ename": "TypeError",
     "evalue": "'int' object is not subscriptable",
     "output_type": "error",
     "traceback": [
      "\u001b[0;31m---------------------------------------------------------------------------\u001b[0m",
      "\u001b[0;31mTypeError\u001b[0m                                 Traceback (most recent call last)",
      "\u001b[0;32m<ipython-input-171-1a9381fd2412>\u001b[0m in \u001b[0;36m<module>\u001b[0;34m\u001b[0m\n\u001b[0;32m----> 1\u001b[0;31m \u001b[0mfds\u001b[0m\u001b[0;34m[\u001b[0m\u001b[0;36m0\u001b[0m\u001b[0;34m]\u001b[0m\u001b[0;34m[\u001b[0m\u001b[0;36m1\u001b[0m\u001b[0;34m]\u001b[0m\u001b[0;34m\u001b[0m\u001b[0;34m\u001b[0m\u001b[0m\n\u001b[0m",
      "\u001b[0;31mTypeError\u001b[0m: 'int' object is not subscriptable"
     ]
    }
   ],
   "source": [
    "fds[0][1]"
   ]
  },
  {
   "cell_type": "code",
   "execution_count": 168,
   "metadata": {},
   "outputs": [
    {
     "ename": "TypeError",
     "evalue": "'int' object is not subscriptable",
     "output_type": "error",
     "traceback": [
      "\u001b[0;31m---------------------------------------------------------------------------\u001b[0m",
      "\u001b[0;31mTypeError\u001b[0m                                 Traceback (most recent call last)",
      "\u001b[0;32m<ipython-input-168-0d58f5962911>\u001b[0m in \u001b[0;36m<module>\u001b[0;34m\u001b[0m\n\u001b[0;32m----> 1\u001b[0;31m \u001b[0mkl_divergence\u001b[0m\u001b[0;34m(\u001b[0m\u001b[0mfds\u001b[0m\u001b[0;34m[\u001b[0m\u001b[0;36m0\u001b[0m\u001b[0;34m]\u001b[0m\u001b[0;34m)\u001b[0m\u001b[0;34m\u001b[0m\u001b[0;34m\u001b[0m\u001b[0m\n\u001b[0m",
      "\u001b[0;32m<ipython-input-165-8543ebb9fb1c>\u001b[0m in \u001b[0;36mkl_divergence\u001b[0;34m(freq)\u001b[0m\n\u001b[1;32m      5\u001b[0m     \u001b[0;32mfor\u001b[0m \u001b[0md\u001b[0m \u001b[0;32min\u001b[0m \u001b[0mrange\u001b[0m\u001b[0;34m(\u001b[0m\u001b[0;36m1\u001b[0m\u001b[0;34m,\u001b[0m \u001b[0;36m10\u001b[0m\u001b[0;34m)\u001b[0m\u001b[0;34m:\u001b[0m\u001b[0;34m\u001b[0m\u001b[0;34m\u001b[0m\u001b[0m\n\u001b[1;32m      6\u001b[0m         \u001b[0mQ\u001b[0m \u001b[0;34m=\u001b[0m \u001b[0;34m(\u001b[0m\u001b[0mmath\u001b[0m\u001b[0;34m.\u001b[0m\u001b[0mlog\u001b[0m\u001b[0;34m(\u001b[0m\u001b[0md\u001b[0m\u001b[0;34m+\u001b[0m\u001b[0;36m1\u001b[0m\u001b[0;34m)\u001b[0m \u001b[0;34m-\u001b[0m \u001b[0mmath\u001b[0m\u001b[0;34m.\u001b[0m\u001b[0mlog\u001b[0m\u001b[0;34m(\u001b[0m\u001b[0md\u001b[0m\u001b[0;34m)\u001b[0m\u001b[0;34m)\u001b[0m \u001b[0;34m/\u001b[0m \u001b[0mmath\u001b[0m\u001b[0;34m.\u001b[0m\u001b[0mlog\u001b[0m\u001b[0;34m(\u001b[0m\u001b[0;36m10\u001b[0m\u001b[0;34m)\u001b[0m \u001b[0;31m#calculates theoretical benfords (perfect benny freqs)\u001b[0m\u001b[0;34m\u001b[0m\u001b[0;34m\u001b[0m\u001b[0m\n\u001b[0;32m----> 7\u001b[0;31m         \u001b[0mP\u001b[0m \u001b[0;34m=\u001b[0m \u001b[0mfreq\u001b[0m\u001b[0;34m[\u001b[0m\u001b[0md\u001b[0m\u001b[0;34m-\u001b[0m\u001b[0;36m1\u001b[0m\u001b[0;34m]\u001b[0m\u001b[0;34m\u001b[0m\u001b[0;34m\u001b[0m\u001b[0m\n\u001b[0m\u001b[1;32m      8\u001b[0m         \u001b[0mkl_div\u001b[0m \u001b[0;34m+=\u001b[0m \u001b[0mmath\u001b[0m\u001b[0;34m.\u001b[0m\u001b[0mlog\u001b[0m\u001b[0;34m(\u001b[0m\u001b[0mP\u001b[0m \u001b[0;34m/\u001b[0m \u001b[0mQ\u001b[0m\u001b[0;34m)\u001b[0m \u001b[0;34m*\u001b[0m \u001b[0mP\u001b[0m\u001b[0;34m\u001b[0m\u001b[0;34m\u001b[0m\u001b[0m\n\u001b[1;32m      9\u001b[0m \u001b[0;31m#         print((freq))\u001b[0m\u001b[0;34m\u001b[0m\u001b[0;34m\u001b[0m\u001b[0;34m\u001b[0m\u001b[0m\n",
      "\u001b[0;31mTypeError\u001b[0m: 'int' object is not subscriptable"
     ]
    }
   ],
   "source": [
    "kl_divergence(fds[0])"
   ]
  },
  {
   "cell_type": "code",
   "execution_count": null,
   "metadata": {},
   "outputs": [],
   "source": [
    "# 2. Break out adsh to cik and filing number (if applicable)"
   ]
  },
  {
   "cell_type": "code",
   "execution_count": null,
   "metadata": {},
   "outputs": [],
   "source": [
    "\n",
    "# s = q414numbers['adsh'].str.split('-', n = 1, expand = True)\n",
    "# q414numbers['entity_CIK'] = s[0]\n",
    "# q414numbers['filing_number'] = s[1]\n",
    "# q414numbers.head()\n",
    "\n",
    "# System; The first set of numbers (0001193125) is the CIK of the entity submitting the filing. \n",
    "# The next 2 numbers (18) represent the year. \n",
    "# The last series of numbers represent a sequential count of submitted filings from that CIK. \n",
    "# The count is usually, but not always, reset to 0 at the start of each calendar year."
   ]
  },
  {
   "cell_type": "code",
   "execution_count": null,
   "metadata": {},
   "outputs": [],
   "source": [
    "# 3. come back to this: need to see if this single company had multiple filings"
   ]
  },
  {
   "cell_type": "code",
   "execution_count": null,
   "metadata": {},
   "outputs": [],
   "source": [
    "# len(q414numbers.entity_CIK == '0001171843')"
   ]
  }
 ],
 "metadata": {
  "kernelspec": {
   "display_name": "Python 3",
   "language": "python",
   "name": "python3"
  },
  "language_info": {
   "codemirror_mode": {
    "name": "ipython",
    "version": 3
   },
   "file_extension": ".py",
   "mimetype": "text/x-python",
   "name": "python",
   "nbconvert_exporter": "python",
   "pygments_lexer": "ipython3",
   "version": "3.6.7"
  }
 },
 "nbformat": 4,
 "nbformat_minor": 2
}
