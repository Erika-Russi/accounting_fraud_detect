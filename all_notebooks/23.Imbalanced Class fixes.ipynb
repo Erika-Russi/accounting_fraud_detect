{
 "cells": [
  {
   "cell_type": "markdown",
   "metadata": {},
   "source": [
    "### Final Project Requirements/notes: https://docs.google.com/document/d/1mwYbYJHkB7kpx4tNflKh54jN9_oOscw3p4k5fsmn3bc/edit"
   ]
  },
  {
   "cell_type": "code",
   "execution_count": 1,
   "metadata": {},
   "outputs": [],
   "source": [
    "import warnings\n",
    "warnings.filterwarnings('ignore')\n",
    "import pandas as pd"
   ]
  },
  {
   "cell_type": "code",
   "execution_count": 2,
   "metadata": {},
   "outputs": [
    {
     "data": {
      "text/html": [
       "<div>\n",
       "<style scoped>\n",
       "    .dataframe tbody tr th:only-of-type {\n",
       "        vertical-align: middle;\n",
       "    }\n",
       "\n",
       "    .dataframe tbody tr th {\n",
       "        vertical-align: top;\n",
       "    }\n",
       "\n",
       "    .dataframe thead th {\n",
       "        text-align: right;\n",
       "    }\n",
       "</style>\n",
       "<table border=\"1\" class=\"dataframe\">\n",
       "  <thead>\n",
       "    <tr style=\"text-align: right;\">\n",
       "      <th></th>\n",
       "      <th>adsh</th>\n",
       "      <th>fraud</th>\n",
       "      <th>ddate</th>\n",
       "      <th>AccountsReceivable</th>\n",
       "      <th>Cash</th>\n",
       "      <th>CashFlowfromOps</th>\n",
       "      <th>CurrentLiabilities</th>\n",
       "      <th>Depreciation</th>\n",
       "      <th>Expenses</th>\n",
       "      <th>IntangibleAssets</th>\n",
       "      <th>...</th>\n",
       "      <th>DebtToEquityRatio</th>\n",
       "      <th>NetIncome</th>\n",
       "      <th>ProfitMargin</th>\n",
       "      <th>ReceivableTurnover</th>\n",
       "      <th>CollectionRatio</th>\n",
       "      <th>DSRI</th>\n",
       "      <th>TotalAssets</th>\n",
       "      <th>AQI</th>\n",
       "      <th>DEPI</th>\n",
       "      <th>TATA</th>\n",
       "    </tr>\n",
       "  </thead>\n",
       "  <tbody>\n",
       "    <tr>\n",
       "      <th>0</th>\n",
       "      <td>0000002178-18-000009</td>\n",
       "      <td>0.0</td>\n",
       "      <td>20161231.0</td>\n",
       "      <td>106756000.0</td>\n",
       "      <td>7.875000e+07</td>\n",
       "      <td>6504000.0</td>\n",
       "      <td>1.114280e+08</td>\n",
       "      <td>2.210870e+08</td>\n",
       "      <td>2.163510e+09</td>\n",
       "      <td>0.0</td>\n",
       "      <td>...</td>\n",
       "      <td>0.539227</td>\n",
       "      <td>6.440080e+08</td>\n",
       "      <td>0.229387</td>\n",
       "      <td>26.298456</td>\n",
       "      <td>13.879142</td>\n",
       "      <td>0.038025</td>\n",
       "      <td>1.139030e+09</td>\n",
       "      <td>0.000000</td>\n",
       "      <td>0.316076</td>\n",
       "      <td>0.559690</td>\n",
       "    </tr>\n",
       "    <tr>\n",
       "      <th>1</th>\n",
       "      <td>0000002488-18-000042</td>\n",
       "      <td>0.0</td>\n",
       "      <td>20161231.0</td>\n",
       "      <td>126000000.0</td>\n",
       "      <td>2.010000e+09</td>\n",
       "      <td>90000000.0</td>\n",
       "      <td>3.825000e+09</td>\n",
       "      <td>9.210000e+08</td>\n",
       "      <td>6.611000e+09</td>\n",
       "      <td>948000000.0</td>\n",
       "      <td>...</td>\n",
       "      <td>1.464384</td>\n",
       "      <td>3.287000e+09</td>\n",
       "      <td>0.332087</td>\n",
       "      <td>78.555556</td>\n",
       "      <td>4.646393</td>\n",
       "      <td>0.012730</td>\n",
       "      <td>2.617100e+10</td>\n",
       "      <td>0.036223</td>\n",
       "      <td>0.261277</td>\n",
       "      <td>0.122158</td>\n",
       "    </tr>\n",
       "    <tr>\n",
       "      <th>2</th>\n",
       "      <td>0000002969-18-000014</td>\n",
       "      <td>0.0</td>\n",
       "      <td>20161231.0</td>\n",
       "      <td>-57400000.0</td>\n",
       "      <td>5.735000e+08</td>\n",
       "      <td>525400000.0</td>\n",
       "      <td>1.040000e+07</td>\n",
       "      <td>2.061000e+08</td>\n",
       "      <td>1.587700e+09</td>\n",
       "      <td>0.0</td>\n",
       "      <td>...</td>\n",
       "      <td>0.003057</td>\n",
       "      <td>2.948000e+08</td>\n",
       "      <td>0.156600</td>\n",
       "      <td>-32.796167</td>\n",
       "      <td>-11.129349</td>\n",
       "      <td>-0.030491</td>\n",
       "      <td>1.062500e+09</td>\n",
       "      <td>0.000000</td>\n",
       "      <td>0.320778</td>\n",
       "      <td>-0.217035</td>\n",
       "    </tr>\n",
       "    <tr>\n",
       "      <th>3</th>\n",
       "      <td>0000003499-18-000006</td>\n",
       "      <td>0.0</td>\n",
       "      <td>20161231.0</td>\n",
       "      <td>182581000.0</td>\n",
       "      <td>8.456940e+08</td>\n",
       "      <td>130820000.0</td>\n",
       "      <td>1.110608e+09</td>\n",
       "      <td>1.655981e+09</td>\n",
       "      <td>3.176400e+08</td>\n",
       "      <td>0.0</td>\n",
       "      <td>...</td>\n",
       "      <td>0.822055</td>\n",
       "      <td>1.179930e+08</td>\n",
       "      <td>0.270854</td>\n",
       "      <td>2.385971</td>\n",
       "      <td>152.977541</td>\n",
       "      <td>0.419117</td>\n",
       "      <td>5.371457e+09</td>\n",
       "      <td>0.000000</td>\n",
       "      <td>0.367267</td>\n",
       "      <td>-0.002388</td>\n",
       "    </tr>\n",
       "    <tr>\n",
       "      <th>4</th>\n",
       "      <td>0000003545-18-000021</td>\n",
       "      <td>0.0</td>\n",
       "      <td>20161231.0</td>\n",
       "      <td>7177000.0</td>\n",
       "      <td>-6.183000e+06</td>\n",
       "      <td>-16890000.0</td>\n",
       "      <td>-4.823000e+06</td>\n",
       "      <td>3.916000e+06</td>\n",
       "      <td>3.149000e+06</td>\n",
       "      <td>0.0</td>\n",
       "      <td>...</td>\n",
       "      <td>2.353128</td>\n",
       "      <td>2.942400e+07</td>\n",
       "      <td>0.903325</td>\n",
       "      <td>4.538526</td>\n",
       "      <td>80.422589</td>\n",
       "      <td>0.220336</td>\n",
       "      <td>7.572000e+06</td>\n",
       "      <td>0.000000</td>\n",
       "      <td>0.370623</td>\n",
       "      <td>6.116482</td>\n",
       "    </tr>\n",
       "  </tbody>\n",
       "</table>\n",
       "<p>5 rows × 31 columns</p>\n",
       "</div>"
      ],
      "text/plain": [
       "                   adsh  fraud       ddate  AccountsReceivable          Cash  \\\n",
       "0  0000002178-18-000009    0.0  20161231.0         106756000.0  7.875000e+07   \n",
       "1  0000002488-18-000042    0.0  20161231.0         126000000.0  2.010000e+09   \n",
       "2  0000002969-18-000014    0.0  20161231.0         -57400000.0  5.735000e+08   \n",
       "3  0000003499-18-000006    0.0  20161231.0         182581000.0  8.456940e+08   \n",
       "4  0000003545-18-000021    0.0  20161231.0           7177000.0 -6.183000e+06   \n",
       "\n",
       "   CashFlowfromOps  CurrentLiabilities  Depreciation      Expenses  \\\n",
       "0        6504000.0        1.114280e+08  2.210870e+08  2.163510e+09   \n",
       "1       90000000.0        3.825000e+09  9.210000e+08  6.611000e+09   \n",
       "2      525400000.0        1.040000e+07  2.061000e+08  1.587700e+09   \n",
       "3      130820000.0        1.110608e+09  1.655981e+09  3.176400e+08   \n",
       "4      -16890000.0       -4.823000e+06  3.916000e+06  3.149000e+06   \n",
       "\n",
       "   IntangibleAssets    ...     DebtToEquityRatio     NetIncome  ProfitMargin  \\\n",
       "0               0.0    ...              0.539227  6.440080e+08      0.229387   \n",
       "1       948000000.0    ...              1.464384  3.287000e+09      0.332087   \n",
       "2               0.0    ...              0.003057  2.948000e+08      0.156600   \n",
       "3               0.0    ...              0.822055  1.179930e+08      0.270854   \n",
       "4               0.0    ...              2.353128  2.942400e+07      0.903325   \n",
       "\n",
       "   ReceivableTurnover  CollectionRatio      DSRI   TotalAssets       AQI  \\\n",
       "0           26.298456        13.879142  0.038025  1.139030e+09  0.000000   \n",
       "1           78.555556         4.646393  0.012730  2.617100e+10  0.036223   \n",
       "2          -32.796167       -11.129349 -0.030491  1.062500e+09  0.000000   \n",
       "3            2.385971       152.977541  0.419117  5.371457e+09  0.000000   \n",
       "4            4.538526        80.422589  0.220336  7.572000e+06  0.000000   \n",
       "\n",
       "       DEPI      TATA  \n",
       "0  0.316076  0.559690  \n",
       "1  0.261277  0.122158  \n",
       "2  0.320778 -0.217035  \n",
       "3  0.367267 -0.002388  \n",
       "4  0.370623  6.116482  \n",
       "\n",
       "[5 rows x 31 columns]"
      ]
     },
     "execution_count": 2,
     "metadata": {},
     "output_type": "execute_result"
    }
   ],
   "source": [
    "df = pd.read_csv('739to4000_with_tags,KL_divergence,FinRatios.csv')\n",
    "# df = df.drop(columns = ['Unnamed: 0','Unnamed: 0.1'])\n",
    "df.head()"
   ]
  },
  {
   "cell_type": "code",
   "execution_count": 3,
   "metadata": {},
   "outputs": [
    {
     "data": {
      "text/html": [
       "<div>\n",
       "<style scoped>\n",
       "    .dataframe tbody tr th:only-of-type {\n",
       "        vertical-align: middle;\n",
       "    }\n",
       "\n",
       "    .dataframe tbody tr th {\n",
       "        vertical-align: top;\n",
       "    }\n",
       "\n",
       "    .dataframe thead th {\n",
       "        text-align: right;\n",
       "    }\n",
       "</style>\n",
       "<table border=\"1\" class=\"dataframe\">\n",
       "  <thead>\n",
       "    <tr style=\"text-align: right;\">\n",
       "      <th></th>\n",
       "      <th>fraud</th>\n",
       "      <th>ddate</th>\n",
       "      <th>AccountsReceivable</th>\n",
       "      <th>Cash</th>\n",
       "      <th>CashFlowfromOps</th>\n",
       "      <th>CurrentLiabilities</th>\n",
       "      <th>Depreciation</th>\n",
       "      <th>Expenses</th>\n",
       "      <th>IntangibleAssets</th>\n",
       "      <th>OtherCurrentAssets</th>\n",
       "      <th>...</th>\n",
       "      <th>DebtToEquityRatio</th>\n",
       "      <th>NetIncome</th>\n",
       "      <th>ProfitMargin</th>\n",
       "      <th>ReceivableTurnover</th>\n",
       "      <th>CollectionRatio</th>\n",
       "      <th>DSRI</th>\n",
       "      <th>TotalAssets</th>\n",
       "      <th>AQI</th>\n",
       "      <th>DEPI</th>\n",
       "      <th>TATA</th>\n",
       "    </tr>\n",
       "  </thead>\n",
       "  <tbody>\n",
       "    <tr>\n",
       "      <th>0</th>\n",
       "      <td>0.0</td>\n",
       "      <td>20161231.0</td>\n",
       "      <td>106756000.0</td>\n",
       "      <td>7.875000e+07</td>\n",
       "      <td>6504000.0</td>\n",
       "      <td>1.114280e+08</td>\n",
       "      <td>2.210870e+08</td>\n",
       "      <td>2.163510e+09</td>\n",
       "      <td>0.0</td>\n",
       "      <td>4.751370e+08</td>\n",
       "      <td>...</td>\n",
       "      <td>0.539227</td>\n",
       "      <td>6.440080e+08</td>\n",
       "      <td>0.229387</td>\n",
       "      <td>26.298456</td>\n",
       "      <td>13.879142</td>\n",
       "      <td>0.038025</td>\n",
       "      <td>1.139030e+09</td>\n",
       "      <td>0.000000</td>\n",
       "      <td>0.316076</td>\n",
       "      <td>0.559690</td>\n",
       "    </tr>\n",
       "    <tr>\n",
       "      <th>1</th>\n",
       "      <td>0.0</td>\n",
       "      <td>20161231.0</td>\n",
       "      <td>126000000.0</td>\n",
       "      <td>2.010000e+09</td>\n",
       "      <td>90000000.0</td>\n",
       "      <td>3.825000e+09</td>\n",
       "      <td>9.210000e+08</td>\n",
       "      <td>6.611000e+09</td>\n",
       "      <td>948000000.0</td>\n",
       "      <td>2.048300e+10</td>\n",
       "      <td>...</td>\n",
       "      <td>1.464384</td>\n",
       "      <td>3.287000e+09</td>\n",
       "      <td>0.332087</td>\n",
       "      <td>78.555556</td>\n",
       "      <td>4.646393</td>\n",
       "      <td>0.012730</td>\n",
       "      <td>2.617100e+10</td>\n",
       "      <td>0.036223</td>\n",
       "      <td>0.261277</td>\n",
       "      <td>0.122158</td>\n",
       "    </tr>\n",
       "    <tr>\n",
       "      <th>2</th>\n",
       "      <td>0.0</td>\n",
       "      <td>20161231.0</td>\n",
       "      <td>-57400000.0</td>\n",
       "      <td>5.735000e+08</td>\n",
       "      <td>525400000.0</td>\n",
       "      <td>1.040000e+07</td>\n",
       "      <td>2.061000e+08</td>\n",
       "      <td>1.587700e+09</td>\n",
       "      <td>0.0</td>\n",
       "      <td>1.100000e+08</td>\n",
       "      <td>...</td>\n",
       "      <td>0.003057</td>\n",
       "      <td>2.948000e+08</td>\n",
       "      <td>0.156600</td>\n",
       "      <td>-32.796167</td>\n",
       "      <td>-11.129349</td>\n",
       "      <td>-0.030491</td>\n",
       "      <td>1.062500e+09</td>\n",
       "      <td>0.000000</td>\n",
       "      <td>0.320778</td>\n",
       "      <td>-0.217035</td>\n",
       "    </tr>\n",
       "    <tr>\n",
       "      <th>3</th>\n",
       "      <td>0.0</td>\n",
       "      <td>20161231.0</td>\n",
       "      <td>182581000.0</td>\n",
       "      <td>8.456940e+08</td>\n",
       "      <td>130820000.0</td>\n",
       "      <td>1.110608e+09</td>\n",
       "      <td>1.655981e+09</td>\n",
       "      <td>3.176400e+08</td>\n",
       "      <td>0.0</td>\n",
       "      <td>1.490230e+09</td>\n",
       "      <td>...</td>\n",
       "      <td>0.822055</td>\n",
       "      <td>1.179930e+08</td>\n",
       "      <td>0.270854</td>\n",
       "      <td>2.385971</td>\n",
       "      <td>152.977541</td>\n",
       "      <td>0.419117</td>\n",
       "      <td>5.371457e+09</td>\n",
       "      <td>0.000000</td>\n",
       "      <td>0.367267</td>\n",
       "      <td>-0.002388</td>\n",
       "    </tr>\n",
       "    <tr>\n",
       "      <th>4</th>\n",
       "      <td>0.0</td>\n",
       "      <td>20161231.0</td>\n",
       "      <td>7177000.0</td>\n",
       "      <td>-6.183000e+06</td>\n",
       "      <td>-16890000.0</td>\n",
       "      <td>-4.823000e+06</td>\n",
       "      <td>3.916000e+06</td>\n",
       "      <td>3.149000e+06</td>\n",
       "      <td>0.0</td>\n",
       "      <td>-7.200000e+04</td>\n",
       "      <td>...</td>\n",
       "      <td>2.353128</td>\n",
       "      <td>2.942400e+07</td>\n",
       "      <td>0.903325</td>\n",
       "      <td>4.538526</td>\n",
       "      <td>80.422589</td>\n",
       "      <td>0.220336</td>\n",
       "      <td>7.572000e+06</td>\n",
       "      <td>0.000000</td>\n",
       "      <td>0.370623</td>\n",
       "      <td>6.116482</td>\n",
       "    </tr>\n",
       "  </tbody>\n",
       "</table>\n",
       "<p>5 rows × 30 columns</p>\n",
       "</div>"
      ],
      "text/plain": [
       "   fraud       ddate  AccountsReceivable          Cash  CashFlowfromOps  \\\n",
       "0    0.0  20161231.0         106756000.0  7.875000e+07        6504000.0   \n",
       "1    0.0  20161231.0         126000000.0  2.010000e+09       90000000.0   \n",
       "2    0.0  20161231.0         -57400000.0  5.735000e+08      525400000.0   \n",
       "3    0.0  20161231.0         182581000.0  8.456940e+08      130820000.0   \n",
       "4    0.0  20161231.0           7177000.0 -6.183000e+06      -16890000.0   \n",
       "\n",
       "   CurrentLiabilities  Depreciation      Expenses  IntangibleAssets  \\\n",
       "0        1.114280e+08  2.210870e+08  2.163510e+09               0.0   \n",
       "1        3.825000e+09  9.210000e+08  6.611000e+09       948000000.0   \n",
       "2        1.040000e+07  2.061000e+08  1.587700e+09               0.0   \n",
       "3        1.110608e+09  1.655981e+09  3.176400e+08               0.0   \n",
       "4       -4.823000e+06  3.916000e+06  3.149000e+06               0.0   \n",
       "\n",
       "   OtherCurrentAssets    ...     DebtToEquityRatio     NetIncome  \\\n",
       "0        4.751370e+08    ...              0.539227  6.440080e+08   \n",
       "1        2.048300e+10    ...              1.464384  3.287000e+09   \n",
       "2        1.100000e+08    ...              0.003057  2.948000e+08   \n",
       "3        1.490230e+09    ...              0.822055  1.179930e+08   \n",
       "4       -7.200000e+04    ...              2.353128  2.942400e+07   \n",
       "\n",
       "   ProfitMargin  ReceivableTurnover  CollectionRatio      DSRI   TotalAssets  \\\n",
       "0      0.229387           26.298456        13.879142  0.038025  1.139030e+09   \n",
       "1      0.332087           78.555556         4.646393  0.012730  2.617100e+10   \n",
       "2      0.156600          -32.796167       -11.129349 -0.030491  1.062500e+09   \n",
       "3      0.270854            2.385971       152.977541  0.419117  5.371457e+09   \n",
       "4      0.903325            4.538526        80.422589  0.220336  7.572000e+06   \n",
       "\n",
       "        AQI      DEPI      TATA  \n",
       "0  0.000000  0.316076  0.559690  \n",
       "1  0.036223  0.261277  0.122158  \n",
       "2  0.000000  0.320778 -0.217035  \n",
       "3  0.000000  0.367267 -0.002388  \n",
       "4  0.000000  0.370623  6.116482  \n",
       "\n",
       "[5 rows x 30 columns]"
      ]
     },
     "execution_count": 3,
     "metadata": {},
     "output_type": "execute_result"
    }
   ],
   "source": [
    "df = df.drop(['adsh'], axis=1)\n",
    "df.head()"
   ]
  },
  {
   "cell_type": "code",
   "execution_count": 4,
   "metadata": {},
   "outputs": [],
   "source": [
    "# Standardize data\n",
    "\n",
    "# from sklearn.preprocessing import StandardScaler\n",
    "# features = df.columns[2:]\n",
    "# X = df.loc[:, features].values\n",
    "# y = df.loc[:,['fraud']].values\n",
    "# from sklearn.preprocessing import StandardScaler\n",
    "# X = StandardScaler().fit_transform(X)\n",
    "# pd.DataFrame(data = X, columns = features).head()"
   ]
  },
  {
   "cell_type": "code",
   "execution_count": null,
   "metadata": {},
   "outputs": [],
   "source": []
  },
  {
   "cell_type": "markdown",
   "metadata": {},
   "source": [
    "# Regular Logistic Regression"
   ]
  },
  {
   "cell_type": "code",
   "execution_count": 4,
   "metadata": {},
   "outputs": [
    {
     "name": "stdout",
     "output_type": "stream",
     "text": [
      "0.8682851239669421\n"
     ]
    }
   ],
   "source": [
    "from sklearn.linear_model import LogisticRegression\n",
    "from sklearn.metrics import accuracy_score\n",
    "\n",
    "y = df.fraud\n",
    "X = df.drop(['fraud'], axis=1)\n",
    " \n",
    "# Train model\n",
    "clf_0 = LogisticRegression().fit(X, y)\n",
    " \n",
    "# Predict on training set\n",
    "pred_y_0 = clf_0.predict(X)\n",
    "\n",
    "print( accuracy_score(pred_y_0, y) )"
   ]
  },
  {
   "cell_type": "code",
   "execution_count": null,
   "metadata": {},
   "outputs": [],
   "source": [
    "# fpr, tpr, thresholds = metrics.roc_curve(Y_test, Yhat, pos_label=1)\n",
    "# auc = metrics.auc(fpr, tpr)\n",
    "# f1 = metrics.f1_score(Y_test, Yhat, pos_label=1)"
   ]
  },
  {
   "cell_type": "code",
   "execution_count": 5,
   "metadata": {},
   "outputs": [
    {
     "name": "stdout",
     "output_type": "stream",
     "text": [
      "[0. 1.]\n"
     ]
    }
   ],
   "source": [
    "import numpy as np\n",
    "print(np.unique( pred_y_0 ) )"
   ]
  },
  {
   "cell_type": "markdown",
   "metadata": {},
   "source": [
    "# 1. Up-sample Minority Class"
   ]
  },
  {
   "cell_type": "code",
   "execution_count": 7,
   "metadata": {},
   "outputs": [
    {
     "data": {
      "text/plain": [
       "1.0    5069\n",
       "0.0    5069\n",
       "Name: fraud, dtype: int64"
      ]
     },
     "execution_count": 7,
     "metadata": {},
     "output_type": "execute_result"
    }
   ],
   "source": [
    "from sklearn.utils import resample\n",
    "\n",
    "# Separate majority and minority classes\n",
    "df_majority = df[df.fraud==0]\n",
    "df_minority = df[df.fraud==1]\n",
    " \n",
    "# Upsample minority class\n",
    "df_minority_upsampled = resample(df_minority, \n",
    "                                 replace=True,     # sample with replacement\n",
    "                                 n_samples=5069,    # to match majority class\n",
    "                                 random_state=123) # reproducible results\n",
    " \n",
    "# Combine majority class with upsampled minority class\n",
    "df_upsampled = pd.concat([df_majority, df_minority_upsampled])\n",
    " \n",
    "# Display new class counts\n",
    "df_upsampled.fraud.value_counts()\n",
    "# 1    576\n",
    "# 0    576\n",
    "# Name: balance, dtype: int64"
   ]
  },
  {
   "cell_type": "markdown",
   "metadata": {},
   "source": [
    "## Train another model using Logistic Regression, this time on the balanced dataset:"
   ]
  },
  {
   "cell_type": "code",
   "execution_count": 8,
   "metadata": {},
   "outputs": [
    {
     "name": "stdout",
     "output_type": "stream",
     "text": [
      "[0. 1.]\n",
      "0.6153087393963307\n"
     ]
    }
   ],
   "source": [
    "# Separate input features (X) and target variable (y)\n",
    "y = df_upsampled.fraud\n",
    "X = df_upsampled.drop('fraud', axis=1)\n",
    " \n",
    "# Train model\n",
    "clf_1 = LogisticRegression().fit(X, y)\n",
    " \n",
    "# Predict on training set\n",
    "pred_y_1 = clf_1.predict(X)\n",
    " \n",
    "# Is our model still predicting just one class?\n",
    "print( np.unique( pred_y_1 ) )\n",
    "# [0 1]\n",
    " \n",
    "# How's our accuracy?\n",
    "print( accuracy_score(y, pred_y_1) )\n",
    "# 0.513888888889 #While the accuracy also took a nosedive, it's now more meaningful as a performance metric."
   ]
  },
  {
   "cell_type": "markdown",
   "metadata": {},
   "source": [
    "# 2. Down-sample Majority Class\n",
    "\n",
    "- Down-sampling involves randomly removing observations from the majority class to prevent its signal from dominating the learning algorithm."
   ]
  },
  {
   "cell_type": "code",
   "execution_count": 9,
   "metadata": {},
   "outputs": [
    {
     "data": {
      "text/plain": [
       "1.0    739\n",
       "0.0    739\n",
       "Name: fraud, dtype: int64"
      ]
     },
     "execution_count": 9,
     "metadata": {},
     "output_type": "execute_result"
    }
   ],
   "source": [
    "df_majority = df[df.fraud==0]\n",
    "df_minority = df[df.fraud==1]\n",
    " \n",
    "# Downsample majority class\n",
    "df_majority_downsampled = resample(df_majority, \n",
    "                                 replace=False,    # sample without replacement\n",
    "                                 n_samples=739,     # to match minority class\n",
    "                                 random_state=123) # reproducible results\n",
    " \n",
    "# Combine minority class with downsampled majority class\n",
    "df_downsampled = pd.concat([df_majority_downsampled, df_minority])\n",
    " \n",
    "# Display new class counts\n",
    "df_downsampled.fraud.value_counts()"
   ]
  },
  {
   "cell_type": "markdown",
   "metadata": {},
   "source": [
    "## Train another model using Logistic Regression, this time on the balanced dataset:"
   ]
  },
  {
   "cell_type": "code",
   "execution_count": 10,
   "metadata": {},
   "outputs": [
    {
     "name": "stdout",
     "output_type": "stream",
     "text": [
      "[0. 1.]\n",
      "0.6447902571041949\n"
     ]
    }
   ],
   "source": [
    "y = df_downsampled.fraud\n",
    "X = df_downsampled.drop('fraud', axis=1)\n",
    " \n",
    "# Train model\n",
    "clf_2 = LogisticRegression().fit(X, y)\n",
    " \n",
    "# Predict on training set\n",
    "pred_y_2 = clf_2.predict(X)\n",
    " \n",
    "# Is our model still predicting just one class?\n",
    "print(np.unique( pred_y_2 ) )\n",
    "# [0 1]\n",
    " \n",
    "# How's our accuracy?\n",
    "print( accuracy_score(y, pred_y_2) )\n",
    "# 0.581632653061"
   ]
  },
  {
   "cell_type": "markdown",
   "metadata": {},
   "source": [
    "# 3. Change Your Performance Metric"
   ]
  },
  {
   "cell_type": "code",
   "execution_count": 11,
   "metadata": {},
   "outputs": [
    {
     "data": {
      "text/plain": [
       "[0.5245062342828549,\n",
       " 0.5246774991737648,\n",
       " 0.5240541185230198,\n",
       " 0.5228002557575483,\n",
       " 0.5241987405971296]"
      ]
     },
     "execution_count": 11,
     "metadata": {},
     "output_type": "execute_result"
    }
   ],
   "source": [
    "from sklearn.metrics import roc_auc_score\n",
    "\n",
    "# Predict class probabilities\n",
    "prob_y_2 = clf_2.predict_proba(X)\n",
    " \n",
    "# Keep only the positive class\n",
    "prob_y_2 = [p[1] for p in prob_y_2]\n",
    " \n",
    "prob_y_2[:5] "
   ]
  },
  {
   "cell_type": "code",
   "execution_count": 12,
   "metadata": {},
   "outputs": [
    {
     "name": "stdout",
     "output_type": "stream",
     "text": [
      "0.7039721966377415\n"
     ]
    }
   ],
   "source": [
    "\n",
    "print( roc_auc_score(y, prob_y_2) )"
   ]
  },
  {
   "cell_type": "code",
   "execution_count": 13,
   "metadata": {},
   "outputs": [
    {
     "name": "stdout",
     "output_type": "stream",
     "text": [
      "0.6878127740921884\n"
     ]
    }
   ],
   "source": [
    "#VS the original model trained on the imbalanced dataset\n",
    "prob_y_0 = clf_0.predict_proba(X)\n",
    "prob_y_0 = [p[1] for p in prob_y_0]\n",
    " \n",
    "print( roc_auc_score(y, prob_y_0) )"
   ]
  },
  {
   "cell_type": "markdown",
   "metadata": {},
   "source": [
    "# 4. Penalize Algorithms (Cost-Sensitive Training)"
   ]
  },
  {
   "cell_type": "code",
   "execution_count": null,
   "metadata": {},
   "outputs": [],
   "source": [
    "from sklearn.svm import SVC\n",
    "y = df.fraud\n",
    "X = df.drop('fraud', axis=1)\n",
    " \n",
    "# Train model\n",
    "clf_3 = SVC(kernel='linear', \n",
    "            class_weight='balanced', # penalize\n",
    "            probability=True)\n",
    " \n",
    "clf_3.fit(X, y)\n",
    " \n",
    "# Predict on training set\n",
    "pred_y_3 = clf_3.predict(X)\n",
    " \n",
    "# Is our model still predicting just one class?\n",
    "print( np.unique( pred_y_3 ) )\n",
    "# [0 1]\n",
    " \n",
    "# How's our accuracy?\n",
    "print( accuracy_score(y, pred_y_3) )\n",
    "# 0.688\n",
    " \n",
    "# What about AUROC?\n",
    "prob_y_3 = clf_3.predict_proba(X)\n",
    "prob_y_3 = [p[1] for p in prob_y_3]\n",
    "print( roc_auc_score(y, prob_y_3) )"
   ]
  },
  {
   "cell_type": "markdown",
   "metadata": {},
   "source": [
    "# 5. Use Tree-Based Algorithms"
   ]
  },
  {
   "cell_type": "code",
   "execution_count": 14,
   "metadata": {},
   "outputs": [
    {
     "name": "stdout",
     "output_type": "stream",
     "text": [
      "[0. 1.]\n",
      "1.0\n",
      "1.0\n"
     ]
    }
   ],
   "source": [
    "from sklearn.ensemble import RandomForestClassifier\n",
    "# Separate input features (X) and target variable (y)\n",
    "y = df.fraud\n",
    "X = df.drop('fraud', axis=1)\n",
    " \n",
    "# Train model\n",
    "clf_4 = RandomForestClassifier()\n",
    "clf_4.fit(X, y)\n",
    " \n",
    "# Predict on training set\n",
    "pred_y_4 = clf_4.predict(X)\n",
    " \n",
    "# Is our model still predicting just one class?\n",
    "print( np.unique( pred_y_4 ) )\n",
    "# [0 1]\n",
    " \n",
    "# How's our accuracy?\n",
    "print( accuracy_score(y, pred_y_4) )\n",
    "# 0.9744\n",
    " \n",
    "# What about AUROC?\n",
    "prob_y_4 = clf_4.predict_proba(X)\n",
    "prob_y_4 = [p[1] for p in prob_y_4]\n",
    "print( roc_auc_score(y, prob_y_4) )\n",
    "# 0.999078798186"
   ]
  },
  {
   "cell_type": "code",
   "execution_count": 19,
   "metadata": {},
   "outputs": [
    {
     "ename": "NotFittedError",
     "evalue": "This RandomForestClassifier instance is not fitted yet. Call 'fit' with appropriate arguments before using this method.",
     "output_type": "error",
     "traceback": [
      "\u001b[0;31m---------------------------------------------------------------------------\u001b[0m",
      "\u001b[0;31mNotFittedError\u001b[0m                            Traceback (most recent call last)",
      "\u001b[0;32m<ipython-input-19-7da6b4002aba>\u001b[0m in \u001b[0;36m<module>\u001b[0;34m\u001b[0m\n\u001b[1;32m      2\u001b[0m \u001b[0;32mfrom\u001b[0m \u001b[0msklearn\u001b[0m\u001b[0;34m.\u001b[0m\u001b[0mtree\u001b[0m \u001b[0;32mimport\u001b[0m \u001b[0mexport_graphviz\u001b[0m\u001b[0;34m\u001b[0m\u001b[0;34m\u001b[0m\u001b[0m\n\u001b[1;32m      3\u001b[0m \u001b[0mdot_data\u001b[0m \u001b[0;34m=\u001b[0m \u001b[0mStringIO\u001b[0m\u001b[0;34m(\u001b[0m\u001b[0;34m)\u001b[0m\u001b[0;34m\u001b[0m\u001b[0;34m\u001b[0m\u001b[0m\n\u001b[0;32m----> 4\u001b[0;31m \u001b[0mexport_graphviz\u001b[0m\u001b[0;34m(\u001b[0m\u001b[0mclf_4\u001b[0m\u001b[0;34m,\u001b[0m \u001b[0mout_file\u001b[0m\u001b[0;34m=\u001b[0m\u001b[0mdot_data\u001b[0m\u001b[0;34m,\u001b[0m \u001b[0mfilled\u001b[0m\u001b[0;34m=\u001b[0m\u001b[0;32mTrue\u001b[0m\u001b[0;34m,\u001b[0m \u001b[0mrounded\u001b[0m\u001b[0;34m=\u001b[0m\u001b[0;32mTrue\u001b[0m\u001b[0;34m,\u001b[0m\u001b[0mspecial_characters\u001b[0m\u001b[0;34m=\u001b[0m\u001b[0;32mTrue\u001b[0m\u001b[0;34m)\u001b[0m\u001b[0;34m\u001b[0m\u001b[0;34m\u001b[0m\u001b[0m\n\u001b[0m\u001b[1;32m      5\u001b[0m \u001b[0mgraph\u001b[0m \u001b[0;34m=\u001b[0m \u001b[0mpydotplus\u001b[0m\u001b[0;34m.\u001b[0m\u001b[0mgraph_from_dot_data\u001b[0m\u001b[0;34m(\u001b[0m\u001b[0mdot_data\u001b[0m\u001b[0;34m.\u001b[0m\u001b[0mgetvalue\u001b[0m\u001b[0;34m(\u001b[0m\u001b[0;34m)\u001b[0m\u001b[0;34m)\u001b[0m\u001b[0;34m\u001b[0m\u001b[0;34m\u001b[0m\u001b[0m\n\u001b[1;32m      6\u001b[0m \u001b[0mImage\u001b[0m\u001b[0;34m(\u001b[0m\u001b[0mgraph\u001b[0m\u001b[0;34m.\u001b[0m\u001b[0mcreate_png\u001b[0m\u001b[0;34m(\u001b[0m\u001b[0;34m)\u001b[0m\u001b[0;34m)\u001b[0m\u001b[0;34m\u001b[0m\u001b[0;34m\u001b[0m\u001b[0m\n",
      "\u001b[0;32m/anaconda3/lib/python3.6/site-packages/sklearn/tree/export.py\u001b[0m in \u001b[0;36mexport_graphviz\u001b[0;34m(decision_tree, out_file, max_depth, feature_names, class_names, label, filled, leaves_parallel, impurity, node_ids, proportion, rotate, rounded, special_characters, precision)\u001b[0m\n\u001b[1;32m    394\u001b[0m                 \u001b[0mout_file\u001b[0m\u001b[0;34m.\u001b[0m\u001b[0mwrite\u001b[0m\u001b[0;34m(\u001b[0m\u001b[0;34m'%d -> %d ;\\n'\u001b[0m \u001b[0;34m%\u001b[0m \u001b[0;34m(\u001b[0m\u001b[0mparent\u001b[0m\u001b[0;34m,\u001b[0m \u001b[0mnode_id\u001b[0m\u001b[0;34m)\u001b[0m\u001b[0;34m)\u001b[0m\u001b[0;34m\u001b[0m\u001b[0;34m\u001b[0m\u001b[0m\n\u001b[1;32m    395\u001b[0m \u001b[0;34m\u001b[0m\u001b[0m\n\u001b[0;32m--> 396\u001b[0;31m     \u001b[0mcheck_is_fitted\u001b[0m\u001b[0;34m(\u001b[0m\u001b[0mdecision_tree\u001b[0m\u001b[0;34m,\u001b[0m \u001b[0;34m'tree_'\u001b[0m\u001b[0;34m)\u001b[0m\u001b[0;34m\u001b[0m\u001b[0;34m\u001b[0m\u001b[0m\n\u001b[0m\u001b[1;32m    397\u001b[0m     \u001b[0mown_file\u001b[0m \u001b[0;34m=\u001b[0m \u001b[0;32mFalse\u001b[0m\u001b[0;34m\u001b[0m\u001b[0;34m\u001b[0m\u001b[0m\n\u001b[1;32m    398\u001b[0m     \u001b[0mreturn_string\u001b[0m \u001b[0;34m=\u001b[0m \u001b[0;32mFalse\u001b[0m\u001b[0;34m\u001b[0m\u001b[0;34m\u001b[0m\u001b[0m\n",
      "\u001b[0;32m/anaconda3/lib/python3.6/site-packages/sklearn/utils/validation.py\u001b[0m in \u001b[0;36mcheck_is_fitted\u001b[0;34m(estimator, attributes, msg, all_or_any)\u001b[0m\n\u001b[1;32m    949\u001b[0m \u001b[0;34m\u001b[0m\u001b[0m\n\u001b[1;32m    950\u001b[0m     \u001b[0;32mif\u001b[0m \u001b[0;32mnot\u001b[0m \u001b[0mall_or_any\u001b[0m\u001b[0;34m(\u001b[0m\u001b[0;34m[\u001b[0m\u001b[0mhasattr\u001b[0m\u001b[0;34m(\u001b[0m\u001b[0mestimator\u001b[0m\u001b[0;34m,\u001b[0m \u001b[0mattr\u001b[0m\u001b[0;34m)\u001b[0m \u001b[0;32mfor\u001b[0m \u001b[0mattr\u001b[0m \u001b[0;32min\u001b[0m \u001b[0mattributes\u001b[0m\u001b[0;34m]\u001b[0m\u001b[0;34m)\u001b[0m\u001b[0;34m:\u001b[0m\u001b[0;34m\u001b[0m\u001b[0;34m\u001b[0m\u001b[0m\n\u001b[0;32m--> 951\u001b[0;31m         \u001b[0;32mraise\u001b[0m \u001b[0mNotFittedError\u001b[0m\u001b[0;34m(\u001b[0m\u001b[0mmsg\u001b[0m \u001b[0;34m%\u001b[0m \u001b[0;34m{\u001b[0m\u001b[0;34m'name'\u001b[0m\u001b[0;34m:\u001b[0m \u001b[0mtype\u001b[0m\u001b[0;34m(\u001b[0m\u001b[0mestimator\u001b[0m\u001b[0;34m)\u001b[0m\u001b[0;34m.\u001b[0m\u001b[0m__name__\u001b[0m\u001b[0;34m}\u001b[0m\u001b[0;34m)\u001b[0m\u001b[0;34m\u001b[0m\u001b[0;34m\u001b[0m\u001b[0m\n\u001b[0m\u001b[1;32m    952\u001b[0m \u001b[0;34m\u001b[0m\u001b[0m\n\u001b[1;32m    953\u001b[0m \u001b[0;34m\u001b[0m\u001b[0m\n",
      "\u001b[0;31mNotFittedError\u001b[0m: This RandomForestClassifier instance is not fitted yet. Call 'fit' with appropriate arguments before using this method."
     ]
    }
   ],
   "source": [
    "from sklearn.externals.six import StringIO\n",
    "from sklearn.tree import export_graphviz\n",
    "dot_data = StringIO()\n",
    "export_graphviz(clf_4, out_file=dot_data, filled=True, rounded=True,special_characters=True)\n",
    "graph = pydotplus.graph_from_dot_data(dot_data.getvalue())  \n",
    "Image(graph.create_png())"
   ]
  },
  {
   "cell_type": "code",
   "execution_count": null,
   "metadata": {},
   "outputs": [],
   "source": []
  }
 ],
 "metadata": {
  "kernelspec": {
   "display_name": "Python 3",
   "language": "python",
   "name": "python3"
  },
  "language_info": {
   "codemirror_mode": {
    "name": "ipython",
    "version": 3
   },
   "file_extension": ".py",
   "mimetype": "text/x-python",
   "name": "python",
   "nbconvert_exporter": "python",
   "pygments_lexer": "ipython3",
   "version": "3.6.7"
  }
 },
 "nbformat": 4,
 "nbformat_minor": 2
}
